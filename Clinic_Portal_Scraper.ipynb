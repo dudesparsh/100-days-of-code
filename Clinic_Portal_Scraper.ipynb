{
  "nbformat": 4,
  "nbformat_minor": 0,
  "metadata": {
    "colab": {
      "name": "Clinic Portal Scraper.ipynb",
      "provenance": [],
      "collapsed_sections": [],
      "authorship_tag": "ABX9TyOio3RSPp5OFFOf6Sv9C0cP",
      "include_colab_link": true
    },
    "kernelspec": {
      "name": "python3",
      "display_name": "Python 3"
    }
  },
  "cells": [
    {
      "cell_type": "markdown",
      "metadata": {
        "id": "view-in-github",
        "colab_type": "text"
      },
      "source": [
        "<a href=\"https://colab.research.google.com/github/dudesparsh/100-days-of-code/blob/master/Clinic_Portal_Scraper.ipynb\" target=\"_parent\"><img src=\"https://colab.research.google.com/assets/colab-badge.svg\" alt=\"Open In Colab\"/></a>"
      ]
    },
    {
      "cell_type": "code",
      "metadata": {
        "id": "fOxZlX48I1zt"
      },
      "source": [
        "import requests\n",
        "from bs4 import BeautifulSoup\n",
        "import pandas as pd"
      ],
      "execution_count": null,
      "outputs": []
    },
    {
      "cell_type": "code",
      "metadata": {
        "id": "gfsKfpEwJbJb"
      },
      "source": [
        "def get_clinic_name(clinic_id):\n",
        "  url = f'https://{clinic_id}.portal.athenahealth.com/'\n",
        "  response = requests.get(url)\n",
        "  html = response.text\n",
        "  soup = BeautifulSoup(html, 'html.parser')\n",
        "  clinic_name = soup.find_all('h1')[-1].text.strip()\n",
        "  return clinic_name"
      ],
      "execution_count": null,
      "outputs": []
    },
    {
      "cell_type": "code",
      "metadata": {
        "id": "Ytw76Y9QJff9",
        "colab": {
          "base_uri": "https://localhost:8080/",
          "height": 35
        },
        "outputId": "0f8552ba-e6d1-44f1-d4e7-7aa72f9b30ed"
      },
      "source": [
        "get_clinic_name(12696)"
      ],
      "execution_count": null,
      "outputs": [
        {
          "output_type": "execute_result",
          "data": {
            "application/vnd.google.colaboratory.intrinsic": {
              "type": "string"
            },
            "text/plain": [
              "\"Women's CenterforIntegrative Health\""
            ]
          },
          "metadata": {
            "tags": []
          },
          "execution_count": 12
        }
      ]
    },
    {
      "cell_type": "code",
      "metadata": {
        "id": "mDtTtuiTJj6d"
      },
      "source": [
        "start = 12690\n",
        "end = 12710"
      ],
      "execution_count": null,
      "outputs": []
    },
    {
      "cell_type": "code",
      "metadata": {
        "id": "mkJcyxGIJkq9",
        "colab": {
          "base_uri": "https://localhost:8080/",
          "height": 255
        },
        "outputId": "52776492-27da-4342-be7e-3f01babb13aa"
      },
      "source": [
        "master_list = []\n",
        "for clinic_id in range(start,end):\n",
        "  data_dict = {}\n",
        "  data_dict['clinic_id'] = clinic_id\n",
        "  data_dict['clinic_name'] = get_clinic_name(clinic_id)\n",
        "  if data_dict['clinic_name'] != 'Payment Confirmation' and data_dict['clinic_name'] !=\"Sorry, we can't find that practice. Make sure you typed the right address.\":\n",
        "    master_list.append(data_dict)\n",
        "    print(clinic_id)\n",
        "  #get_clinic_name(clinic_id)"
      ],
      "execution_count": null,
      "outputs": [
        {
          "output_type": "stream",
          "text": [
            "12691\n",
            "12693\n",
            "12694\n",
            "12695\n",
            "12696\n",
            "12697\n",
            "12702\n",
            "12703\n",
            "12704\n",
            "12705\n",
            "12706\n",
            "12707\n",
            "12708\n",
            "12709\n"
          ],
          "name": "stdout"
        }
      ]
    },
    {
      "cell_type": "code",
      "metadata": {
        "id": "8TpN0bfsJrYV",
        "colab": {
          "base_uri": "https://localhost:8080/",
          "height": 272
        },
        "outputId": "85aba2f4-8d8e-42b9-c8ef-2722e6f474bd"
      },
      "source": [
        "master_list"
      ],
      "execution_count": null,
      "outputs": [
        {
          "output_type": "execute_result",
          "data": {
            "text/plain": [
              "[{'clinic_id': 12691, 'clinic_name': 'Ergomedica'},\n",
              " {'clinic_id': 12693, 'clinic_name': 'Altamonte Family Practice'},\n",
              " {'clinic_id': 12694, 'clinic_name': 'Open Health Care Clinic'},\n",
              " {'clinic_id': 12695, 'clinic_name': 'Dr. Richard Handelsman'},\n",
              " {'clinic_id': 12696, 'clinic_name': \"Women's CenterforIntegrative Health\"},\n",
              " {'clinic_id': 12697, 'clinic_name': 'Eastern Urological Associates'},\n",
              " {'clinic_id': 12702, 'clinic_name': 'Chand Rohatgi MD'},\n",
              " {'clinic_id': 12703, 'clinic_name': ''},\n",
              " {'clinic_id': 12704, 'clinic_name': 'Volunteer Healthcare Clinic'},\n",
              " {'clinic_id': 12705, 'clinic_name': 'Christ Clinic'},\n",
              " {'clinic_id': 12706, 'clinic_name': 'Olga Joukovski, MD, PA'},\n",
              " {'clinic_id': 12707, 'clinic_name': 'Restore Health Clinic'},\n",
              " {'clinic_id': 12708,\n",
              "  'clinic_name': 'STUART L. SILVERMAN, M.D., A MEDICAL CORPORATION'},\n",
              " {'clinic_id': 12709, 'clinic_name': 'George E. Weems Clinics'}]"
            ]
          },
          "metadata": {
            "tags": []
          },
          "execution_count": 20
        }
      ]
    },
    {
      "cell_type": "code",
      "metadata": {
        "id": "hjgFNC-ZMZMH"
      },
      "source": [
        "df = pd.DataFrame(master_list)"
      ],
      "execution_count": null,
      "outputs": []
    },
    {
      "cell_type": "code",
      "metadata": {
        "id": "JEHV6_hTMZYq"
      },
      "source": [
        "df.to_csv('clinic.csv')"
      ],
      "execution_count": null,
      "outputs": []
    },
    {
      "cell_type": "code",
      "metadata": {
        "id": "B0RAjXy5KJlS"
      },
      "source": [
        "Video : https://www.youtube.com/watch?v=awoEELnQzVg"
      ],
      "execution_count": null,
      "outputs": []
    }
  ]
}