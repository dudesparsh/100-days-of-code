{
  "nbformat": 4,
  "nbformat_minor": 0,
  "metadata": {
    "colab": {
      "name": "Capterra Scraper.ipynb",
      "provenance": [],
      "authorship_tag": "ABX9TyMlO3SFKU4vF3Lduc4yjw/w",
      "include_colab_link": true
    },
    "kernelspec": {
      "name": "python3",
      "display_name": "Python 3"
    }
  },
  "cells": [
    {
      "cell_type": "markdown",
      "metadata": {
        "id": "view-in-github",
        "colab_type": "text"
      },
      "source": [
        "<a href=\"https://colab.research.google.com/github/dudesparsh/100-days-of-code/blob/master/Capterra_Scraper.ipynb\" target=\"_parent\"><img src=\"https://colab.research.google.com/assets/colab-badge.svg\" alt=\"Open In Colab\"/></a>"
      ]
    },
    {
      "cell_type": "code",
      "metadata": {
        "id": "QvGk5E13UUlN"
      },
      "source": [
        "#press ctrl+shift+p and open shell to install dependencies - Repl\n",
        "import requests\n",
        "from bs4 import BeautifulSoup\n",
        "import pandas as pd\n",
        "import re\n"
      ],
      "execution_count": null,
      "outputs": []
    },
    {
      "cell_type": "code",
      "metadata": {
        "id": "LG9LJJLaX0Xy"
      },
      "source": [
        "import requests\n",
        "\n",
        "headers = {\n",
        "    'authority': 'www.capterra.com',\n",
        "    'user-agent': 'Mozilla/5.0 (X11; Linux x86_64) AppleWebKit/537.36 (KHTML, like Gecko) Chrome/83.0.4103.106 Safari/537.36',\n",
        "    'dnt': '1',\n",
        "    'accept': '*/*',\n",
        "    'sec-fetch-site': 'same-origin',\n",
        "    'sec-fetch-mode': 'cors',\n",
        "    'sec-fetch-dest': 'empty',\n",
        "    'referer': 'https://www.capterra.com/p/176578/oorwinHIRE/',\n",
        "    'accept-language': 'en-GB,en-US;q=0.9,en;q=0.8',\n",
        "    'cookie': 'device=Desktop; country_code=IN; returning_user=2020-06-27+14%3A40%3A13+-0400; expriment_returning_users=ORIGINAL; uw_authcta=B; _csrf_token=dmRNeU9PN0tBN3dCYkJWM3puRm5YaGtKd3hkY1dheTl5R1dta21EK0RLc3ZKd3dHc3FvTnFOK0lXRXh0a3dlcy0tZWQ2RXhTV3B6WC9LT2w0MVVPTDNkUT09--e99bdbfce2af64f0f812287c0209eb0611f059d9; _capterra2_session=276d5233182b99a4162387fbfaa0126e; _ga=GA1.2.1377605174.1593283216; _gid=GA1.2.1923531662.1593283216; _gcl_au=1.1.11771069.1593283216; _pxvid=a6bce165-b8a5-11ea-a497-0242ac120006; _hjid=076a3780-6664-48a3-a8a4-0e4ec75614aa; _fbp=fb.1.1593283220429.1878028933; _hjIncludedInSample=1; _omappvp=iYDKjhsLbeyJDEaqlWuIivYOEi2sS9PW45rHPzHUjbZLQIb1UUKy0QAAN54gg4oRQiF4ytYDx6yByCbIFfW9Q2Mf56hTsVXd; countrycode=IN; _mkto_trk=id:882-NZG-493&token:_mch-capterra.com-1593283354328-86834; variant=; experiment_filters=B; _gat_UA-126190-1=1; _uetsid=8b8683f1-cb82-4a68-59ff-5ab54409389f; _uetvid=adbf3c39-48d7-f0af-74c3-233462a30bc0; OptanonConsent=isIABGlobal=false&datestamp=Sun+Jun+28+2020+01%3A29%3A42+GMT%2B0530+(India+Standard+Time)&version=5.12.0&landingPath=NotLandingPage&groups=1%3A1%2C2%3A1%2C3%3A1%2C4%3A1%2C0_257632%3A1%2C0_257630%3A1%2C0_257631%3A1%2C0_257629%3A1%2C101%3A1%2C102%3A1%2C103%3A1%2C104%3A1%2C105%3A1%2C106%3A1%2C107%3A1%2C108%3A1%2C109%3A1&AwaitingReconsent=false; _pxff_axt=540; _pxff_wa=1,702; _gat=1; _px3=d9320d30a01b2d05b25012f4cf0a62fdb77acf03b2e20349ffe082462bf1f34b:WQOfmviagOq8MhsitYQ5bX3j7Sth/yntn2u/I7WnlDEcR9XHZHs2PpNFvSlLm8UtfV9TE2fWZopx7N4sbFDBkg==:1000:zybZHMeKW7SECQl/JDnaA+7dsmHyNF/TI6NIVSVnQUZ5iPS5v2/DQ20yRF41uYm8cA0TSJBX4wlhLu+I4xJYiVskpSmLHDx6Aud7N9K85vkCgcRNeoApFQkVC7y8Qr7flnyN6yi+R3tLNOuA5jBh7++T4Mxoyo/pZhj8aHjGPAY=',\n",
        "}\n",
        "\n",
        "response = requests.get('https://www.capterra.com/p/176578/oorwinHIRE/', headers=headers)\n"
      ],
      "execution_count": null,
      "outputs": []
    },
    {
      "cell_type": "code",
      "metadata": {
        "id": "1dPwt7R4VHwF"
      },
      "source": [
        "# req = requests.get(str, headers)\n",
        "soup = BeautifulSoup(response.content, 'html.parser')"
      ],
      "execution_count": null,
      "outputs": []
    },
    {
      "cell_type": "code",
      "metadata": {
        "id": "CSp4olDXYbVv",
        "colab": {
          "base_uri": "https://localhost:8080/",
          "height": 35
        },
        "outputId": "4ea8d18f-44f5-47c4-9160-32a89eb28c64"
      },
      "source": [
        "title"
      ],
      "execution_count": null,
      "outputs": [
        {
          "output_type": "execute_result",
          "data": {
            "application/vnd.google.colaboratory.intrinsic": {
              "type": "string"
            },
            "text/plain": [
              "'Oorwin'"
            ]
          },
          "metadata": {
            "tags": []
          },
          "execution_count": 21
        }
      ]
    },
    {
      "cell_type": "code",
      "metadata": {
        "id": "PekP5UNnYnfu",
        "colab": {
          "base_uri": "https://localhost:8080/",
          "height": 35
        },
        "outputId": "2e06b518-4b89-4179-ed08-fd849d0f1cf1"
      },
      "source": [
        "ratings"
      ],
      "execution_count": null,
      "outputs": [
        {
          "output_type": "execute_result",
          "data": {
            "application/vnd.google.colaboratory.intrinsic": {
              "type": "string"
            },
            "text/plain": [
              "'4.7/5'"
            ]
          },
          "metadata": {
            "tags": []
          },
          "execution_count": 25
        }
      ]
    },
    {
      "cell_type": "code",
      "metadata": {
        "id": "9eQNUiKtZE3n",
        "colab": {
          "base_uri": "https://localhost:8080/",
          "height": 54
        },
        "outputId": "3da44de9-cb03-45a5-b48b-ac805541ed98"
      },
      "source": [
        "alter"
      ],
      "execution_count": null,
      "outputs": [
        {
          "output_type": "execute_result",
          "data": {
            "text/plain": [
              "<div class=\"Wrappers__SliderWrapper-sc-1qgqzuv-1 bJByaz\" height=\"344\"><div class=\"CarouselContainer__Container-ppyqxc-0 fXBIM\" direction=\"next\"><div class=\"CarouselItem__Item-ise43b-0 kQuVhJ\" height=\"344\" style=\"left:0px\" width=\"263\"><div class=\"AlternativeProductCard__Root-sc-6dc4ji-0 kyeAKr\"><div class=\"ProductComparisonCardHeader__Header-otlynz-1 dKoOPY\"><a alt=\"\" class=\"ProductComparisonCardHeader__ThumbnailContainer-otlynz-4 kaeVga Thumbnail__A-sc-1xvq2zk-3 gguDbn\" href=\"/p/162969/HR4Dealers/\" src=\"https://cdn0.capterra-static.com/logos/150/2113842-1495114637.png\"><img alt=\"\" class=\"Thumbnail__Image-sc-1xvq2zk-0 idhssu\" src=\"https://cdn0.capterra-static.com/logos/150/2113842-1495114637.png\"/></a><div class=\"ProductComparisonCardHeader__CompanyProductDiv-otlynz-2 kXTfQm\"><a class=\"Link__StyledStandardLink-sc-1xhgva3-0 hOvMtD\" href=\"/p/162969/HR4Dealers/\" target=\"_self\"><div class=\"ProductComparisonCardHeader__ProductHeading-otlynz-3 kEqxFE\" title=\"HR4Dealers\">HR4Dealers</div></a><div class=\"ProductComparisonCardHeader__MilliGrayText-otlynz-0 TVaLH\">by<!-- --> <!-- -->The Minery</div></div></div><a class=\"Link__StyledStandardLink-sc-1xhgva3-0 hOvMtD\" href=\"/p/162969/HR4Dealers/#reviews\" target=\"_self\"><div class=\"ProductComparisonRating__RatingContainer-qghrv-0 kMclgi\"><div class=\"StarRating__Root-sc-9jwzgg-0 bQJsCF\"><div class=\"Star__StarBackgroundImage-sc-1moksxx-0 bTkUmn\" color=\"#FF9D28\"></div><div class=\"Star__StarBackgroundImage-sc-1moksxx-0 bTkUmn\" color=\"#FF9D28\"></div><div class=\"Star__StarBackgroundImage-sc-1moksxx-0 bTkUmn\" color=\"#FF9D28\"></div><div class=\"Star__StarBackgroundImage-sc-1moksxx-0 bTkUmn\" color=\"#FF9D28\"></div><div class=\"Star__StarBackgroundImage-sc-1moksxx-0 bTkUmn\" color=\"#FF9D28\"></div><div class=\"StarRating__Rating-sc-9jwzgg-1 cAGyvf\" font-size=\"16px\">0/5</div><span class=\"ProductComparisonRating__Count-qghrv-1 mrbSu\">(0)</span></div></div></a><span class=\"AlternativeProductDescription__Description-sc-7ul2h-0 gUfSHG\"><span class=\"AlternativeProductDescription__DescriptionHeading-sc-7ul2h-1 loPooF\">Best For: </span> <!-- -->HR4Dealer's suite of customizable apps have been designed and developed exclusively for dealers with dealer input, and are proven to increase efficiency, communication, and performance throughout.</span></div></div><div class=\"CarouselItem__Item-ise43b-0 kQuVhJ\" height=\"344\" style=\"left:287px\" width=\"263\"><div class=\"AlternativeProductCard__Root-sc-6dc4ji-0 kyeAKr\"><div class=\"ProductComparisonCardHeader__Header-otlynz-1 dKoOPY\"><a alt=\"\" class=\"ProductComparisonCardHeader__ThumbnailContainer-otlynz-4 kaeVga Thumbnail__A-sc-1xvq2zk-3 gguDbn\" href=\"/p/160996/BizRun/\" src=\"https://cdn0.capterra-static.com/logos/150/2112595-1497638002.png\"><img alt=\"\" class=\"Thumbnail__Image-sc-1xvq2zk-0 idhssu\" src=\"https://cdn0.capterra-static.com/logos/150/2112595-1497638002.png\"/></a><div class=\"ProductComparisonCardHeader__CompanyProductDiv-otlynz-2 kXTfQm\"><a class=\"Link__StyledStandardLink-sc-1xhgva3-0 hOvMtD\" href=\"/p/160996/BizRun/\" target=\"_self\"><div class=\"ProductComparisonCardHeader__ProductHeading-otlynz-3 kEqxFE\" title=\"BizRun\">BizRun</div></a><div class=\"ProductComparisonCardHeader__MilliGrayText-otlynz-0 TVaLH\">by<!-- --> <!-- -->BizRun</div></div></div><a class=\"Link__StyledStandardLink-sc-1xhgva3-0 hOvMtD\" href=\"/p/160996/BizRun/reviews/\" target=\"_self\"><div class=\"ProductComparisonRating__RatingContainer-qghrv-0 kMclgi\"><div class=\"StarRating__Root-sc-9jwzgg-0 bQJsCF\"><div class=\"Star__StarBackgroundImage-sc-1moksxx-0 bZqtcc\" color=\"#FF9D28\"></div><div class=\"Star__StarBackgroundImage-sc-1moksxx-0 bZqtcc\" color=\"#FF9D28\"></div><div class=\"Star__StarBackgroundImage-sc-1moksxx-0 bZqtcc\" color=\"#FF9D28\"></div><div class=\"Star__StarBackgroundImage-sc-1moksxx-0 bZqtcc\" color=\"#FF9D28\"></div><div class=\"Star__StarBackgroundImage-sc-1moksxx-0 gioUvB\" color=\"#FF9D28\"></div><div class=\"StarRating__Rating-sc-9jwzgg-1 cAGyvf\" font-size=\"16px\">4.5/5</div><span class=\"ProductComparisonRating__Count-qghrv-1 mrbSu\">(15)</span></div></div></a><span class=\"AlternativeProductDescription__Description-sc-7ul2h-0 gUfSHG\"><span class=\"AlternativeProductDescription__DescriptionHeading-sc-7ul2h-1 loPooF\">Best For: </span> <!-- -->Owners, Office Managers, Human Resource Managers - small to medium businesses. Built for companies with 50+ employees.</span></div></div><div class=\"CarouselItem__Item-ise43b-0 kQuVhJ\" height=\"344\" style=\"left:574px\" width=\"263\"><div class=\"AlternativeProductCard__Root-sc-6dc4ji-0 kyeAKr\"><div class=\"ProductComparisonCardHeader__Header-otlynz-1 dKoOPY\"><a alt=\"\" class=\"ProductComparisonCardHeader__ThumbnailContainer-otlynz-4 kaeVga Thumbnail__A-sc-1xvq2zk-3 gguDbn\" href=\"/p/174508/Digital-HRMS/\" src=\"https://cdn0.capterra-static.com/logos/150/2085926-174508-1542203106.png\"><img alt=\"\" class=\"Thumbnail__Image-sc-1xvq2zk-0 idhssu\" src=\"https://cdn0.capterra-static.com/logos/150/2085926-174508-1542203106.png\"/></a><div class=\"ProductComparisonCardHeader__CompanyProductDiv-otlynz-2 kXTfQm\"><a class=\"Link__StyledStandardLink-sc-1xhgva3-0 hOvMtD\" href=\"/p/174508/Digital-HRMS/\" target=\"_self\"><div class=\"ProductComparisonCardHeader__ProductHeading-otlynz-3 kEqxFE\" title=\"Digital HRMS\">Digital HRMS</div></a><div class=\"ProductComparisonCardHeader__MilliGrayText-otlynz-0 TVaLH\">by<!-- --> <!-- -->The Digital Group</div></div></div><a class=\"Link__StyledStandardLink-sc-1xhgva3-0 hOvMtD\" href=\"/p/174508/Digital-HRMS/#reviews\" target=\"_self\"><div class=\"ProductComparisonRating__RatingContainer-qghrv-0 kMclgi\"><div class=\"StarRating__Root-sc-9jwzgg-0 bQJsCF\"><div class=\"Star__StarBackgroundImage-sc-1moksxx-0 bTkUmn\" color=\"#FF9D28\"></div><div class=\"Star__StarBackgroundImage-sc-1moksxx-0 bTkUmn\" color=\"#FF9D28\"></div><div class=\"Star__StarBackgroundImage-sc-1moksxx-0 bTkUmn\" color=\"#FF9D28\"></div><div class=\"Star__StarBackgroundImage-sc-1moksxx-0 bTkUmn\" color=\"#FF9D28\"></div><div class=\"Star__StarBackgroundImage-sc-1moksxx-0 bTkUmn\" color=\"#FF9D28\"></div><div class=\"StarRating__Rating-sc-9jwzgg-1 cAGyvf\" font-size=\"16px\">0/5</div><span class=\"ProductComparisonRating__Count-qghrv-1 mrbSu\">(0)</span></div></div></a><span class=\"AlternativeProductDescription__Description-sc-7ul2h-0 gUfSHG\"><span class=\"AlternativeProductDescription__DescriptionHeading-sc-7ul2h-1 loPooF\">Best For: </span> <!-- -->Private, Public and Government sector</span></div></div><div class=\"CarouselItem__Item-ise43b-0 kQuVhJ\" height=\"344\" style=\"left:861px\" width=\"263\"><div class=\"AlternativeProductCard__Root-sc-6dc4ji-0 kyeAKr\"><div class=\"ProductComparisonCardHeader__Header-otlynz-1 dKoOPY\"><a alt=\"\" class=\"ProductComparisonCardHeader__ThumbnailContainer-otlynz-4 kaeVga Thumbnail__A-sc-1xvq2zk-3 gguDbn\" href=\"/p/187735/Agile-HR-Technology/\" src=\"https://cdn0.capterra-static.com/logos/150/2128420-1550085351.png\"><img alt=\"\" class=\"Thumbnail__Image-sc-1xvq2zk-0 idhssu\" src=\"https://cdn0.capterra-static.com/logos/150/2128420-1550085351.png\"/></a><div class=\"ProductComparisonCardHeader__CompanyProductDiv-otlynz-2 kXTfQm\"><a class=\"Link__StyledStandardLink-sc-1xhgva3-0 hOvMtD\" href=\"/p/187735/Agile-HR-Technology/\" target=\"_self\"><div class=\"ProductComparisonCardHeader__ProductHeading-otlynz-3 kEqxFE\" title=\"Crosstalent Agile HR Technology\">Crosstalent Agile HR...</div></a><div class=\"ProductComparisonCardHeader__MilliGrayText-otlynz-0 TVaLH\">by<!-- --> <!-- -->Crosstalent</div></div></div><a class=\"Link__StyledStandardLink-sc-1xhgva3-0 hOvMtD\" href=\"/p/187735/Agile-HR-Technology/#reviews\" target=\"_self\"><div class=\"ProductComparisonRating__RatingContainer-qghrv-0 kMclgi\"><div class=\"StarRating__Root-sc-9jwzgg-0 bQJsCF\"><div class=\"Star__StarBackgroundImage-sc-1moksxx-0 bTkUmn\" color=\"#FF9D28\"></div><div class=\"Star__StarBackgroundImage-sc-1moksxx-0 bTkUmn\" color=\"#FF9D28\"></div><div class=\"Star__StarBackgroundImage-sc-1moksxx-0 bTkUmn\" color=\"#FF9D28\"></div><div class=\"Star__StarBackgroundImage-sc-1moksxx-0 bTkUmn\" color=\"#FF9D28\"></div><div class=\"Star__StarBackgroundImage-sc-1moksxx-0 bTkUmn\" color=\"#FF9D28\"></div><div class=\"StarRating__Rating-sc-9jwzgg-1 cAGyvf\" font-size=\"16px\">0/5</div><span class=\"ProductComparisonRating__Count-qghrv-1 mrbSu\">(0)</span></div></div></a><span class=\"AlternativeProductDescription__Description-sc-7ul2h-0 gUfSHG\"><span class=\"AlternativeProductDescription__DescriptionHeading-sc-7ul2h-1 loPooF\">Best For: </span> <!-- -->Companies who need a HRMS solution and in full digital transformation.</span></div></div><div class=\"CarouselItem__Item-ise43b-0 kQuVhJ\" height=\"344\" style=\"left:1148px\" width=\"263\"><div class=\"AlternativeProductCard__Root-sc-6dc4ji-0 kyeAKr\"><div class=\"ProductComparisonCardHeader__Header-otlynz-1 dKoOPY\"><a alt=\"\" class=\"ProductComparisonCardHeader__ThumbnailContainer-otlynz-4 kaeVga Thumbnail__A-sc-1xvq2zk-3 gguDbn\" href=\"/p/164380/Built-for-Teams/\" src=\"https://cdn0.capterra-static.com/logos/150/2103601-1524260451.png\"><img alt=\"\" class=\"Thumbnail__Image-sc-1xvq2zk-0 idhssu\" src=\"https://cdn0.capterra-static.com/logos/150/2103601-1524260451.png\"/></a><div class=\"ProductComparisonCardHeader__CompanyProductDiv-otlynz-2 kXTfQm\"><a class=\"Link__StyledStandardLink-sc-1xhgva3-0 hOvMtD\" href=\"/p/164380/Built-for-Teams/\" target=\"_self\"><div class=\"ProductComparisonCardHeader__ProductHeading-otlynz-3 kEqxFE\" title=\"Built for Teams\">Built for Teams</div></a><div class=\"ProductComparisonCardHeader__MilliGrayText-otlynz-0 TVaLH\">by<!-- --> <!-- -->Built for Teams</div></div></div><a class=\"Link__StyledStandardLink-sc-1xhgva3-0 hOvMtD\" href=\"/p/164380/Built-for-Teams/reviews/\" target=\"_self\"><div class=\"ProductComparisonRating__RatingContainer-qghrv-0 kMclgi\"><div class=\"StarRating__Root-sc-9jwzgg-0 bQJsCF\"><div class=\"Star__StarBackgroundImage-sc-1moksxx-0 bZqtcc\" color=\"#FF9D28\"></div><div class=\"Star__StarBackgroundImage-sc-1moksxx-0 bZqtcc\" color=\"#FF9D28\"></div><div class=\"Star__StarBackgroundImage-sc-1moksxx-0 bZqtcc\" color=\"#FF9D28\"></div><div class=\"Star__StarBackgroundImage-sc-1moksxx-0 bZqtcc\" color=\"#FF9D28\"></div><div class=\"Star__StarBackgroundImage-sc-1moksxx-0 gioUvB\" color=\"#FF9D28\"></div><div class=\"StarRating__Rating-sc-9jwzgg-1 cAGyvf\" font-size=\"16px\">4.7/5</div><span class=\"ProductComparisonRating__Count-qghrv-1 mrbSu\">(542)</span></div></div></a><span class=\"AlternativeProductDescription__Description-sc-7ul2h-0 gUfSHG\"><span class=\"AlternativeProductDescription__DescriptionHeading-sc-7ul2h-1 loPooF\">Best For: </span> <!-- -->Built for Teams gives companies of all size a better way to manage all types of time off. We improve efficiency, increase employee satisfaction, and provide you with greater business intelligence.</span></div></div><div class=\"CarouselItem__Item-ise43b-0 kQuVhJ\" height=\"344\" style=\"left:1435px\" width=\"263\"><div class=\"AlternativeProductCard__Root-sc-6dc4ji-0 kyeAKr\"><div class=\"ProductComparisonCardHeader__Header-otlynz-1 dKoOPY\"><a alt=\"\" class=\"ProductComparisonCardHeader__ThumbnailContainer-otlynz-4 kaeVga Thumbnail__A-sc-1xvq2zk-3 gguDbn\" href=\"/p/168899/FactsHCM/\" src=\"https://cdn0.capterra-static.com/logos/150/2117456-1509380810.png\"><img alt=\"\" class=\"Thumbnail__Image-sc-1xvq2zk-0 idhssu\" src=\"https://cdn0.capterra-static.com/logos/150/2117456-1509380810.png\"/></a><div class=\"ProductComparisonCardHeader__CompanyProductDiv-otlynz-2 kXTfQm\"><a class=\"Link__StyledStandardLink-sc-1xhgva3-0 hOvMtD\" href=\"/p/168899/FactsHCM/\" target=\"_self\"><div class=\"ProductComparisonCardHeader__ProductHeading-otlynz-3 kEqxFE\" title=\"FactsHCM\">FactsHCM</div></a><div class=\"ProductComparisonCardHeader__MilliGrayText-otlynz-0 TVaLH\">by<!-- --> <!-- -->BrainsphereIT Solutions</div></div></div><a class=\"Link__StyledStandardLink-sc-1xhgva3-0 hOvMtD\" href=\"/p/168899/FactsHCM/#reviews\" target=\"_self\"><div class=\"ProductComparisonRating__RatingContainer-qghrv-0 kMclgi\"><div class=\"StarRating__Root-sc-9jwzgg-0 bQJsCF\"><div class=\"Star__StarBackgroundImage-sc-1moksxx-0 bTkUmn\" color=\"#FF9D28\"></div><div class=\"Star__StarBackgroundImage-sc-1moksxx-0 bTkUmn\" color=\"#FF9D28\"></div><div class=\"Star__StarBackgroundImage-sc-1moksxx-0 bTkUmn\" color=\"#FF9D28\"></div><div class=\"Star__StarBackgroundImage-sc-1moksxx-0 bTkUmn\" color=\"#FF9D28\"></div><div class=\"Star__StarBackgroundImage-sc-1moksxx-0 bTkUmn\" color=\"#FF9D28\"></div><div class=\"StarRating__Rating-sc-9jwzgg-1 cAGyvf\" font-size=\"16px\">0/5</div><span class=\"ProductComparisonRating__Count-qghrv-1 mrbSu\">(0)</span></div></div></a><span class=\"AlternativeProductDescription__Description-sc-7ul2h-0 gUfSHG\"><span class=\"AlternativeProductDescription__DescriptionHeading-sc-7ul2h-1 loPooF\">Best For: </span> <!-- -->FactsHCM has proven record of accomplishment in HR and payroll needs that spans global companies like McDonalds UAE, Bose UAE, Nikon Middle East FZE, BVLGARI and homegrown companies. </span></div></div><div class=\"CarouselItem__Item-ise43b-0 kQuVhJ\" height=\"344\" style=\"left:1722px\" width=\"263\"><div class=\"AlternativeProductCard__Root-sc-6dc4ji-0 kyeAKr\"><div class=\"ProductComparisonCardHeader__Header-otlynz-1 dKoOPY\"><a alt=\"\" class=\"ProductComparisonCardHeader__ThumbnailContainer-otlynz-4 kaeVga Thumbnail__A-sc-1xvq2zk-3 gguDbn\" href=\"/p/147868/SnapHRM/\" src=\"https://cdn0.capterra-static.com/logos/150/2104441-1510423652.png\"><img alt=\"\" class=\"Thumbnail__Image-sc-1xvq2zk-0 idhssu\" src=\"https://cdn0.capterra-static.com/logos/150/2104441-1510423652.png\"/></a><div class=\"ProductComparisonCardHeader__CompanyProductDiv-otlynz-2 kXTfQm\"><a class=\"Link__StyledStandardLink-sc-1xhgva3-0 hOvMtD\" href=\"/p/147868/SnapHRM/\" target=\"_self\"><div class=\"ProductComparisonCardHeader__ProductHeading-otlynz-3 kEqxFE\" title=\"SnapHRM\">SnapHRM</div></a><div class=\"ProductComparisonCardHeader__MilliGrayText-otlynz-0 TVaLH\">by<!-- --> <!-- -->Froiden Technologies</div></div></div><a class=\"Link__StyledStandardLink-sc-1xhgva3-0 hOvMtD\" href=\"/p/147868/SnapHRM/reviews/\" target=\"_self\"><div class=\"ProductComparisonRating__RatingContainer-qghrv-0 kMclgi\"><div class=\"StarRating__Root-sc-9jwzgg-0 bQJsCF\"><div class=\"Star__StarBackgroundImage-sc-1moksxx-0 bZqtcc\" color=\"#FF9D28\"></div><div class=\"Star__StarBackgroundImage-sc-1moksxx-0 bZqtcc\" color=\"#FF9D28\"></div><div class=\"Star__StarBackgroundImage-sc-1moksxx-0 bZqtcc\" color=\"#FF9D28\"></div><div class=\"Star__StarBackgroundImage-sc-1moksxx-0 bZqtcc\" color=\"#FF9D28\"></div><div class=\"Star__StarBackgroundImage-sc-1moksxx-0 bZqtcc\" color=\"#FF9D28\"></div><div class=\"StarRating__Rating-sc-9jwzgg-1 cAGyvf\" font-size=\"16px\">5/5</div><span class=\"ProductComparisonRating__Count-qghrv-1 mrbSu\">(20)</span></div></div></a><span class=\"AlternativeProductDescription__Description-sc-7ul2h-0 gUfSHG\"><span class=\"AlternativeProductDescription__DescriptionHeading-sc-7ul2h-1 loPooF\">Best For: </span> <!-- -->Small and Medium Businesses of any category, and startups who want a simple and easy to use HR Management Software which has flexible pricing plans.</span></div></div><div class=\"CarouselItem__Item-ise43b-0 kQuVhJ\" height=\"344\" style=\"left:2009px\" width=\"263\"><div class=\"AlternativeProductCard__Root-sc-6dc4ji-0 kyeAKr\"><div class=\"ProductComparisonCardHeader__Header-otlynz-1 dKoOPY\"><a alt=\"\" class=\"ProductComparisonCardHeader__ThumbnailContainer-otlynz-4 kaeVga Thumbnail__A-sc-1xvq2zk-3 gguDbn\" href=\"/p/186825/NeemHR/\" src=\"https://cdn0.capterra-static.com/logos/150/2130703-1557943161.png\"><img alt=\"\" class=\"Thumbnail__Image-sc-1xvq2zk-0 idhssu\" src=\"https://cdn0.capterra-static.com/logos/150/2130703-1557943161.png\"/></a><div class=\"ProductComparisonCardHeader__CompanyProductDiv-otlynz-2 kXTfQm\"><a class=\"Link__StyledStandardLink-sc-1xhgva3-0 hOvMtD\" href=\"/p/186825/NeemHR/\" target=\"_self\"><div class=\"ProductComparisonCardHeader__ProductHeading-otlynz-3 kEqxFE\" title=\"NeemHR\">NeemHR</div></a><div class=\"ProductComparisonCardHeader__MilliGrayText-otlynz-0 TVaLH\">by<!-- --> <!-- -->NeemHR Solutions</div></div></div><a class=\"Link__StyledStandardLink-sc-1xhgva3-0 hOvMtD\" href=\"/p/186825/NeemHR/#reviews\" target=\"_self\"><div class=\"ProductComparisonRating__RatingContainer-qghrv-0 kMclgi\"><div class=\"StarRating__Root-sc-9jwzgg-0 bQJsCF\"><div class=\"Star__StarBackgroundImage-sc-1moksxx-0 bTkUmn\" color=\"#FF9D28\"></div><div class=\"Star__StarBackgroundImage-sc-1moksxx-0 bTkUmn\" color=\"#FF9D28\"></div><div class=\"Star__StarBackgroundImage-sc-1moksxx-0 bTkUmn\" color=\"#FF9D28\"></div><div class=\"Star__StarBackgroundImage-sc-1moksxx-0 bTkUmn\" color=\"#FF9D28\"></div><div class=\"Star__StarBackgroundImage-sc-1moksxx-0 bTkUmn\" color=\"#FF9D28\"></div><div class=\"StarRating__Rating-sc-9jwzgg-1 cAGyvf\" font-size=\"16px\">0/5</div><span class=\"ProductComparisonRating__Count-qghrv-1 mrbSu\">(0)</span></div></div></a><span class=\"AlternativeProductDescription__Description-sc-7ul2h-0 gUfSHG\"><span class=\"AlternativeProductDescription__DescriptionHeading-sc-7ul2h-1 loPooF\">Best For: </span> <!-- -->Small to medium businesses who are looking for the best HR software for growing businesses. Manage your hiring, on-boarding, time-off, employee data and HR workflows in one place.</span></div></div><div class=\"CarouselItem__Item-ise43b-0 kQuVhJ\" height=\"344\" style=\"left:2296px\" width=\"263\"><div class=\"AlternativeProductCard__Root-sc-6dc4ji-0 kyeAKr\"><div class=\"ProductComparisonCardHeader__Header-otlynz-1 dKoOPY\"><a alt=\"\" class=\"ProductComparisonCardHeader__ThumbnailContainer-otlynz-4 kaeVga Thumbnail__A-sc-1xvq2zk-3 gguDbn\" href=\"/p/191873/Purple-Bureau/\" src=\"https://cdn0.capterra-static.com/logos/150/2134255-1565886535.png\"><img alt=\"\" class=\"Thumbnail__Image-sc-1xvq2zk-0 idhssu\" src=\"https://cdn0.capterra-static.com/logos/150/2134255-1565886535.png\"/></a><div class=\"ProductComparisonCardHeader__CompanyProductDiv-otlynz-2 kXTfQm\"><a class=\"Link__StyledStandardLink-sc-1xhgva3-0 hOvMtD\" href=\"/p/191873/Purple-Bureau/\" target=\"_self\"><div class=\"ProductComparisonCardHeader__ProductHeading-otlynz-3 kEqxFE\" title=\"Purple Bureau\">Purple Bureau</div></a><div class=\"ProductComparisonCardHeader__MilliGrayText-otlynz-0 TVaLH\">by<!-- --> <!-- -->SevenSprings</div></div></div><a class=\"Link__StyledStandardLink-sc-1xhgva3-0 hOvMtD\" href=\"/p/191873/Purple-Bureau/#reviews\" target=\"_self\"><div class=\"ProductComparisonRating__RatingContainer-qghrv-0 kMclgi\"><div class=\"StarRating__Root-sc-9jwzgg-0 bQJsCF\"><div class=\"Star__StarBackgroundImage-sc-1moksxx-0 bZqtcc\" color=\"#FF9D28\"></div><div class=\"Star__StarBackgroundImage-sc-1moksxx-0 bZqtcc\" color=\"#FF9D28\"></div><div class=\"Star__StarBackgroundImage-sc-1moksxx-0 bZqtcc\" color=\"#FF9D28\"></div><div class=\"Star__StarBackgroundImage-sc-1moksxx-0 bZqtcc\" color=\"#FF9D28\"></div><div class=\"Star__StarBackgroundImage-sc-1moksxx-0 bZqtcc\" color=\"#FF9D28\"></div><div class=\"StarRating__Rating-sc-9jwzgg-1 cAGyvf\" font-size=\"16px\">5/5</div><span class=\"ProductComparisonRating__Count-qghrv-1 mrbSu\">(1)</span></div></div></a><span class=\"AlternativeProductDescription__Description-sc-7ul2h-0 gUfSHG\"><span class=\"AlternativeProductDescription__DescriptionHeading-sc-7ul2h-1 loPooF\">Best For: </span> <!-- -->From SMEs to Large Enterprises.</span></div></div></div></div>"
            ]
          },
          "metadata": {
            "tags": []
          },
          "execution_count": 34
        }
      ]
    },
    {
      "cell_type": "code",
      "metadata": {
        "id": "QqcD1VmEZHAh",
        "colab": {
          "base_uri": "https://localhost:8080/",
          "height": 190
        },
        "outputId": "63ef3ebd-64f6-4043-9c0d-11d03dce42c2"
      },
      "source": [
        "alter_items"
      ],
      "execution_count": null,
      "outputs": [
        {
          "output_type": "execute_result",
          "data": {
            "text/plain": [
              "[<div class=\"CarouselItem__Item-ise43b-0 kQuVhJ\" height=\"344\" style=\"left:0px\" width=\"263\"><div class=\"AlternativeProductCard__Root-sc-6dc4ji-0 kyeAKr\"><div class=\"ProductComparisonCardHeader__Header-otlynz-1 dKoOPY\"><a alt=\"\" class=\"ProductComparisonCardHeader__ThumbnailContainer-otlynz-4 kaeVga Thumbnail__A-sc-1xvq2zk-3 gguDbn\" href=\"/p/162969/HR4Dealers/\" src=\"https://cdn0.capterra-static.com/logos/150/2113842-1495114637.png\"><img alt=\"\" class=\"Thumbnail__Image-sc-1xvq2zk-0 idhssu\" src=\"https://cdn0.capterra-static.com/logos/150/2113842-1495114637.png\"/></a><div class=\"ProductComparisonCardHeader__CompanyProductDiv-otlynz-2 kXTfQm\"><a class=\"Link__StyledStandardLink-sc-1xhgva3-0 hOvMtD\" href=\"/p/162969/HR4Dealers/\" target=\"_self\"><div class=\"ProductComparisonCardHeader__ProductHeading-otlynz-3 kEqxFE\" title=\"HR4Dealers\">HR4Dealers</div></a><div class=\"ProductComparisonCardHeader__MilliGrayText-otlynz-0 TVaLH\">by<!-- --> <!-- -->The Minery</div></div></div><a class=\"Link__StyledStandardLink-sc-1xhgva3-0 hOvMtD\" href=\"/p/162969/HR4Dealers/#reviews\" target=\"_self\"><div class=\"ProductComparisonRating__RatingContainer-qghrv-0 kMclgi\"><div class=\"StarRating__Root-sc-9jwzgg-0 bQJsCF\"><div class=\"Star__StarBackgroundImage-sc-1moksxx-0 bTkUmn\" color=\"#FF9D28\"></div><div class=\"Star__StarBackgroundImage-sc-1moksxx-0 bTkUmn\" color=\"#FF9D28\"></div><div class=\"Star__StarBackgroundImage-sc-1moksxx-0 bTkUmn\" color=\"#FF9D28\"></div><div class=\"Star__StarBackgroundImage-sc-1moksxx-0 bTkUmn\" color=\"#FF9D28\"></div><div class=\"Star__StarBackgroundImage-sc-1moksxx-0 bTkUmn\" color=\"#FF9D28\"></div><div class=\"StarRating__Rating-sc-9jwzgg-1 cAGyvf\" font-size=\"16px\">0/5</div><span class=\"ProductComparisonRating__Count-qghrv-1 mrbSu\">(0)</span></div></div></a><span class=\"AlternativeProductDescription__Description-sc-7ul2h-0 gUfSHG\"><span class=\"AlternativeProductDescription__DescriptionHeading-sc-7ul2h-1 loPooF\">Best For: </span> <!-- -->HR4Dealer's suite of customizable apps have been designed and developed exclusively for dealers with dealer input, and are proven to increase efficiency, communication, and performance throughout.</span></div></div>,\n",
              " <div class=\"CarouselItem__Item-ise43b-0 kQuVhJ\" height=\"344\" style=\"left:287px\" width=\"263\"><div class=\"AlternativeProductCard__Root-sc-6dc4ji-0 kyeAKr\"><div class=\"ProductComparisonCardHeader__Header-otlynz-1 dKoOPY\"><a alt=\"\" class=\"ProductComparisonCardHeader__ThumbnailContainer-otlynz-4 kaeVga Thumbnail__A-sc-1xvq2zk-3 gguDbn\" href=\"/p/160996/BizRun/\" src=\"https://cdn0.capterra-static.com/logos/150/2112595-1497638002.png\"><img alt=\"\" class=\"Thumbnail__Image-sc-1xvq2zk-0 idhssu\" src=\"https://cdn0.capterra-static.com/logos/150/2112595-1497638002.png\"/></a><div class=\"ProductComparisonCardHeader__CompanyProductDiv-otlynz-2 kXTfQm\"><a class=\"Link__StyledStandardLink-sc-1xhgva3-0 hOvMtD\" href=\"/p/160996/BizRun/\" target=\"_self\"><div class=\"ProductComparisonCardHeader__ProductHeading-otlynz-3 kEqxFE\" title=\"BizRun\">BizRun</div></a><div class=\"ProductComparisonCardHeader__MilliGrayText-otlynz-0 TVaLH\">by<!-- --> <!-- -->BizRun</div></div></div><a class=\"Link__StyledStandardLink-sc-1xhgva3-0 hOvMtD\" href=\"/p/160996/BizRun/reviews/\" target=\"_self\"><div class=\"ProductComparisonRating__RatingContainer-qghrv-0 kMclgi\"><div class=\"StarRating__Root-sc-9jwzgg-0 bQJsCF\"><div class=\"Star__StarBackgroundImage-sc-1moksxx-0 bZqtcc\" color=\"#FF9D28\"></div><div class=\"Star__StarBackgroundImage-sc-1moksxx-0 bZqtcc\" color=\"#FF9D28\"></div><div class=\"Star__StarBackgroundImage-sc-1moksxx-0 bZqtcc\" color=\"#FF9D28\"></div><div class=\"Star__StarBackgroundImage-sc-1moksxx-0 bZqtcc\" color=\"#FF9D28\"></div><div class=\"Star__StarBackgroundImage-sc-1moksxx-0 gioUvB\" color=\"#FF9D28\"></div><div class=\"StarRating__Rating-sc-9jwzgg-1 cAGyvf\" font-size=\"16px\">4.5/5</div><span class=\"ProductComparisonRating__Count-qghrv-1 mrbSu\">(15)</span></div></div></a><span class=\"AlternativeProductDescription__Description-sc-7ul2h-0 gUfSHG\"><span class=\"AlternativeProductDescription__DescriptionHeading-sc-7ul2h-1 loPooF\">Best For: </span> <!-- -->Owners, Office Managers, Human Resource Managers - small to medium businesses. Built for companies with 50+ employees.</span></div></div>,\n",
              " <div class=\"CarouselItem__Item-ise43b-0 kQuVhJ\" height=\"344\" style=\"left:574px\" width=\"263\"><div class=\"AlternativeProductCard__Root-sc-6dc4ji-0 kyeAKr\"><div class=\"ProductComparisonCardHeader__Header-otlynz-1 dKoOPY\"><a alt=\"\" class=\"ProductComparisonCardHeader__ThumbnailContainer-otlynz-4 kaeVga Thumbnail__A-sc-1xvq2zk-3 gguDbn\" href=\"/p/174508/Digital-HRMS/\" src=\"https://cdn0.capterra-static.com/logos/150/2085926-174508-1542203106.png\"><img alt=\"\" class=\"Thumbnail__Image-sc-1xvq2zk-0 idhssu\" src=\"https://cdn0.capterra-static.com/logos/150/2085926-174508-1542203106.png\"/></a><div class=\"ProductComparisonCardHeader__CompanyProductDiv-otlynz-2 kXTfQm\"><a class=\"Link__StyledStandardLink-sc-1xhgva3-0 hOvMtD\" href=\"/p/174508/Digital-HRMS/\" target=\"_self\"><div class=\"ProductComparisonCardHeader__ProductHeading-otlynz-3 kEqxFE\" title=\"Digital HRMS\">Digital HRMS</div></a><div class=\"ProductComparisonCardHeader__MilliGrayText-otlynz-0 TVaLH\">by<!-- --> <!-- -->The Digital Group</div></div></div><a class=\"Link__StyledStandardLink-sc-1xhgva3-0 hOvMtD\" href=\"/p/174508/Digital-HRMS/#reviews\" target=\"_self\"><div class=\"ProductComparisonRating__RatingContainer-qghrv-0 kMclgi\"><div class=\"StarRating__Root-sc-9jwzgg-0 bQJsCF\"><div class=\"Star__StarBackgroundImage-sc-1moksxx-0 bTkUmn\" color=\"#FF9D28\"></div><div class=\"Star__StarBackgroundImage-sc-1moksxx-0 bTkUmn\" color=\"#FF9D28\"></div><div class=\"Star__StarBackgroundImage-sc-1moksxx-0 bTkUmn\" color=\"#FF9D28\"></div><div class=\"Star__StarBackgroundImage-sc-1moksxx-0 bTkUmn\" color=\"#FF9D28\"></div><div class=\"Star__StarBackgroundImage-sc-1moksxx-0 bTkUmn\" color=\"#FF9D28\"></div><div class=\"StarRating__Rating-sc-9jwzgg-1 cAGyvf\" font-size=\"16px\">0/5</div><span class=\"ProductComparisonRating__Count-qghrv-1 mrbSu\">(0)</span></div></div></a><span class=\"AlternativeProductDescription__Description-sc-7ul2h-0 gUfSHG\"><span class=\"AlternativeProductDescription__DescriptionHeading-sc-7ul2h-1 loPooF\">Best For: </span> <!-- -->Private, Public and Government sector</span></div></div>,\n",
              " <div class=\"CarouselItem__Item-ise43b-0 kQuVhJ\" height=\"344\" style=\"left:861px\" width=\"263\"><div class=\"AlternativeProductCard__Root-sc-6dc4ji-0 kyeAKr\"><div class=\"ProductComparisonCardHeader__Header-otlynz-1 dKoOPY\"><a alt=\"\" class=\"ProductComparisonCardHeader__ThumbnailContainer-otlynz-4 kaeVga Thumbnail__A-sc-1xvq2zk-3 gguDbn\" href=\"/p/187735/Agile-HR-Technology/\" src=\"https://cdn0.capterra-static.com/logos/150/2128420-1550085351.png\"><img alt=\"\" class=\"Thumbnail__Image-sc-1xvq2zk-0 idhssu\" src=\"https://cdn0.capterra-static.com/logos/150/2128420-1550085351.png\"/></a><div class=\"ProductComparisonCardHeader__CompanyProductDiv-otlynz-2 kXTfQm\"><a class=\"Link__StyledStandardLink-sc-1xhgva3-0 hOvMtD\" href=\"/p/187735/Agile-HR-Technology/\" target=\"_self\"><div class=\"ProductComparisonCardHeader__ProductHeading-otlynz-3 kEqxFE\" title=\"Crosstalent Agile HR Technology\">Crosstalent Agile HR...</div></a><div class=\"ProductComparisonCardHeader__MilliGrayText-otlynz-0 TVaLH\">by<!-- --> <!-- -->Crosstalent</div></div></div><a class=\"Link__StyledStandardLink-sc-1xhgva3-0 hOvMtD\" href=\"/p/187735/Agile-HR-Technology/#reviews\" target=\"_self\"><div class=\"ProductComparisonRating__RatingContainer-qghrv-0 kMclgi\"><div class=\"StarRating__Root-sc-9jwzgg-0 bQJsCF\"><div class=\"Star__StarBackgroundImage-sc-1moksxx-0 bTkUmn\" color=\"#FF9D28\"></div><div class=\"Star__StarBackgroundImage-sc-1moksxx-0 bTkUmn\" color=\"#FF9D28\"></div><div class=\"Star__StarBackgroundImage-sc-1moksxx-0 bTkUmn\" color=\"#FF9D28\"></div><div class=\"Star__StarBackgroundImage-sc-1moksxx-0 bTkUmn\" color=\"#FF9D28\"></div><div class=\"Star__StarBackgroundImage-sc-1moksxx-0 bTkUmn\" color=\"#FF9D28\"></div><div class=\"StarRating__Rating-sc-9jwzgg-1 cAGyvf\" font-size=\"16px\">0/5</div><span class=\"ProductComparisonRating__Count-qghrv-1 mrbSu\">(0)</span></div></div></a><span class=\"AlternativeProductDescription__Description-sc-7ul2h-0 gUfSHG\"><span class=\"AlternativeProductDescription__DescriptionHeading-sc-7ul2h-1 loPooF\">Best For: </span> <!-- -->Companies who need a HRMS solution and in full digital transformation.</span></div></div>,\n",
              " <div class=\"CarouselItem__Item-ise43b-0 kQuVhJ\" height=\"344\" style=\"left:1148px\" width=\"263\"><div class=\"AlternativeProductCard__Root-sc-6dc4ji-0 kyeAKr\"><div class=\"ProductComparisonCardHeader__Header-otlynz-1 dKoOPY\"><a alt=\"\" class=\"ProductComparisonCardHeader__ThumbnailContainer-otlynz-4 kaeVga Thumbnail__A-sc-1xvq2zk-3 gguDbn\" href=\"/p/164380/Built-for-Teams/\" src=\"https://cdn0.capterra-static.com/logos/150/2103601-1524260451.png\"><img alt=\"\" class=\"Thumbnail__Image-sc-1xvq2zk-0 idhssu\" src=\"https://cdn0.capterra-static.com/logos/150/2103601-1524260451.png\"/></a><div class=\"ProductComparisonCardHeader__CompanyProductDiv-otlynz-2 kXTfQm\"><a class=\"Link__StyledStandardLink-sc-1xhgva3-0 hOvMtD\" href=\"/p/164380/Built-for-Teams/\" target=\"_self\"><div class=\"ProductComparisonCardHeader__ProductHeading-otlynz-3 kEqxFE\" title=\"Built for Teams\">Built for Teams</div></a><div class=\"ProductComparisonCardHeader__MilliGrayText-otlynz-0 TVaLH\">by<!-- --> <!-- -->Built for Teams</div></div></div><a class=\"Link__StyledStandardLink-sc-1xhgva3-0 hOvMtD\" href=\"/p/164380/Built-for-Teams/reviews/\" target=\"_self\"><div class=\"ProductComparisonRating__RatingContainer-qghrv-0 kMclgi\"><div class=\"StarRating__Root-sc-9jwzgg-0 bQJsCF\"><div class=\"Star__StarBackgroundImage-sc-1moksxx-0 bZqtcc\" color=\"#FF9D28\"></div><div class=\"Star__StarBackgroundImage-sc-1moksxx-0 bZqtcc\" color=\"#FF9D28\"></div><div class=\"Star__StarBackgroundImage-sc-1moksxx-0 bZqtcc\" color=\"#FF9D28\"></div><div class=\"Star__StarBackgroundImage-sc-1moksxx-0 bZqtcc\" color=\"#FF9D28\"></div><div class=\"Star__StarBackgroundImage-sc-1moksxx-0 gioUvB\" color=\"#FF9D28\"></div><div class=\"StarRating__Rating-sc-9jwzgg-1 cAGyvf\" font-size=\"16px\">4.7/5</div><span class=\"ProductComparisonRating__Count-qghrv-1 mrbSu\">(542)</span></div></div></a><span class=\"AlternativeProductDescription__Description-sc-7ul2h-0 gUfSHG\"><span class=\"AlternativeProductDescription__DescriptionHeading-sc-7ul2h-1 loPooF\">Best For: </span> <!-- -->Built for Teams gives companies of all size a better way to manage all types of time off. We improve efficiency, increase employee satisfaction, and provide you with greater business intelligence.</span></div></div>,\n",
              " <div class=\"CarouselItem__Item-ise43b-0 kQuVhJ\" height=\"344\" style=\"left:1435px\" width=\"263\"><div class=\"AlternativeProductCard__Root-sc-6dc4ji-0 kyeAKr\"><div class=\"ProductComparisonCardHeader__Header-otlynz-1 dKoOPY\"><a alt=\"\" class=\"ProductComparisonCardHeader__ThumbnailContainer-otlynz-4 kaeVga Thumbnail__A-sc-1xvq2zk-3 gguDbn\" href=\"/p/168899/FactsHCM/\" src=\"https://cdn0.capterra-static.com/logos/150/2117456-1509380810.png\"><img alt=\"\" class=\"Thumbnail__Image-sc-1xvq2zk-0 idhssu\" src=\"https://cdn0.capterra-static.com/logos/150/2117456-1509380810.png\"/></a><div class=\"ProductComparisonCardHeader__CompanyProductDiv-otlynz-2 kXTfQm\"><a class=\"Link__StyledStandardLink-sc-1xhgva3-0 hOvMtD\" href=\"/p/168899/FactsHCM/\" target=\"_self\"><div class=\"ProductComparisonCardHeader__ProductHeading-otlynz-3 kEqxFE\" title=\"FactsHCM\">FactsHCM</div></a><div class=\"ProductComparisonCardHeader__MilliGrayText-otlynz-0 TVaLH\">by<!-- --> <!-- -->BrainsphereIT Solutions</div></div></div><a class=\"Link__StyledStandardLink-sc-1xhgva3-0 hOvMtD\" href=\"/p/168899/FactsHCM/#reviews\" target=\"_self\"><div class=\"ProductComparisonRating__RatingContainer-qghrv-0 kMclgi\"><div class=\"StarRating__Root-sc-9jwzgg-0 bQJsCF\"><div class=\"Star__StarBackgroundImage-sc-1moksxx-0 bTkUmn\" color=\"#FF9D28\"></div><div class=\"Star__StarBackgroundImage-sc-1moksxx-0 bTkUmn\" color=\"#FF9D28\"></div><div class=\"Star__StarBackgroundImage-sc-1moksxx-0 bTkUmn\" color=\"#FF9D28\"></div><div class=\"Star__StarBackgroundImage-sc-1moksxx-0 bTkUmn\" color=\"#FF9D28\"></div><div class=\"Star__StarBackgroundImage-sc-1moksxx-0 bTkUmn\" color=\"#FF9D28\"></div><div class=\"StarRating__Rating-sc-9jwzgg-1 cAGyvf\" font-size=\"16px\">0/5</div><span class=\"ProductComparisonRating__Count-qghrv-1 mrbSu\">(0)</span></div></div></a><span class=\"AlternativeProductDescription__Description-sc-7ul2h-0 gUfSHG\"><span class=\"AlternativeProductDescription__DescriptionHeading-sc-7ul2h-1 loPooF\">Best For: </span> <!-- -->FactsHCM has proven record of accomplishment in HR and payroll needs that spans global companies like McDonalds UAE, Bose UAE, Nikon Middle East FZE, BVLGARI and homegrown companies. </span></div></div>,\n",
              " <div class=\"CarouselItem__Item-ise43b-0 kQuVhJ\" height=\"344\" style=\"left:1722px\" width=\"263\"><div class=\"AlternativeProductCard__Root-sc-6dc4ji-0 kyeAKr\"><div class=\"ProductComparisonCardHeader__Header-otlynz-1 dKoOPY\"><a alt=\"\" class=\"ProductComparisonCardHeader__ThumbnailContainer-otlynz-4 kaeVga Thumbnail__A-sc-1xvq2zk-3 gguDbn\" href=\"/p/147868/SnapHRM/\" src=\"https://cdn0.capterra-static.com/logos/150/2104441-1510423652.png\"><img alt=\"\" class=\"Thumbnail__Image-sc-1xvq2zk-0 idhssu\" src=\"https://cdn0.capterra-static.com/logos/150/2104441-1510423652.png\"/></a><div class=\"ProductComparisonCardHeader__CompanyProductDiv-otlynz-2 kXTfQm\"><a class=\"Link__StyledStandardLink-sc-1xhgva3-0 hOvMtD\" href=\"/p/147868/SnapHRM/\" target=\"_self\"><div class=\"ProductComparisonCardHeader__ProductHeading-otlynz-3 kEqxFE\" title=\"SnapHRM\">SnapHRM</div></a><div class=\"ProductComparisonCardHeader__MilliGrayText-otlynz-0 TVaLH\">by<!-- --> <!-- -->Froiden Technologies</div></div></div><a class=\"Link__StyledStandardLink-sc-1xhgva3-0 hOvMtD\" href=\"/p/147868/SnapHRM/reviews/\" target=\"_self\"><div class=\"ProductComparisonRating__RatingContainer-qghrv-0 kMclgi\"><div class=\"StarRating__Root-sc-9jwzgg-0 bQJsCF\"><div class=\"Star__StarBackgroundImage-sc-1moksxx-0 bZqtcc\" color=\"#FF9D28\"></div><div class=\"Star__StarBackgroundImage-sc-1moksxx-0 bZqtcc\" color=\"#FF9D28\"></div><div class=\"Star__StarBackgroundImage-sc-1moksxx-0 bZqtcc\" color=\"#FF9D28\"></div><div class=\"Star__StarBackgroundImage-sc-1moksxx-0 bZqtcc\" color=\"#FF9D28\"></div><div class=\"Star__StarBackgroundImage-sc-1moksxx-0 bZqtcc\" color=\"#FF9D28\"></div><div class=\"StarRating__Rating-sc-9jwzgg-1 cAGyvf\" font-size=\"16px\">5/5</div><span class=\"ProductComparisonRating__Count-qghrv-1 mrbSu\">(20)</span></div></div></a><span class=\"AlternativeProductDescription__Description-sc-7ul2h-0 gUfSHG\"><span class=\"AlternativeProductDescription__DescriptionHeading-sc-7ul2h-1 loPooF\">Best For: </span> <!-- -->Small and Medium Businesses of any category, and startups who want a simple and easy to use HR Management Software which has flexible pricing plans.</span></div></div>,\n",
              " <div class=\"CarouselItem__Item-ise43b-0 kQuVhJ\" height=\"344\" style=\"left:2009px\" width=\"263\"><div class=\"AlternativeProductCard__Root-sc-6dc4ji-0 kyeAKr\"><div class=\"ProductComparisonCardHeader__Header-otlynz-1 dKoOPY\"><a alt=\"\" class=\"ProductComparisonCardHeader__ThumbnailContainer-otlynz-4 kaeVga Thumbnail__A-sc-1xvq2zk-3 gguDbn\" href=\"/p/186825/NeemHR/\" src=\"https://cdn0.capterra-static.com/logos/150/2130703-1557943161.png\"><img alt=\"\" class=\"Thumbnail__Image-sc-1xvq2zk-0 idhssu\" src=\"https://cdn0.capterra-static.com/logos/150/2130703-1557943161.png\"/></a><div class=\"ProductComparisonCardHeader__CompanyProductDiv-otlynz-2 kXTfQm\"><a class=\"Link__StyledStandardLink-sc-1xhgva3-0 hOvMtD\" href=\"/p/186825/NeemHR/\" target=\"_self\"><div class=\"ProductComparisonCardHeader__ProductHeading-otlynz-3 kEqxFE\" title=\"NeemHR\">NeemHR</div></a><div class=\"ProductComparisonCardHeader__MilliGrayText-otlynz-0 TVaLH\">by<!-- --> <!-- -->NeemHR Solutions</div></div></div><a class=\"Link__StyledStandardLink-sc-1xhgva3-0 hOvMtD\" href=\"/p/186825/NeemHR/#reviews\" target=\"_self\"><div class=\"ProductComparisonRating__RatingContainer-qghrv-0 kMclgi\"><div class=\"StarRating__Root-sc-9jwzgg-0 bQJsCF\"><div class=\"Star__StarBackgroundImage-sc-1moksxx-0 bTkUmn\" color=\"#FF9D28\"></div><div class=\"Star__StarBackgroundImage-sc-1moksxx-0 bTkUmn\" color=\"#FF9D28\"></div><div class=\"Star__StarBackgroundImage-sc-1moksxx-0 bTkUmn\" color=\"#FF9D28\"></div><div class=\"Star__StarBackgroundImage-sc-1moksxx-0 bTkUmn\" color=\"#FF9D28\"></div><div class=\"Star__StarBackgroundImage-sc-1moksxx-0 bTkUmn\" color=\"#FF9D28\"></div><div class=\"StarRating__Rating-sc-9jwzgg-1 cAGyvf\" font-size=\"16px\">0/5</div><span class=\"ProductComparisonRating__Count-qghrv-1 mrbSu\">(0)</span></div></div></a><span class=\"AlternativeProductDescription__Description-sc-7ul2h-0 gUfSHG\"><span class=\"AlternativeProductDescription__DescriptionHeading-sc-7ul2h-1 loPooF\">Best For: </span> <!-- -->Small to medium businesses who are looking for the best HR software for growing businesses. Manage your hiring, on-boarding, time-off, employee data and HR workflows in one place.</span></div></div>,\n",
              " <div class=\"CarouselItem__Item-ise43b-0 kQuVhJ\" height=\"344\" style=\"left:2296px\" width=\"263\"><div class=\"AlternativeProductCard__Root-sc-6dc4ji-0 kyeAKr\"><div class=\"ProductComparisonCardHeader__Header-otlynz-1 dKoOPY\"><a alt=\"\" class=\"ProductComparisonCardHeader__ThumbnailContainer-otlynz-4 kaeVga Thumbnail__A-sc-1xvq2zk-3 gguDbn\" href=\"/p/191873/Purple-Bureau/\" src=\"https://cdn0.capterra-static.com/logos/150/2134255-1565886535.png\"><img alt=\"\" class=\"Thumbnail__Image-sc-1xvq2zk-0 idhssu\" src=\"https://cdn0.capterra-static.com/logos/150/2134255-1565886535.png\"/></a><div class=\"ProductComparisonCardHeader__CompanyProductDiv-otlynz-2 kXTfQm\"><a class=\"Link__StyledStandardLink-sc-1xhgva3-0 hOvMtD\" href=\"/p/191873/Purple-Bureau/\" target=\"_self\"><div class=\"ProductComparisonCardHeader__ProductHeading-otlynz-3 kEqxFE\" title=\"Purple Bureau\">Purple Bureau</div></a><div class=\"ProductComparisonCardHeader__MilliGrayText-otlynz-0 TVaLH\">by<!-- --> <!-- -->SevenSprings</div></div></div><a class=\"Link__StyledStandardLink-sc-1xhgva3-0 hOvMtD\" href=\"/p/191873/Purple-Bureau/#reviews\" target=\"_self\"><div class=\"ProductComparisonRating__RatingContainer-qghrv-0 kMclgi\"><div class=\"StarRating__Root-sc-9jwzgg-0 bQJsCF\"><div class=\"Star__StarBackgroundImage-sc-1moksxx-0 bZqtcc\" color=\"#FF9D28\"></div><div class=\"Star__StarBackgroundImage-sc-1moksxx-0 bZqtcc\" color=\"#FF9D28\"></div><div class=\"Star__StarBackgroundImage-sc-1moksxx-0 bZqtcc\" color=\"#FF9D28\"></div><div class=\"Star__StarBackgroundImage-sc-1moksxx-0 bZqtcc\" color=\"#FF9D28\"></div><div class=\"Star__StarBackgroundImage-sc-1moksxx-0 bZqtcc\" color=\"#FF9D28\"></div><div class=\"StarRating__Rating-sc-9jwzgg-1 cAGyvf\" font-size=\"16px\">5/5</div><span class=\"ProductComparisonRating__Count-qghrv-1 mrbSu\">(1)</span></div></div></a><span class=\"AlternativeProductDescription__Description-sc-7ul2h-0 gUfSHG\"><span class=\"AlternativeProductDescription__DescriptionHeading-sc-7ul2h-1 loPooF\">Best For: </span> <!-- -->From SMEs to Large Enterprises.</span></div></div>]"
            ]
          },
          "metadata": {
            "tags": []
          },
          "execution_count": 36
        }
      ]
    },
    {
      "cell_type": "code",
      "metadata": {
        "id": "cXBnANxcdl0G",
        "colab": {
          "base_uri": "https://localhost:8080/",
          "height": 323
        },
        "outputId": "e386f797-a9b0-41a5-f8bf-82470d27b172"
      },
      "source": [
        "alt_item_name, alt_item_link"
      ],
      "execution_count": null,
      "outputs": [
        {
          "output_type": "execute_result",
          "data": {
            "text/plain": [
              "(['HR4Dealers',\n",
              "  'BizRun',\n",
              "  'Digital HRMS',\n",
              "  'Crosstalent Agile HR...',\n",
              "  'Built for Teams',\n",
              "  'FactsHCM',\n",
              "  'SnapHRM',\n",
              "  'NeemHR',\n",
              "  'Purple Bureau'],\n",
              " ['https://www.capterra.com//p/162969/HR4Dealers/',\n",
              "  'https://www.capterra.com//p/160996/BizRun/',\n",
              "  'https://www.capterra.com//p/174508/Digital-HRMS/',\n",
              "  'https://www.capterra.com//p/187735/Agile-HR-Technology/',\n",
              "  'https://www.capterra.com//p/164380/Built-for-Teams/',\n",
              "  'https://www.capterra.com//p/168899/FactsHCM/',\n",
              "  'https://www.capterra.com//p/147868/SnapHRM/',\n",
              "  'https://www.capterra.com//p/186825/NeemHR/',\n",
              "  'https://www.capterra.com//p/191873/Purple-Bureau/'])"
            ]
          },
          "metadata": {
            "tags": []
          },
          "execution_count": 67
        }
      ]
    },
    {
      "cell_type": "code",
      "metadata": {
        "id": "q4MN-mIDgMAu",
        "colab": {
          "base_uri": "https://localhost:8080/",
          "height": 190
        },
        "outputId": "aff6bbe1-830c-4e32-b338-b8d72c299512"
      },
      "source": [
        "sim_items"
      ],
      "execution_count": null,
      "outputs": [
        {
          "output_type": "execute_result",
          "data": {
            "text/plain": [
              "[<div class=\"ComparisonCard__Root-sc-139pmll-0 jjXmPF\"><div class=\"ProductComparisonCardHeader__Header-otlynz-1 kgTKmX\"><a alt=\"\" class=\"ProductComparisonCardHeader__ThumbnailContainer-otlynz-4 kaeVga Thumbnail__A-sc-1xvq2zk-3 gguDbn\" href=\"/p/141447/BambooHR/\" src=\"https://cdn0.capterra-static.com/logos/2074602-sm-1457739384.png\"><img alt=\"\" class=\"Thumbnail__Image-sc-1xvq2zk-0 idhssu\" src=\"https://cdn0.capterra-static.com/logos/2074602-sm-1457739384.png\"/></a><div class=\"ProductComparisonCardHeader__CompanyProductDiv-otlynz-2 jDCZfK\"><a class=\"Link__StyledStandardLink-sc-1xhgva3-0 hOvMtD\" href=\"/p/141447/BambooHR/\" target=\"_self\"><div class=\"ProductComparisonCardHeader__ProductHeading-otlynz-3 eLpPSs\" title=\"BambooHR\">BambooHR</div></a><div class=\"ProductComparisonCardHeader__MilliGrayText-otlynz-0 TVaLH\">by<!-- --> <!-- -->BambooHR</div></div></div><a class=\"Link__StyledStandardLink-sc-1xhgva3-0 hOvMtD\" href=\"/p/141447/BambooHR/#reviews\" target=\"_self\"><div class=\"ProductComparisonRating__RatingContainer-qghrv-0 jkHfOM\"><div class=\"StarRating__Root-sc-9jwzgg-0 bQJsCF\"><div class=\"Star__StarBackgroundImage-sc-1moksxx-0 bZqtcc\" color=\"#FF9D28\"></div><div class=\"Star__StarBackgroundImage-sc-1moksxx-0 bZqtcc\" color=\"#FF9D28\"></div><div class=\"Star__StarBackgroundImage-sc-1moksxx-0 bZqtcc\" color=\"#FF9D28\"></div><div class=\"Star__StarBackgroundImage-sc-1moksxx-0 bZqtcc\" color=\"#FF9D28\"></div><div class=\"Star__StarBackgroundImage-sc-1moksxx-0 gioUvB\" color=\"#FF9D28\"></div><div class=\"StarRating__Rating-sc-9jwzgg-1 cAGyvf\" font-size=\"16px\">4.5/5</div><span class=\"ProductComparisonRating__Count-qghrv-1 mrbSu\">(1136)</span></div></div></a><div class=\"ComparisonDescription__Description-reio9r-0 hDifEj\">The #1 online HRIS system for small and medium businesses. Our award-winning talent management platform sets you free to do great work....</div><div class=\"ComparisonCheckbox__CheckboxContainer-mjlpg3-0 kojODR\"><label class=\"Checkbox__Label-sc-1y0jip4-0 htFYju\"><input class=\"Checkbox__Input-sc-1y0jip4-1 hogIRZ\" name=\"141447\" type=\"checkbox\" value=\"false\"/><span class=\"Checkbox__CheckboxText-sc-1y0jip4-3 iKewBt\">Add to Compare</span></label></div></div>,\n",
              " <div class=\"ComparisonCard__Root-sc-139pmll-0 jjXmPF\"><div class=\"ProductComparisonCardHeader__Header-otlynz-1 kgTKmX\"><a alt=\"\" class=\"ProductComparisonCardHeader__ThumbnailContainer-otlynz-4 kaeVga Thumbnail__A-sc-1xvq2zk-3 gguDbn\" href=\"/p/154985/Glint/\" src=\"https://cdn0.capterra-static.com/logos/2108864-sm-1497900328.png\"><img alt=\"\" class=\"Thumbnail__Image-sc-1xvq2zk-0 idhssu\" src=\"https://cdn0.capterra-static.com/logos/2108864-sm-1497900328.png\"/></a><div class=\"ProductComparisonCardHeader__CompanyProductDiv-otlynz-2 jDCZfK\"><a class=\"Link__StyledStandardLink-sc-1xhgva3-0 hOvMtD\" href=\"/p/154985/Glint/\" target=\"_self\"><div class=\"ProductComparisonCardHeader__ProductHeading-otlynz-3 eLpPSs\" title=\"Glint\">Glint</div></a><div class=\"ProductComparisonCardHeader__MilliGrayText-otlynz-0 TVaLH\">by<!-- --> <!-- -->Glint</div></div></div><a class=\"Link__StyledStandardLink-sc-1xhgva3-0 hOvMtD\" href=\"/p/154985/Glint/#reviews\" target=\"_self\"><div class=\"ProductComparisonRating__RatingContainer-qghrv-0 jkHfOM\"><div class=\"StarRating__Root-sc-9jwzgg-0 bQJsCF\"><div class=\"Star__StarBackgroundImage-sc-1moksxx-0 bZqtcc\" color=\"#FF9D28\"></div><div class=\"Star__StarBackgroundImage-sc-1moksxx-0 bZqtcc\" color=\"#FF9D28\"></div><div class=\"Star__StarBackgroundImage-sc-1moksxx-0 bZqtcc\" color=\"#FF9D28\"></div><div class=\"Star__StarBackgroundImage-sc-1moksxx-0 bZqtcc\" color=\"#FF9D28\"></div><div class=\"Star__StarBackgroundImage-sc-1moksxx-0 gioUvB\" color=\"#FF9D28\"></div><div class=\"StarRating__Rating-sc-9jwzgg-1 cAGyvf\" font-size=\"16px\">4.7/5</div><span class=\"ProductComparisonRating__Count-qghrv-1 mrbSu\">(16)</span></div></div></a><div class=\"ComparisonDescription__Description-reio9r-0 hDifEj\">Glint people success platform helps global organizations increase employee engagement, develop their people, and improve results....</div><div class=\"ComparisonCheckbox__CheckboxContainer-mjlpg3-0 kojODR\"><label class=\"Checkbox__Label-sc-1y0jip4-0 htFYju\"><input class=\"Checkbox__Input-sc-1y0jip4-1 hogIRZ\" name=\"154985\" type=\"checkbox\" value=\"false\"/><span class=\"Checkbox__CheckboxText-sc-1y0jip4-3 iKewBt\">Add to Compare</span></label></div></div>,\n",
              " <div class=\"ComparisonCard__Root-sc-139pmll-0 jjXmPF\"><div class=\"ProductComparisonCardHeader__Header-otlynz-1 kgTKmX\"><a alt=\"\" class=\"ProductComparisonCardHeader__ThumbnailContainer-otlynz-4 kaeVga Thumbnail__A-sc-1xvq2zk-3 gguDbn\" href=\"/p/87750/JazzHR/\" src=\"https://cdn0.capterra-static.com/logos/2055924-sm-1550088056.png\"><img alt=\"\" class=\"Thumbnail__Image-sc-1xvq2zk-0 idhssu\" src=\"https://cdn0.capterra-static.com/logos/2055924-sm-1550088056.png\"/></a><div class=\"ProductComparisonCardHeader__CompanyProductDiv-otlynz-2 jDCZfK\"><a class=\"Link__StyledStandardLink-sc-1xhgva3-0 hOvMtD\" href=\"/p/87750/JazzHR/\" target=\"_self\"><div class=\"ProductComparisonCardHeader__ProductHeading-otlynz-3 eLpPSs\" title=\"JazzHR\">JazzHR</div></a><div class=\"ProductComparisonCardHeader__MilliGrayText-otlynz-0 TVaLH\">by<!-- --> <!-- -->JazzHR</div></div></div><a class=\"Link__StyledStandardLink-sc-1xhgva3-0 hOvMtD\" href=\"/p/87750/JazzHR/#reviews\" target=\"_self\"><div class=\"ProductComparisonRating__RatingContainer-qghrv-0 jkHfOM\"><div class=\"StarRating__Root-sc-9jwzgg-0 bQJsCF\"><div class=\"Star__StarBackgroundImage-sc-1moksxx-0 bZqtcc\" color=\"#FF9D28\"></div><div class=\"Star__StarBackgroundImage-sc-1moksxx-0 bZqtcc\" color=\"#FF9D28\"></div><div class=\"Star__StarBackgroundImage-sc-1moksxx-0 bZqtcc\" color=\"#FF9D28\"></div><div class=\"Star__StarBackgroundImage-sc-1moksxx-0 bZqtcc\" color=\"#FF9D28\"></div><div class=\"Star__StarBackgroundImage-sc-1moksxx-0 gioUvB\" color=\"#FF9D28\"></div><div class=\"StarRating__Rating-sc-9jwzgg-1 cAGyvf\" font-size=\"16px\">4.4/5</div><span class=\"ProductComparisonRating__Count-qghrv-1 mrbSu\">(403)</span></div></div></a><div class=\"ComparisonDescription__Description-reio9r-0 hDifEj\">JazzHR is on a mission to make recruiting and hiring easy, effective, and scalable no matter what growth looks like at your company....</div><div class=\"ComparisonCheckbox__CheckboxContainer-mjlpg3-0 kojODR\"><label class=\"Checkbox__Label-sc-1y0jip4-0 htFYju\"><input class=\"Checkbox__Input-sc-1y0jip4-1 hogIRZ\" name=\"87750\" type=\"checkbox\" value=\"false\"/><span class=\"Checkbox__CheckboxText-sc-1y0jip4-3 iKewBt\">Add to Compare</span></label></div></div>,\n",
              " <div class=\"ComparisonCard__Root-sc-139pmll-0 jjXmPF\"><div class=\"ProductComparisonCardHeader__Header-otlynz-1 kgTKmX\"><a alt=\"\" class=\"ProductComparisonCardHeader__ThumbnailContainer-otlynz-4 kaeVga Thumbnail__A-sc-1xvq2zk-3 gguDbn\" href=\"/p/146511/MentorcliQ-Employee-Mentoring/\" src=\"https://cdn0.capterra-static.com/logos/2103465-sm-1549367464.png\"><img alt=\"\" class=\"Thumbnail__Image-sc-1xvq2zk-0 idhssu\" src=\"https://cdn0.capterra-static.com/logos/2103465-sm-1549367464.png\"/></a><div class=\"ProductComparisonCardHeader__CompanyProductDiv-otlynz-2 jDCZfK\"><a class=\"Link__StyledStandardLink-sc-1xhgva3-0 hOvMtD\" href=\"/p/146511/MentorcliQ-Employee-Mentoring/\" target=\"_self\"><div class=\"ProductComparisonCardHeader__ProductHeading-otlynz-3 eLpPSs\" title=\"MentorcliQ Employee Mentoring\">MentorcliQ Employee ...</div></a><div class=\"ProductComparisonCardHeader__MilliGrayText-otlynz-0 TVaLH\">by<!-- --> <!-- -->MentorcliQ</div></div></div><a class=\"Link__StyledStandardLink-sc-1xhgva3-0 hOvMtD\" href=\"/p/146511/MentorcliQ-Employee-Mentoring/#reviews\" target=\"_self\"><div class=\"ProductComparisonRating__RatingContainer-qghrv-0 jkHfOM\"><div class=\"StarRating__Root-sc-9jwzgg-0 bQJsCF\"><div class=\"Star__StarBackgroundImage-sc-1moksxx-0 bZqtcc\" color=\"#FF9D28\"></div><div class=\"Star__StarBackgroundImage-sc-1moksxx-0 bZqtcc\" color=\"#FF9D28\"></div><div class=\"Star__StarBackgroundImage-sc-1moksxx-0 bZqtcc\" color=\"#FF9D28\"></div><div class=\"Star__StarBackgroundImage-sc-1moksxx-0 bZqtcc\" color=\"#FF9D28\"></div><div class=\"Star__StarBackgroundImage-sc-1moksxx-0 bZqtcc\" color=\"#FF9D28\"></div><div class=\"StarRating__Rating-sc-9jwzgg-1 cAGyvf\" font-size=\"16px\">5/5</div><span class=\"ProductComparisonRating__Count-qghrv-1 mrbSu\">(44)</span></div></div></a><div class=\"ComparisonDescription__Description-reio9r-0 hDifEj\">Cloud-based, Award-winning mentoring software that inspires employee engagement and delivers measurable business results....</div><div class=\"ComparisonCheckbox__CheckboxContainer-mjlpg3-0 kojODR\"><label class=\"Checkbox__Label-sc-1y0jip4-0 htFYju\"><input class=\"Checkbox__Input-sc-1y0jip4-1 hogIRZ\" name=\"146511\" type=\"checkbox\" value=\"false\"/><span class=\"Checkbox__CheckboxText-sc-1y0jip4-3 iKewBt\">Add to Compare</span></label></div></div>,\n",
              " <div class=\"ComparisonCard__Root-sc-139pmll-0 jjXmPF\"><div class=\"ProductComparisonCardHeader__Header-otlynz-1 kgTKmX\"><a alt=\"\" class=\"ProductComparisonCardHeader__ThumbnailContainer-otlynz-4 kaeVga Thumbnail__A-sc-1xvq2zk-3 gguDbn\" href=\"/p/97171/TrackStar-Skills-Tracker/\" src=\"https://cdn0.capterra-static.com/logos/2059805-sm-1567804831.png\"><img alt=\"\" class=\"Thumbnail__Image-sc-1xvq2zk-0 idhssu\" src=\"https://cdn0.capterra-static.com/logos/2059805-sm-1567804831.png\"/></a><div class=\"ProductComparisonCardHeader__CompanyProductDiv-otlynz-2 jDCZfK\"><a class=\"Link__StyledStandardLink-sc-1xhgva3-0 hOvMtD\" href=\"/p/97171/TrackStar-Skills-Tracker/\" target=\"_self\"><div class=\"ProductComparisonCardHeader__ProductHeading-otlynz-3 eLpPSs\" title=\"Skills and Training Tracking\">Skills and Training ...</div></a><div class=\"ProductComparisonCardHeader__MilliGrayText-otlynz-0 TVaLH\">by<!-- --> <!-- -->Internal Systems</div></div></div><a class=\"Link__StyledStandardLink-sc-1xhgva3-0 hOvMtD\" href=\"/p/97171/TrackStar-Skills-Tracker/#reviews\" target=\"_self\"><div class=\"ProductComparisonRating__RatingContainer-qghrv-0 jkHfOM\"><div class=\"StarRating__Root-sc-9jwzgg-0 bQJsCF\"><div class=\"Star__StarBackgroundImage-sc-1moksxx-0 bZqtcc\" color=\"#FF9D28\"></div><div class=\"Star__StarBackgroundImage-sc-1moksxx-0 bZqtcc\" color=\"#FF9D28\"></div><div class=\"Star__StarBackgroundImage-sc-1moksxx-0 bZqtcc\" color=\"#FF9D28\"></div><div class=\"Star__StarBackgroundImage-sc-1moksxx-0 bZqtcc\" color=\"#FF9D28\"></div><div class=\"Star__StarBackgroundImage-sc-1moksxx-0 bZqtcc\" color=\"#FF9D28\"></div><div class=\"StarRating__Rating-sc-9jwzgg-1 cAGyvf\" font-size=\"16px\">5/5</div><span class=\"ProductComparisonRating__Count-qghrv-1 mrbSu\">(1)</span></div></div></a><div class=\"ComparisonDescription__Description-reio9r-0 hDifEj\">Comprehensive and affordable system for managing and tracking employee skills...</div><div class=\"ComparisonCheckbox__CheckboxContainer-mjlpg3-0 kojODR\"><label class=\"Checkbox__Label-sc-1y0jip4-0 htFYju\"><input class=\"Checkbox__Input-sc-1y0jip4-1 hogIRZ\" name=\"97171\" type=\"checkbox\" value=\"false\"/><span class=\"Checkbox__CheckboxText-sc-1y0jip4-3 iKewBt\">Add to Compare</span></label></div></div>,\n",
              " <div class=\"ComparisonCard__Root-sc-139pmll-0 jjXmPF\"><div class=\"ProductComparisonCardHeader__Header-otlynz-1 kgTKmX\"><a alt=\"\" class=\"ProductComparisonCardHeader__ThumbnailContainer-otlynz-4 kaeVga Thumbnail__A-sc-1xvq2zk-3 gguDbn\" href=\"/p/140650/Recruitee/\" src=\"https://cdn0.capterra-static.com/logos/2099121-sm-1583419070.png\"><img alt=\"\" class=\"Thumbnail__Image-sc-1xvq2zk-0 idhssu\" src=\"https://cdn0.capterra-static.com/logos/2099121-sm-1583419070.png\"/></a><div class=\"ProductComparisonCardHeader__CompanyProductDiv-otlynz-2 jDCZfK\"><a class=\"Link__StyledStandardLink-sc-1xhgva3-0 hOvMtD\" href=\"/p/140650/Recruitee/\" target=\"_self\"><div class=\"ProductComparisonCardHeader__ProductHeading-otlynz-3 eLpPSs\" title=\"Recruitee\">Recruitee</div></a><div class=\"ProductComparisonCardHeader__MilliGrayText-otlynz-0 TVaLH\">by<!-- --> <!-- -->Recruitee</div></div></div><a class=\"Link__StyledStandardLink-sc-1xhgva3-0 hOvMtD\" href=\"/p/140650/Recruitee/#reviews\" target=\"_self\"><div class=\"ProductComparisonRating__RatingContainer-qghrv-0 jkHfOM\"><div class=\"StarRating__Root-sc-9jwzgg-0 bQJsCF\"><div class=\"Star__StarBackgroundImage-sc-1moksxx-0 bZqtcc\" color=\"#FF9D28\"></div><div class=\"Star__StarBackgroundImage-sc-1moksxx-0 bZqtcc\" color=\"#FF9D28\"></div><div class=\"Star__StarBackgroundImage-sc-1moksxx-0 bZqtcc\" color=\"#FF9D28\"></div><div class=\"Star__StarBackgroundImage-sc-1moksxx-0 bZqtcc\" color=\"#FF9D28\"></div><div class=\"Star__StarBackgroundImage-sc-1moksxx-0 gioUvB\" color=\"#FF9D28\"></div><div class=\"StarRating__Rating-sc-9jwzgg-1 cAGyvf\" font-size=\"16px\">4.5/5</div><span class=\"ProductComparisonRating__Count-qghrv-1 mrbSu\">(144)</span></div></div></a><div class=\"ComparisonDescription__Description-reio9r-0 hDifEj\">Modern recruitment software for streamlining, automating and optimizing your recruitment process. ...</div><div class=\"ComparisonCheckbox__CheckboxContainer-mjlpg3-0 kojODR\"><label class=\"Checkbox__Label-sc-1y0jip4-0 htFYju\"><input class=\"Checkbox__Input-sc-1y0jip4-1 hogIRZ\" name=\"140650\" type=\"checkbox\" value=\"false\"/><span class=\"Checkbox__CheckboxText-sc-1y0jip4-3 iKewBt\">Add to Compare</span></label></div></div>,\n",
              " <div class=\"ComparisonCard__Root-sc-139pmll-0 jjXmPF\"><div class=\"ProductComparisonCardHeader__Header-otlynz-1 kgTKmX\"><a alt=\"\" class=\"ProductComparisonCardHeader__ThumbnailContainer-otlynz-4 kaeVga Thumbnail__A-sc-1xvq2zk-3 gguDbn\" href=\"/p/150609/eloomi/\" src=\"https://cdn0.capterra-static.com/logos/2106123-sm-1528118117.png\"><img alt=\"\" class=\"Thumbnail__Image-sc-1xvq2zk-0 idhssu\" src=\"https://cdn0.capterra-static.com/logos/2106123-sm-1528118117.png\"/></a><div class=\"ProductComparisonCardHeader__CompanyProductDiv-otlynz-2 jDCZfK\"><a class=\"Link__StyledStandardLink-sc-1xhgva3-0 hOvMtD\" href=\"/p/150609/eloomi/\" target=\"_self\"><div class=\"ProductComparisonCardHeader__ProductHeading-otlynz-3 eLpPSs\" title=\"eloomi\">eloomi</div></a><div class=\"ProductComparisonCardHeader__MilliGrayText-otlynz-0 TVaLH\">by<!-- --> <!-- -->eloomi</div></div></div><a class=\"Link__StyledStandardLink-sc-1xhgva3-0 hOvMtD\" href=\"/p/150609/eloomi/#reviews\" target=\"_self\"><div class=\"ProductComparisonRating__RatingContainer-qghrv-0 jkHfOM\"><div class=\"StarRating__Root-sc-9jwzgg-0 bQJsCF\"><div class=\"Star__StarBackgroundImage-sc-1moksxx-0 bZqtcc\" color=\"#FF9D28\"></div><div class=\"Star__StarBackgroundImage-sc-1moksxx-0 bZqtcc\" color=\"#FF9D28\"></div><div class=\"Star__StarBackgroundImage-sc-1moksxx-0 bZqtcc\" color=\"#FF9D28\"></div><div class=\"Star__StarBackgroundImage-sc-1moksxx-0 bZqtcc\" color=\"#FF9D28\"></div><div class=\"Star__StarBackgroundImage-sc-1moksxx-0 gioUvB\" color=\"#FF9D28\"></div><div class=\"StarRating__Rating-sc-9jwzgg-1 cAGyvf\" font-size=\"16px\">4.6/5</div><span class=\"ProductComparisonRating__Count-qghrv-1 mrbSu\">(59)</span></div></div></a><div class=\"ComparisonDescription__Description-reio9r-0 hDifEj\">Build personal development plans, provide ongoing feedback and lead your employees towards becoming a top performer!...</div><div class=\"ComparisonCheckbox__CheckboxContainer-mjlpg3-0 kojODR\"><label class=\"Checkbox__Label-sc-1y0jip4-0 htFYju\"><input class=\"Checkbox__Input-sc-1y0jip4-1 hogIRZ\" name=\"150609\" type=\"checkbox\" value=\"false\"/><span class=\"Checkbox__CheckboxText-sc-1y0jip4-3 iKewBt\">Add to Compare</span></label></div></div>,\n",
              " <div class=\"ComparisonCard__Root-sc-139pmll-0 jjXmPF\"><div class=\"ProductComparisonCardHeader__Header-otlynz-1 kgTKmX\"><a alt=\"\" class=\"ProductComparisonCardHeader__ThumbnailContainer-otlynz-4 kaeVga Thumbnail__A-sc-1xvq2zk-3 gguDbn\" href=\"/p/153907/BizMerlin/\" src=\"https://cdn0.capterra-static.com/logos/2108178-sm-1489072467.png\"><img alt=\"\" class=\"Thumbnail__Image-sc-1xvq2zk-0 idhssu\" src=\"https://cdn0.capterra-static.com/logos/2108178-sm-1489072467.png\"/></a><div class=\"ProductComparisonCardHeader__CompanyProductDiv-otlynz-2 jDCZfK\"><a class=\"Link__StyledStandardLink-sc-1xhgva3-0 hOvMtD\" href=\"/p/153907/BizMerlin/\" target=\"_self\"><div class=\"ProductComparisonCardHeader__ProductHeading-otlynz-3 eLpPSs\" title=\"BizMerlinHR\">BizMerlinHR</div></a><div class=\"ProductComparisonCardHeader__MilliGrayText-otlynz-0 TVaLH\">by<!-- --> <!-- -->BizMerlinHR</div></div></div><a class=\"Link__StyledStandardLink-sc-1xhgva3-0 hOvMtD\" href=\"/p/153907/BizMerlin/#reviews\" target=\"_self\"><div class=\"ProductComparisonRating__RatingContainer-qghrv-0 jkHfOM\"><div class=\"StarRating__Root-sc-9jwzgg-0 bQJsCF\"><div class=\"Star__StarBackgroundImage-sc-1moksxx-0 bZqtcc\" color=\"#FF9D28\"></div><div class=\"Star__StarBackgroundImage-sc-1moksxx-0 bZqtcc\" color=\"#FF9D28\"></div><div class=\"Star__StarBackgroundImage-sc-1moksxx-0 bZqtcc\" color=\"#FF9D28\"></div><div class=\"Star__StarBackgroundImage-sc-1moksxx-0 bZqtcc\" color=\"#FF9D28\"></div><div class=\"Star__StarBackgroundImage-sc-1moksxx-0 gioUvB\" color=\"#FF9D28\"></div><div class=\"StarRating__Rating-sc-9jwzgg-1 cAGyvf\" font-size=\"16px\">4.6/5</div><span class=\"ProductComparisonRating__Count-qghrv-1 mrbSu\">(14)</span></div></div></a><div class=\"ComparisonDescription__Description-reio9r-0 hDifEj\">Hire, onboard, manage and retain your team members with ease.  Feel the HR Bliss with BizMerlinHR....</div><div class=\"ComparisonCheckbox__CheckboxContainer-mjlpg3-0 kojODR\"><label class=\"Checkbox__Label-sc-1y0jip4-0 htFYju\"><input class=\"Checkbox__Input-sc-1y0jip4-1 hogIRZ\" name=\"153907\" type=\"checkbox\" value=\"false\"/><span class=\"Checkbox__CheckboxText-sc-1y0jip4-3 iKewBt\">Add to Compare</span></label></div></div>,\n",
              " <div class=\"ComparisonCard__Root-sc-139pmll-0 jjXmPF\"><div class=\"ProductComparisonCardHeader__Header-otlynz-1 kgTKmX\"><a alt=\"\" class=\"ProductComparisonCardHeader__ThumbnailContainer-otlynz-4 kaeVga Thumbnail__A-sc-1xvq2zk-3 gguDbn\" href=\"/p/180512/Fetcher/\" src=\"https://cdn0.capterra-static.com/logos/2126012-sm-1588872666.png\"><img alt=\"\" class=\"Thumbnail__Image-sc-1xvq2zk-0 idhssu\" src=\"https://cdn0.capterra-static.com/logos/2126012-sm-1588872666.png\"/></a><div class=\"ProductComparisonCardHeader__CompanyProductDiv-otlynz-2 jDCZfK\"><a class=\"Link__StyledStandardLink-sc-1xhgva3-0 hOvMtD\" href=\"/p/180512/Fetcher/\" target=\"_self\"><div class=\"ProductComparisonCardHeader__ProductHeading-otlynz-3 eLpPSs\" title=\"Fetcher\">Fetcher</div></a><div class=\"ProductComparisonCardHeader__MilliGrayText-otlynz-0 TVaLH\">by<!-- --> <!-- -->Fetcher</div></div></div><a class=\"Link__StyledStandardLink-sc-1xhgva3-0 hOvMtD\" href=\"/p/180512/Fetcher/#reviews\" target=\"_self\"><div class=\"ProductComparisonRating__RatingContainer-qghrv-0 jkHfOM\"><div class=\"StarRating__Root-sc-9jwzgg-0 bQJsCF\"><div class=\"Star__StarBackgroundImage-sc-1moksxx-0 bZqtcc\" color=\"#FF9D28\"></div><div class=\"Star__StarBackgroundImage-sc-1moksxx-0 bZqtcc\" color=\"#FF9D28\"></div><div class=\"Star__StarBackgroundImage-sc-1moksxx-0 bZqtcc\" color=\"#FF9D28\"></div><div class=\"Star__StarBackgroundImage-sc-1moksxx-0 bZqtcc\" color=\"#FF9D28\"></div><div class=\"Star__StarBackgroundImage-sc-1moksxx-0 bZqtcc\" color=\"#FF9D28\"></div><div class=\"StarRating__Rating-sc-9jwzgg-1 cAGyvf\" font-size=\"16px\">4.8/5</div><span class=\"ProductComparisonRating__Count-qghrv-1 mrbSu\">(11)</span></div></div></a><div class=\"ComparisonDescription__Description-reio9r-0 hDifEj\">Fetcher's full-service, recruiting automation platform brings qualified, interested candidates directly to your inbox - fast!...</div><div class=\"ComparisonCheckbox__CheckboxContainer-mjlpg3-0 kojODR\"><label class=\"Checkbox__Label-sc-1y0jip4-0 htFYju\"><input class=\"Checkbox__Input-sc-1y0jip4-1 hogIRZ\" name=\"180512\" type=\"checkbox\" value=\"false\"/><span class=\"Checkbox__CheckboxText-sc-1y0jip4-3 iKewBt\">Add to Compare</span></label></div></div>]"
            ]
          },
          "metadata": {
            "tags": []
          },
          "execution_count": 76
        }
      ]
    },
    {
      "cell_type": "code",
      "metadata": {
        "id": "-dMZnU9Bh-nr",
        "colab": {
          "base_uri": "https://localhost:8080/",
          "height": 323
        },
        "outputId": "69aedacc-da9f-4c26-db49-947c7d3cdb9f"
      },
      "source": [
        "sim_items_name, sim_items_link"
      ],
      "execution_count": null,
      "outputs": [
        {
          "output_type": "execute_result",
          "data": {
            "text/plain": [
              "(['BambooHR',\n",
              "  'Glint',\n",
              "  'JazzHR',\n",
              "  'MentorcliQ Employee ...',\n",
              "  'Skills and Training ...',\n",
              "  'Recruitee',\n",
              "  'eloomi',\n",
              "  'BizMerlinHR',\n",
              "  'Fetcher'],\n",
              " ['https://www.capterra.com//p/141447/BambooHR/',\n",
              "  'https://www.capterra.com//p/154985/Glint/',\n",
              "  'https://www.capterra.com//p/87750/JazzHR/',\n",
              "  'https://www.capterra.com//p/146511/MentorcliQ-Employee-Mentoring/',\n",
              "  'https://www.capterra.com//p/97171/TrackStar-Skills-Tracker/',\n",
              "  'https://www.capterra.com//p/140650/Recruitee/',\n",
              "  'https://www.capterra.com//p/150609/eloomi/',\n",
              "  'https://www.capterra.com//p/153907/BizMerlin/',\n",
              "  'https://www.capterra.com//p/180512/Fetcher/'])"
            ]
          },
          "metadata": {
            "tags": []
          },
          "execution_count": 82
        }
      ]
    },
    {
      "cell_type": "code",
      "metadata": {
        "id": "rU9kM-hRiSAk"
      },
      "source": [
        "capterra = pd.DataFrame({'Product':title,\n",
        "                         'Rating':ratings,\n",
        "                         'Similar Products':sim_prod,\n",
        "                         'Alternative Products':alt_prod,\n",
        "                         })"
      ],
      "execution_count": null,
      "outputs": []
    },
    {
      "cell_type": "code",
      "metadata": {
        "id": "i4rX5XBSi-2q",
        "colab": {
          "base_uri": "https://localhost:8080/",
          "height": 328
        },
        "outputId": "974d32e1-58ef-4875-8dd8-6c8b918759f8"
      },
      "source": [
        "#Final Result\n",
        "capterra"
      ],
      "execution_count": null,
      "outputs": [
        {
          "output_type": "execute_result",
          "data": {
            "text/html": [
              "<div>\n",
              "<style scoped>\n",
              "    .dataframe tbody tr th:only-of-type {\n",
              "        vertical-align: middle;\n",
              "    }\n",
              "\n",
              "    .dataframe tbody tr th {\n",
              "        vertical-align: top;\n",
              "    }\n",
              "\n",
              "    .dataframe thead th {\n",
              "        text-align: right;\n",
              "    }\n",
              "</style>\n",
              "<table border=\"1\" class=\"dataframe\">\n",
              "  <thead>\n",
              "    <tr style=\"text-align: right;\">\n",
              "      <th></th>\n",
              "      <th>Product</th>\n",
              "      <th>Rating</th>\n",
              "      <th>Similar Products</th>\n",
              "      <th>Alternative Products</th>\n",
              "    </tr>\n",
              "  </thead>\n",
              "  <tbody>\n",
              "    <tr>\n",
              "      <th>0</th>\n",
              "      <td>Oorwin</td>\n",
              "      <td>4.7/5</td>\n",
              "      <td>(BambooHR, https://www.capterra.com//p/141447/...</td>\n",
              "      <td>(HR4Dealers, https://www.capterra.com//p/16296...</td>\n",
              "    </tr>\n",
              "    <tr>\n",
              "      <th>1</th>\n",
              "      <td>Oorwin</td>\n",
              "      <td>4.7/5</td>\n",
              "      <td>(Glint, https://www.capterra.com//p/154985/Gli...</td>\n",
              "      <td>(BizRun, https://www.capterra.com//p/160996/Bi...</td>\n",
              "    </tr>\n",
              "    <tr>\n",
              "      <th>2</th>\n",
              "      <td>Oorwin</td>\n",
              "      <td>4.7/5</td>\n",
              "      <td>(JazzHR, https://www.capterra.com//p/87750/Jaz...</td>\n",
              "      <td>(Digital HRMS, https://www.capterra.com//p/174...</td>\n",
              "    </tr>\n",
              "    <tr>\n",
              "      <th>3</th>\n",
              "      <td>Oorwin</td>\n",
              "      <td>4.7/5</td>\n",
              "      <td>(MentorcliQ Employee ..., https://www.capterra...</td>\n",
              "      <td>(Crosstalent Agile HR..., https://www.capterra...</td>\n",
              "    </tr>\n",
              "    <tr>\n",
              "      <th>4</th>\n",
              "      <td>Oorwin</td>\n",
              "      <td>4.7/5</td>\n",
              "      <td>(Skills and Training ..., https://www.capterra...</td>\n",
              "      <td>(Built for Teams, https://www.capterra.com//p/...</td>\n",
              "    </tr>\n",
              "    <tr>\n",
              "      <th>5</th>\n",
              "      <td>Oorwin</td>\n",
              "      <td>4.7/5</td>\n",
              "      <td>(Recruitee, https://www.capterra.com//p/140650...</td>\n",
              "      <td>(FactsHCM, https://www.capterra.com//p/168899/...</td>\n",
              "    </tr>\n",
              "    <tr>\n",
              "      <th>6</th>\n",
              "      <td>Oorwin</td>\n",
              "      <td>4.7/5</td>\n",
              "      <td>(eloomi, https://www.capterra.com//p/150609/el...</td>\n",
              "      <td>(SnapHRM, https://www.capterra.com//p/147868/S...</td>\n",
              "    </tr>\n",
              "    <tr>\n",
              "      <th>7</th>\n",
              "      <td>Oorwin</td>\n",
              "      <td>4.7/5</td>\n",
              "      <td>(BizMerlinHR, https://www.capterra.com//p/1539...</td>\n",
              "      <td>(NeemHR, https://www.capterra.com//p/186825/Ne...</td>\n",
              "    </tr>\n",
              "    <tr>\n",
              "      <th>8</th>\n",
              "      <td>Oorwin</td>\n",
              "      <td>4.7/5</td>\n",
              "      <td>(Fetcher, https://www.capterra.com//p/180512/F...</td>\n",
              "      <td>(Purple Bureau, https://www.capterra.com//p/19...</td>\n",
              "    </tr>\n",
              "  </tbody>\n",
              "</table>\n",
              "</div>"
            ],
            "text/plain": [
              "  Product  ...                               Alternative Products\n",
              "0  Oorwin  ...  (HR4Dealers, https://www.capterra.com//p/16296...\n",
              "1  Oorwin  ...  (BizRun, https://www.capterra.com//p/160996/Bi...\n",
              "2  Oorwin  ...  (Digital HRMS, https://www.capterra.com//p/174...\n",
              "3  Oorwin  ...  (Crosstalent Agile HR..., https://www.capterra...\n",
              "4  Oorwin  ...  (Built for Teams, https://www.capterra.com//p/...\n",
              "5  Oorwin  ...  (FactsHCM, https://www.capterra.com//p/168899/...\n",
              "6  Oorwin  ...  (SnapHRM, https://www.capterra.com//p/147868/S...\n",
              "7  Oorwin  ...  (NeemHR, https://www.capterra.com//p/186825/Ne...\n",
              "8  Oorwin  ...  (Purple Bureau, https://www.capterra.com//p/19...\n",
              "\n",
              "[9 rows x 4 columns]"
            ]
          },
          "metadata": {
            "tags": []
          },
          "execution_count": 94
        }
      ]
    },
    {
      "cell_type": "code",
      "metadata": {
        "id": "EcQPg-x9jFdJ"
      },
      "source": [
        ""
      ],
      "execution_count": null,
      "outputs": []
    }
  ]
}