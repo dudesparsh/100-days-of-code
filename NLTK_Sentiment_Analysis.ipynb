{
  "nbformat": 4,
  "nbformat_minor": 0,
  "metadata": {
    "colab": {
      "name": "NLTK Sentiment Analysis.ipynb",
      "provenance": [],
      "collapsed_sections": [],
      "authorship_tag": "ABX9TyOlPpM95HUZPzIHMknkphBk",
      "include_colab_link": true
    },
    "kernelspec": {
      "name": "python3",
      "display_name": "Python 3"
    },
    "accelerator": "GPU"
  },
  "cells": [
    {
      "cell_type": "markdown",
      "metadata": {
        "id": "view-in-github",
        "colab_type": "text"
      },
      "source": [
        "<a href=\"https://colab.research.google.com/github/dudesparsh/100-days-of-code/blob/master/NLTK_Sentiment_Analysis.ipynb\" target=\"_parent\"><img src=\"https://colab.research.google.com/assets/colab-badge.svg\" alt=\"Open In Colab\"/></a>"
      ]
    },
    {
      "cell_type": "code",
      "metadata": {
        "id": "teRT6n6D56g9"
      },
      "source": [
        "from nltk.sentiment.vader import SentimentIntensityAnalyzer"
      ],
      "execution_count": null,
      "outputs": []
    },
    {
      "cell_type": "code",
      "metadata": {
        "id": "S0SyGFvN6FKX"
      },
      "source": [
        "from nltk import tokenize"
      ],
      "execution_count": null,
      "outputs": []
    },
    {
      "cell_type": "code",
      "metadata": {
        "id": "7jWlxFAC6QWB"
      },
      "source": [
        "sentences = [\"I am feeling good today\", \"We'll see you later\"]"
      ],
      "execution_count": null,
      "outputs": []
    },
    {
      "cell_type": "code",
      "metadata": {
        "colab": {
          "base_uri": "https://localhost:8080/"
        },
        "id": "RXpW0Ce863eV",
        "outputId": "7ddf2c1c-009a-4a79-f068-a42918a8c14d"
      },
      "source": [
        "# pip install nltk\n",
        "# import nltk\n",
        "# nltk.download('vader_lexicon')\n",
        "\n",
        "import nltk\n",
        "from nltk.sentiment import SentimentAnalyzer\n",
        "from nltk.sentiment.util import *\n"
      ],
      "execution_count": null,
      "outputs": [
        {
          "output_type": "stream",
          "text": [
            "[nltk_data] Downloading package vader_lexicon to /root/nltk_data...\n"
          ],
          "name": "stdout"
        },
        {
          "output_type": "execute_result",
          "data": {
            "text/plain": [
              "True"
            ]
          },
          "metadata": {
            "tags": []
          },
          "execution_count": 11
        }
      ]
    },
    {
      "cell_type": "code",
      "metadata": {
        "colab": {
          "base_uri": "https://localhost:8080/"
        },
        "id": "zvocFD4P6Vpz",
        "outputId": "8fb608e9-11a4-4ec1-a6b9-d59d2d041cca"
      },
      "source": [
        "model_start = SentimentIntensityAnalyzer()\n",
        "for sentence in sentences:\n",
        "  print(sentence)\n",
        "  sen_no = model_start.polarity_scores(sentence)\n",
        "  for k in sorted(sen_no):\n",
        "    print('{0}:{1}, '.format(k, sen_no[k]), end=' ')\n",
        "  print()"
      ],
      "execution_count": null,
      "outputs": [
        {
          "output_type": "stream",
          "text": [
            "I am feeling good today\n",
            "compound:0.5267,  neg:0.0,  neu:0.312,  pos:0.688,  \n",
            "We'll see you later\n",
            "compound:0.0,  neg:0.0,  neu:1.0,  pos:0.0,  \n"
          ],
          "name": "stdout"
        }
      ]
    },
    {
      "cell_type": "code",
      "metadata": {
        "colab": {
          "base_uri": "https://localhost:8080/"
        },
        "id": "HwBNuHP18Rwg",
        "outputId": "2c39ccd6-9100-4a32-add1-e8083e8f874a"
      },
      "source": [
        "ss"
      ],
      "execution_count": null,
      "outputs": [
        {
          "output_type": "execute_result",
          "data": {
            "text/plain": [
              "{'compound': 0.0, 'neg': 0.0, 'neu': 1.0, 'pos': 0.0}"
            ]
          },
          "metadata": {
            "tags": []
          },
          "execution_count": 13
        }
      ]
    },
    {
      "cell_type": "code",
      "metadata": {
        "colab": {
          "base_uri": "https://localhost:8080/"
        },
        "id": "ft3CJ1l78SDs",
        "outputId": "9f49eca0-6571-46ed-ff7e-695ebfe0e2c7"
      },
      "source": [
        "print('{0}:{1}, '.format(k, ss[k]), end=' ')"
      ],
      "execution_count": null,
      "outputs": [
        {
          "output_type": "stream",
          "text": [
            "pos:0.0,  "
          ],
          "name": "stdout"
        }
      ]
    },
    {
      "cell_type": "code",
      "metadata": {
        "colab": {
          "base_uri": "https://localhost:8080/"
        },
        "id": "rCkg4J7t8X-E",
        "outputId": "6f09e425-6c42-43a6-c2be-e802ce1e3135"
      },
      "source": [
        "for k in sorted(sen_no):\n",
        "  print(sen_no['compound'])\n",
        "  break"
      ],
      "execution_count": null,
      "outputs": [
        {
          "output_type": "stream",
          "text": [
            "0.0\n"
          ],
          "name": "stdout"
        }
      ]
    },
    {
      "cell_type": "code",
      "metadata": {
        "id": "PD2Vrh4l8pgC"
      },
      "source": [
        "# pip install nltk\n",
        "# import nltk\n",
        "# nltk.download('vader_lexicon')\n",
        "\n",
        "import nltk\n",
        "from nltk.sentiment import SentimentAnalyzer\n",
        "from nltk.sentiment.util import *\n",
        "from nltk.sentiment.vader import SentimentIntensityAnalyzer\n",
        "\n",
        "model_start = SentimentIntensityAnalyzer()\n",
        "for i in range(len(Data)):\n",
        "  try:\n",
        "    sentence = Data['Tweet'][i]\n",
        "    sen_no = model_start.polarity_scores(sentence)\n",
        "    for k in sorted(sen_no):\n",
        "      result = sen_no['compound']\n",
        "      print(result)\n",
        "      Data['Label'][i] = result\n",
        "      break\n",
        "  except:\n",
        "    Data['Label'][i] = 0\n"
      ],
      "execution_count": null,
      "outputs": []
    },
    {
      "cell_type": "code",
      "metadata": {
        "id": "eHQYEzCM-7NK"
      },
      "source": [
        "model_start = SentimentIntensityAnalyzer()\n",
        "for sentence in sentences:\n",
        "  print(sentence)\n",
        "  sen_no = model_start.polarity_scores(sentence)\n",
        "  for k in sorted(sen_no):\n",
        "    print('{0}:{1}, '.format(k, sen_no[k]), end=' ')\n",
        "  print()"
      ],
      "execution_count": null,
      "outputs": []
    },
    {
      "cell_type": "code",
      "metadata": {
        "id": "9F7NQNAt-vLg"
      },
      "source": [
        "for i in range(len(Data)):\n",
        "  try:\n",
        "      sentence = Sentence(Data['Tweet'][i])\n",
        "      # Predicting the sentiment\n",
        "      classifier.predict(sentence)\n",
        "      value = sentence.labels[0].to_dict()['value']\n",
        "      # If sentiment is positive : we take it's value, else we multiply it by -1\n",
        "      if value == 'POSITIVE':\n",
        "        result = sentence.to_dict()['labels'][0]['confidence']\n",
        "      else :\n",
        "        result = -(sentence.to_dict()['labels'][0]['confidence'])\n",
        "      # Storing the result, back in our dataframe in Label column\n",
        "      Data['Label'][i] = result\n",
        "      # print('Sentence above is: ', sentence.labels)\n",
        "  except:\n",
        "      Data['Label'][i] = 0\n"
      ],
      "execution_count": null,
      "outputs": []
    }
  ]
}