{
  "nbformat": 4,
  "nbformat_minor": 0,
  "metadata": {
    "colab": {
      "name": "Food scraper updated.ipynb",
      "provenance": [],
      "collapsed_sections": [],
      "authorship_tag": "ABX9TyP3cyDxPpb3Li3WtsfSJIla",
      "include_colab_link": true
    },
    "kernelspec": {
      "name": "python3",
      "display_name": "Python 3"
    }
  },
  "cells": [
    {
      "cell_type": "markdown",
      "metadata": {
        "id": "view-in-github",
        "colab_type": "text"
      },
      "source": [
        "<a href=\"https://colab.research.google.com/github/dudesparsh/100-days-of-code/blob/master/Food_scraper_updated.ipynb\" target=\"_parent\"><img src=\"https://colab.research.google.com/assets/colab-badge.svg\" alt=\"Open In Colab\"/></a>"
      ]
    },
    {
      "cell_type": "code",
      "metadata": {
        "id": "zru6gu1yl0XM"
      },
      "source": [
        "from time import sleep\n",
        "from bs4 import BeautifulSoup\n",
        "import requests\n",
        "from pprint import pprint\n",
        "\n",
        "str = 'https://www.food.com/recipe/corn-on-the-cob-boiled-284999?ftab=tweaks'"
      ],
      "execution_count": null,
      "outputs": []
    },
    {
      "cell_type": "code",
      "metadata": {
        "id": "1O6YzjNomkdu"
      },
      "source": [
        "import requests\n",
        "\n",
        "headers = {\n",
        "    'Connection': 'keep-alive',\n",
        "    'Cache-Control': 'no-cache',\n",
        "    'DNT': '1',\n",
        "    'Upgrade-Insecure-Requests': '1',\n",
        "    'User-Agent': 'Mozilla/5.0 (X11; Linux x86_64) AppleWebKit/537.36 (KHTML, like Gecko) Chrome/83.0.4103.106 Safari/537.36',\n",
        "    'Accept': 'text/html,application/xhtml+xml,application/xml;q=0.9,image/webp,image/apng,*/*;q=0.8,application/signed-exchange;v=b3;q=0.9',\n",
        "    'Sec-Fetch-Site': 'cross-site',\n",
        "    'Sec-Fetch-Mode': 'navigate',\n",
        "    'Sec-Fetch-User': '?1',\n",
        "    'Sec-Fetch-Dest': 'iframe',\n",
        "    'Referer': 'https://www.food.com/recipe/best-ever-bruschetta-443987?ftab=tweaks',\n",
        "    'Accept-Language': 'en-GB,en-US;q=0.9,en;q=0.8',\n",
        "    'authority': 'secure-dcr.imrworldwide.com',\n",
        "    'user-agent': 'Mozilla/5.0 (X11; Linux x86_64) AppleWebKit/537.36 (KHTML, like Gecko) Chrome/83.0.4103.106 Safari/537.36',\n",
        "    'dnt': '1',\n",
        "    'accept': 'image/webp,image/apng,image/*,*/*;q=0.8',\n",
        "    'sec-fetch-site': 'cross-site',\n",
        "    'sec-fetch-mode': 'no-cors',\n",
        "    'sec-fetch-dest': 'image',\n",
        "    'referer': 'https://www.food.com/recipe/best-ever-bruschetta-443987?ftab=tweaks',\n",
        "    'accept-language': 'en-GB,en-US;q=0.9,en;q=0.8',\n",
        "    'if-modified-since': 'Fri, 21 Dec 2012 00:00:01 GMT',\n",
        "    'Origin': 'https://www.food.com',\n",
        "    'If-None-Match': '1.61803398874',\n",
        "    'If-Modified-Since': 'Thu, 16 Jan 2020 15:30:04 GMT',\n",
        "    'if-none-match': 'W/\"5-fLbvuYullyqbUJDcLlF/4U0SywQ\"',\n",
        "    'intervention': '<https://www.chromestatus.com/feature/5718547946799104>; level=\"warning\"',\n",
        "    'content-type': 'application/x-www-form-urlencoded',\n",
        "    'origin': 'https://www.food.com',\n",
        "    'Intervention': '<https://www.chromestatus.com/feature/5718547946799104>; level=\"warning\"',\n",
        "    'cookie': 'SSCVER=v1; IMRID=494b82a0-5007-11ea-9d99-1f1a9b8b42ae',\n",
        "    'x-client-data': 'CLK1yQEIk7bJAQiltskBCKmdygEI/rzKAQ==',\n",
        "    'whisk-timezone': 'Asia/Calcutta',\n",
        "    'authorization': 'Bearer null',\n",
        "    'x-api-key': 'AwUEJIX8j17uBcBz9OT9qlwj48SxeBX6oINoHTd0',\n",
        "    'access-control-request-method': 'GET',\n",
        "    'access-control-request-headers': 'authorization,x-api-key',\n",
        "    'cache-control': 'max-age=0',\n",
        "    'upgrade-insecure-requests': '1',\n",
        "    'Pragma': 'no-cache',\n",
        "}\n",
        "\n",
        "\n",
        "\n",
        "response = requests.get('https://www.food.com/recipe/best-ever-bruschetta-443987?ftab=tweaks', headers=headers)\n",
        "\n",
        "#NB. Original query string below. It seems impossible to parse and\n",
        "#reproduce query strings 100% accurately so the one below is given\n",
        "#in case the reproduced version is not \"correct\".\n",
        "# response = requests.options('https://www.food.com/recipe/best-ever-bruschetta-443987?ftab=tweaks', headers=headers, cookies=cookies, data=data)\n"
      ],
      "execution_count": null,
      "outputs": []
    },
    {
      "cell_type": "code",
      "metadata": {
        "id": "bJvPFXEXRyB6"
      },
      "source": [
        "def get_tweaks(recipe_id):\n",
        "    params = ((\"sort\", \"-like\"),)\n",
        "    response = requests.get(\n",
        "        \"https://api.food.com/external/v1/recipes/{}/feed/tweaks\".format(recipe_id),\n",
        "        headers=headers,\n",
        "        params=params,\n",
        "    )\n",
        "    if response.ok:\n",
        "        return response.json()\n",
        "    else:\n",
        "        print(response)\n",
        "        return response.text()\n",
        "\n",
        "\n",
        "recipe_id = 284999  # try 284500!"
      ],
      "execution_count": null,
      "outputs": []
    },
    {
      "cell_type": "code",
      "metadata": {
        "id": "1ytRPvgZSCjN"
      },
      "source": [
        "\n",
        "response = requests.get('https://www.food.com/recipe/corn-on-the-cob-boiled-284999?ftab=tweaks')"
      ],
      "execution_count": null,
      "outputs": []
    },
    {
      "cell_type": "code",
      "metadata": {
        "id": "fcucEt2PSDFs",
        "colab": {
          "base_uri": "https://localhost:8080/",
          "height": 34
        },
        "outputId": "e5876d12-eaab-4aa2-9449-dc9a45b44ed5"
      },
      "source": [
        "soup = BeautifulSoup(response.content, 'html.parser')\n",
        "print(soup.find(class_='recipe-title').text)"
      ],
      "execution_count": null,
      "outputs": [
        {
          "output_type": "stream",
          "text": [
            "Corn on the Cob - Boiled\n"
          ],
          "name": "stdout"
        }
      ]
    },
    {
      "cell_type": "code",
      "metadata": {
        "id": "NTtrFOGNSH_X"
      },
      "source": [
        "data_ = get_tweaks(recipe_id)"
      ],
      "execution_count": null,
      "outputs": []
    },
    {
      "cell_type": "code",
      "metadata": {
        "id": "Loib2e9ySOkq",
        "colab": {
          "base_uri": "https://localhost:8080/",
          "height": 1000
        },
        "outputId": "aee4457f-0866-4b53-ef84-c889a1dacea3"
      },
      "source": [
        "pprint(data_)\n",
        "\n",
        "#data_['items'][0]"
      ],
      "execution_count": null,
      "outputs": [
        {
          "output_type": "stream",
          "text": [
            "{'data': {'items': [{'autoDetected': False,\n",
            "                     'counts': {'like': 6, 'liked': False},\n",
            "                     'dateModified': '2018-12-09T08:22:14Z',\n",
            "                     'id': 89549,\n",
            "                     'memberAvatar': 'https://geniuskitchen.sndimg.com/gk/img/avatar/pie.png',\n",
            "                     'memberId': 2002360759,\n",
            "                     'memberName': 'janetleeyoung',\n",
            "                     'memberProfileUrl': 'https://www.food.com/user/2002360759',\n",
            "                     'moderationStatus': 'approved',\n",
            "                     'photos': [],\n",
            "                     'recipeId': 284999,\n",
            "                     'replies': [{'counts': {'like': 1, 'liked': False},\n",
            "                                  'dateModified': '2018-12-17T14:08:36Z',\n",
            "                                  'id': 39188,\n",
            "                                  'memberAvatar': 'https://geniuskitchen.sndimg.com/gk/img/avatar/drink.png',\n",
            "                                  'memberId': 2002037965,\n",
            "                                  'memberName': 'joanne.gregoire',\n",
            "                                  'memberProfileUrl': 'https://www.food.com/user/2002037965',\n",
            "                                  'moderationStatus': 'approved',\n",
            "                                  'parentId': 89549,\n",
            "                                  'parentType': 'tweak',\n",
            "                                  'recipeId': 284999,\n",
            "                                  'submitted': '2018-12-17T14:08:36Z',\n",
            "                                  'text': 'I agree but I also use only an inch '\n",
            "                                          'of water so the corn mostly steams. '\n",
            "                                          'Sometimes I use the steamer basket '\n",
            "                                          'with my pot.',\n",
            "                                  'type': 'reply',\n",
            "                                  'uniqueId': 'reply_39188'}],\n",
            "                     'replyTotal': 1,\n",
            "                     'shareUrl': 'https://www.food.com/recipe/corn-on-the-cob-boiled-284999/tweaks/89549',\n",
            "                     'submitted': '2018-12-09T08:22:14Z',\n",
            "                     'text': \"Don't overcook fresh corn-on-the-cob or it will \"\n",
            "                             'become tough. Corn should be boiled for 5 - 7 '\n",
            "                             \"minutes (not 10 - 15 minutes), at most. Don't \"\n",
            "                             'add salt to the boiling water either because '\n",
            "                             'that will also make it tough.',\n",
            "                     'type': 'tweak',\n",
            "                     'uniqueId': 'tweak_89549'},\n",
            "                    {'autoDetected': False,\n",
            "                     'counts': {'like': 1, 'liked': False},\n",
            "                     'dateModified': '2018-12-26T17:25:15Z',\n",
            "                     'id': 89695,\n",
            "                     'memberAvatar': 'https://img.sndimg.com/food/image/upload/q_92/v1/food_avatar/_guid_eGX8CrGVoFBimC-nMdjwXu-6G5GwvH2GqPfxFcSV2Ys%3D/fWs1T7kTrez0U79dXLz1_download.jpg',\n",
            "                     'memberId': 2002334509,\n",
            "                     'memberName': 'Carl in Boston',\n",
            "                     'memberProfileUrl': 'https://www.food.com/user/2002334509',\n",
            "                     'moderationStatus': 'approved',\n",
            "                     'photos': [],\n",
            "                     'recipeId': 284999,\n",
            "                     'replyTotal': 0,\n",
            "                     'shareUrl': 'https://www.food.com/recipe/corn-on-the-cob-boiled-284999/tweaks/89695',\n",
            "                     'submitted': '2018-12-26T17:25:15Z',\n",
            "                     'text': 'I generally steam my corn on the cob. Sometimes '\n",
            "                             'I microwave it in the husk. Both are efficient '\n",
            "                             'in terms of energy, water and time. If you need '\n",
            "                             'to cook a large quantity, boiling is probably '\n",
            "                             'best. Next time you do some, try adding some '\n",
            "                             'milk to the cooking liquid (about 1/4 of total '\n",
            "                             'liquid). Also, for large quantities, it made be '\n",
            "                             'helpful, however wasteful, to use multiple pots.',\n",
            "                     'type': 'tweak',\n",
            "                     'uniqueId': 'tweak_89695'}],\n",
            "          'pinnedItems': []},\n",
            " 'errors': [],\n",
            " 'params': {'filter': ['type'],\n",
            "            'recipeId': 284999,\n",
            "            'size': 5,\n",
            "            'sort': 'MOST_LIKES_FIRST',\n",
            "            'start': 0,\n",
            "            'type': 'tweak'},\n",
            " 'status': 200,\n",
            " 'total': 2}\n"
          ],
          "name": "stdout"
        }
      ]
    },
    {
      "cell_type": "code",
      "metadata": {
        "id": "nChxOBQtSbtA",
        "colab": {
          "base_uri": "https://localhost:8080/",
          "height": 51
        },
        "outputId": "bcf91933-b30b-452f-d514-ed477e87dfac"
      },
      "source": [
        "pprint(data_['data']['items'][0]['replies'][0]['text'])\n",
        "#memberName, replies, text"
      ],
      "execution_count": null,
      "outputs": [
        {
          "output_type": "stream",
          "text": [
            "('I agree but I also use only an inch of water so the corn mostly steams. '\n",
            " 'Sometimes I use the steamer basket with my pot.')\n"
          ],
          "name": "stdout"
        }
      ]
    },
    {
      "cell_type": "code",
      "metadata": {
        "id": "Mrl6-DnKSQZ3",
        "colab": {
          "base_uri": "https://localhost:8080/",
          "height": 68
        },
        "outputId": "6f3ec0e1-6261-4834-9526-a7df51194f9d"
      },
      "source": [
        "pprint(data_['data']['items'][0]['memberName'])\n",
        "pprint(data_['data']['items'][0]['text'])"
      ],
      "execution_count": null,
      "outputs": [
        {
          "output_type": "stream",
          "text": [
            "(\"Don't overcook fresh corn-on-the-cob or it will become tough. Corn should be \"\n",
            " \"boiled for 5 - 7 minutes (not 10 - 15 minutes), at most. Don't add salt to \"\n",
            " 'the boiling water either because that will also make it tough.')\n"
          ],
          "name": "stdout"
        }
      ]
    },
    {
      "cell_type": "code",
      "metadata": {
        "id": "IBX6M67NT3lP",
        "colab": {
          "base_uri": "https://localhost:8080/",
          "height": 119
        },
        "outputId": "63dedc2d-cf2c-4a1b-87a2-cc9baf2c6ad0"
      },
      "source": [
        "pprint(data_['data']['items'][0]['memberName'])\n",
        "pprint(data_['data']['items'][1]['text'])"
      ],
      "execution_count": null,
      "outputs": [
        {
          "output_type": "stream",
          "text": [
            "'janetleeyoung'\n",
            "('I generally steam my corn on the cob. Sometimes I microwave it in the husk. '\n",
            " 'Both are efficient in terms of energy, water and time. If you need to cook a '\n",
            " 'large quantity, boiling is probably best. Next time you do some, try adding '\n",
            " 'some milk to the cooking liquid (about 1/4 of total liquid). Also, for large '\n",
            " 'quantities, it made be helpful, however wasteful, to use multiple pots.')\n"
          ],
          "name": "stdout"
        }
      ]
    },
    {
      "cell_type": "code",
      "metadata": {
        "id": "GkBGrTOQUZH9",
        "colab": {
          "base_uri": "https://localhost:8080/",
          "height": 241
        },
        "outputId": "51cb09f4-28a6-469d-b3df-4492795813ee"
      },
      "source": [
        "#!/usr/bin/env python3\n",
        "\n",
        "from time import sleep\n",
        "from bs4 import BeautifulSoup\n",
        "import requests\n",
        "from pprint import pprint\n",
        "\n",
        "str = 'https://www.food.com/recipe/corn-on-the-cob-boiled-284999?ftab=tweaks'\n",
        "\n",
        "headers = {\n",
        "    'Connection': 'keep-alive',\n",
        "    'Cache-Control': 'no-cache',\n",
        "    'DNT': '1',\n",
        "    'Upgrade-Insecure-Requests': '1',\n",
        "    'User-Agent': 'Mozilla/5.0 (X11; Linux x86_64) AppleWebKit/537.36 (KHTML, like Gecko) Chrome/83.0.4103.106 Safari/537.36',\n",
        "    'Accept': 'text/html,application/xhtml+xml,application/xml;q=0.9,image/webp,image/apng,*/*;q=0.8,application/signed-exchange;v=b3;q=0.9',\n",
        "    'Sec-Fetch-Site': 'cross-site',\n",
        "    'Sec-Fetch-Mode': 'navigate',\n",
        "    'Sec-Fetch-User': '?1',\n",
        "    'Sec-Fetch-Dest': 'iframe',\n",
        "    'Referer': 'https://www.food.com/recipe/best-ever-bruschetta-443987?ftab=tweaks',\n",
        "    'Accept-Language': 'en-GB,en-US;q=0.9,en;q=0.8',\n",
        "    'authority': 'secure-dcr.imrworldwide.com',\n",
        "    'user-agent': 'Mozilla/5.0 (X11; Linux x86_64) AppleWebKit/537.36 (KHTML, like Gecko) Chrome/83.0.4103.106 Safari/537.36',\n",
        "    'dnt': '1',\n",
        "    'accept': 'image/webp,image/apng,image/*,*/*;q=0.8',\n",
        "    'sec-fetch-site': 'cross-site',\n",
        "    'sec-fetch-mode': 'no-cors',\n",
        "    'sec-fetch-dest': 'image',\n",
        "    'referer': 'https://www.food.com/recipe/best-ever-bruschetta-443987?ftab=tweaks',\n",
        "    'accept-language': 'en-GB,en-US;q=0.9,en;q=0.8',\n",
        "    'if-modified-since': 'Fri, 21 Dec 2012 00:00:01 GMT',\n",
        "    'Origin': 'https://www.food.com',\n",
        "    'If-None-Match': '1.61803398874',\n",
        "    'If-Modified-Since': 'Thu, 16 Jan 2020 15:30:04 GMT',\n",
        "    'if-none-match': 'W/\"5-fLbvuYullyqbUJDcLlF/4U0SywQ\"',\n",
        "    'intervention': '<https://www.chromestatus.com/feature/5718547946799104>; level=\"warning\"',\n",
        "    'content-type': 'application/x-www-form-urlencoded',\n",
        "    'origin': 'https://www.food.com',\n",
        "    'Intervention': '<https://www.chromestatus.com/feature/5718547946799104>; level=\"warning\"',\n",
        "    'cookie': 'SSCVER=v1; IMRID=494b82a0-5007-11ea-9d99-1f1a9b8b42ae',\n",
        "    'x-client-data': 'CLK1yQEIk7bJAQiltskBCKmdygEI/rzKAQ==',\n",
        "    'whisk-timezone': 'Asia/Calcutta',\n",
        "    'authorization': 'Bearer null',\n",
        "    'x-api-key': 'AwUEJIX8j17uBcBz9OT9qlwj48SxeBX6oINoHTd0',\n",
        "    'access-control-request-method': 'GET',\n",
        "    'access-control-request-headers': 'authorization,x-api-key',\n",
        "    'cache-control': 'max-age=0',\n",
        "    'upgrade-insecure-requests': '1',\n",
        "    'Pragma': 'no-cache',\n",
        "}\n",
        "def get_tweaks(recipe_id):\n",
        "    params = ((\"sort\", \"-like\"),)\n",
        "    response = requests.get(\n",
        "        \"https://api.food.com/external/v1/recipes/{}/feed/tweaks\".format(recipe_id),\n",
        "        headers=headers,\n",
        "        params=params,\n",
        "    )\n",
        "    if response.ok:\n",
        "        return response.json()\n",
        "    else:\n",
        "        print(response)\n",
        "        return response.text()\n",
        "\n",
        "\n",
        "recipe_id = 284999  # try 284500!\n",
        "print('\\n')\n",
        "response = requests.get('https://www.food.com/recipe/corn-on-the-cob-boiled-284999?ftab=tweaks')\n",
        "soup = BeautifulSoup(response.content, 'html.parser')\n",
        "print('Title : '+ soup.find(class_='recipe-title').text)\n",
        "data_ = get_tweaks(recipe_id)\n",
        "\n",
        "print('Tweaks : ')\n",
        "print('\\n')\n",
        "pprint(data_['data']['items'][0]['memberName'])\n",
        "print(data_['data']['items'][0]['text'])\n",
        "print('\\n')\n",
        "pprint(data_['data']['items'][1]['memberName'])\n",
        "print(data_['data']['items'][1]['text'])\n",
        "\n"
      ],
      "execution_count": null,
      "outputs": [
        {
          "output_type": "stream",
          "text": [
            "\n",
            "\n",
            "Title : Corn on the Cob - Boiled\n",
            "Tweaks : \n",
            "\n",
            "\n",
            "'janetleeyoung'\n",
            "Don't overcook fresh corn-on-the-cob or it will become tough. Corn should be boiled for 5 - 7 minutes (not 10 - 15 minutes), at most. Don't add salt to the boiling water either because that will also make it tough.\n",
            "\n",
            "\n",
            "'Carl in Boston'\n",
            "I generally steam my corn on the cob. Sometimes I microwave it in the husk. Both are efficient in terms of energy, water and time. If you need to cook a large quantity, boiling is probably best. Next time you do some, try adding some milk to the cooking liquid (about 1/4 of total liquid). Also, for large quantities, it made be helpful, however wasteful, to use multiple pots.\n"
          ],
          "name": "stdout"
        }
      ]
    },
    {
      "cell_type": "code",
      "metadata": {
        "id": "_HVxTKjaduAB"
      },
      "source": [
        ""
      ],
      "execution_count": null,
      "outputs": []
    }
  ]
}