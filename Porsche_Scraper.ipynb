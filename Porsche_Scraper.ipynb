{
  "nbformat": 4,
  "nbformat_minor": 0,
  "metadata": {
    "colab": {
      "name": "Porsche Scraper.ipynb",
      "provenance": [],
      "authorship_tag": "ABX9TyPB7L7Q5WHNLHEw9zCn/lmB",
      "include_colab_link": true
    },
    "kernelspec": {
      "name": "python3",
      "display_name": "Python 3"
    }
  },
  "cells": [
    {
      "cell_type": "markdown",
      "metadata": {
        "id": "view-in-github",
        "colab_type": "text"
      },
      "source": [
        "<a href=\"https://colab.research.google.com/github/dudesparsh/100-days-of-code/blob/master/Porsche_Scraper.ipynb\" target=\"_parent\"><img src=\"https://colab.research.google.com/assets/colab-badge.svg\" alt=\"Open In Colab\"/></a>"
      ]
    },
    {
      "cell_type": "code",
      "metadata": {
        "id": "Rw-6Q7G5zV67"
      },
      "source": [
        "import requests\n",
        "from bs4 import BeautifulSoup\n",
        "import pandas as pd\n",
        "import re\n"
      ],
      "execution_count": null,
      "outputs": []
    },
    {
      "cell_type": "code",
      "metadata": {
        "id": "xRiqFVuw10sH"
      },
      "source": [
        "def car_dict(list_):\n",
        "  listing_dict = {}\n",
        "  listing_dict['image_url'] = list_.img['src']\n",
        "  listing_dict['listing_link'] = list_.find(class_='vehicle-listing-link')['href']\n",
        "  listing_dict['listing_title'] = list_.find(class_='vehicle-listing-link').text.strip()\n",
        "  return listing_dict"
      ],
      "execution_count": null,
      "outputs": []
    },
    {
      "cell_type": "code",
      "metadata": {
        "id": "W30BfIlmqtK0",
        "colab": {
          "base_uri": "https://localhost:8080/",
          "height": 357
        },
        "outputId": "877f7d24-df3a-485e-b8f5-8adeb6e75d89"
      },
      "source": [
        "headers = {\n",
        "    'Connection': 'keep-alive',\n",
        "    'Accept': '*/*',\n",
        "    'DNT': '1',\n",
        "    'X-Requested-With': 'XMLHttpRequest',\n",
        "    'User-Agent': 'Mozilla/5.0 (X11; Linux x86_64) AppleWebKit/537.36 (KHTML, like Gecko) Chrome/84.0.4147.89 Safari/537.36',\n",
        "    'Sec-Fetch-Site': 'same-origin',\n",
        "    'Sec-Fetch-Mode': 'cors',\n",
        "    'Sec-Fetch-Dest': 'empty',\n",
        "    'Referer': 'https://porschevancouver.ca/inventory/used/',\n",
        "    'Accept-Language': 'en-GB,en-US;q=0.9,en;q=0.8',\n",
        "}\n",
        "\n",
        "master_list = []\n",
        "\n",
        "for i in range(1,21):\n",
        "    print('Getting page ' + str(i))\n",
        "    params = (\n",
        "        ('data', str(i)),\n",
        "        ('', ''),\n",
        "    )\n",
        "\n",
        "    response = requests.get('https://porschevancouver.ca/inventory/', headers=headers, params=params)\n",
        "\n",
        "\n",
        "    soup = BeautifulSoup(response.content, 'html.parser')\n",
        "    listing = soup.find_all(class_='vehicle-listing used')\n",
        "\n",
        "    for list_ in listing:\n",
        "      listing = car_dict(list_)\n",
        "      master_list.append(listing)"
      ],
      "execution_count": null,
      "outputs": [
        {
          "output_type": "stream",
          "text": [
            "Getting page 1\n",
            "Getting page 2\n",
            "Getting page 3\n",
            "Getting page 4\n",
            "Getting page 5\n",
            "Getting page 6\n",
            "Getting page 7\n",
            "Getting page 8\n",
            "Getting page 9\n",
            "Getting page 10\n",
            "Getting page 11\n",
            "Getting page 12\n",
            "Getting page 13\n",
            "Getting page 14\n",
            "Getting page 15\n",
            "Getting page 16\n",
            "Getting page 17\n",
            "Getting page 18\n",
            "Getting page 19\n",
            "Getting page 20\n"
          ],
          "name": "stdout"
        }
      ]
    },
    {
      "cell_type": "code",
      "metadata": {
        "id": "z_yD0Z5crvHw"
      },
      "source": [
        ""
      ],
      "execution_count": null,
      "outputs": []
    },
    {
      "cell_type": "code",
      "metadata": {
        "id": "qolnarID0204",
        "colab": {
          "base_uri": "https://localhost:8080/",
          "height": 357
        },
        "outputId": "bf2bcda2-78f3-48a7-fac1-5e7c8cdecce4"
      },
      "source": [
        ""
      ],
      "execution_count": null,
      "outputs": [
        {
          "output_type": "stream",
          "text": [
            "1\n",
            "2\n",
            "3\n",
            "4\n",
            "5\n",
            "6\n",
            "7\n",
            "8\n",
            "9\n",
            "10\n",
            "11\n",
            "12\n",
            "13\n",
            "14\n",
            "15\n",
            "16\n",
            "17\n",
            "18\n",
            "19\n",
            "20\n"
          ],
          "name": "stdout"
        }
      ]
    },
    {
      "cell_type": "code",
      "metadata": {
        "id": "oDim8jzCr0JH"
      },
      "source": [
        "df = pd.DataFrame(master_list)\n",
        "df.head()\n",
        "df.to_csv('porsche.csv', index = False)"
      ],
      "execution_count": null,
      "outputs": []
    }
  ]
}