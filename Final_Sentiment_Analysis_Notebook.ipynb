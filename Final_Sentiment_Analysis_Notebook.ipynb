{
  "nbformat": 4,
  "nbformat_minor": 0,
  "metadata": {
    "colab": {
      "name": "Testing Notebook.ipynb",
      "provenance": [],
      "authorship_tag": "ABX9TyMTTIq5ff2a47jI3VjbqY69",
      "include_colab_link": true
    },
    "kernelspec": {
      "name": "python3",
      "display_name": "Python 3"
    },
    "accelerator": "GPU"
  },
  "cells": [
    {
      "cell_type": "markdown",
      "metadata": {
        "id": "view-in-github",
        "colab_type": "text"
      },
      "source": [
        "<a href=\"https://colab.research.google.com/github/dudesparsh/100-days-of-code/blob/master/Final_Sentiment_Analysis_Notebook.ipynb\" target=\"_parent\"><img src=\"https://colab.research.google.com/assets/colab-badge.svg\" alt=\"Open In Colab\"/></a>"
      ]
    },
    {
      "cell_type": "code",
      "metadata": {
        "id": "-w9gWahFNnB1",
        "colab_type": "code",
        "colab": {}
      },
      "source": [
        "# Importing FastAI\n",
        "from fastai.text import *"
      ],
      "execution_count": 0,
      "outputs": []
    },
    {
      "cell_type": "code",
      "metadata": {
        "id": "7cdWxRnUNxKm",
        "colab_type": "code",
        "outputId": "f7d899f3-9340-4c1a-9a94-e435d0e271b7",
        "colab": {
          "base_uri": "https://localhost:8080/",
          "height": 34
        }
      },
      "source": [
        "# Setting the path  to pwd for later use\n",
        "path = Path('/content')\n",
        "path.ls()\n"
      ],
      "execution_count": 3,
      "outputs": [
        {
          "output_type": "execute_result",
          "data": {
            "text/plain": [
              "[PosixPath('/content/.config'), PosixPath('/content/sample_data')]"
            ]
          },
          "metadata": {
            "tags": []
          },
          "execution_count": 3
        }
      ]
    },
    {
      "cell_type": "markdown",
      "metadata": {
        "id": "8HO8xwtP5MKO",
        "colab_type": "text"
      },
      "source": [
        "## Data Preprocessing"
      ]
    },
    {
      "cell_type": "code",
      "metadata": {
        "id": "1g_GnYA2NzqW",
        "colab_type": "code",
        "outputId": "bb128aad-f4ad-4382-bb29-9c84f811779a",
        "colab": {
          "base_uri": "https://localhost:8080/",
          "height": 204
        }
      },
      "source": [
        "# Taking the given dataset\n",
        "df = pd.read_csv(path/'data_twitter.csv')\n",
        "df.head()\n"
      ],
      "execution_count": 0,
      "outputs": [
        {
          "output_type": "execute_result",
          "data": {
            "text/html": [
              "<div>\n",
              "<style scoped>\n",
              "    .dataframe tbody tr th:only-of-type {\n",
              "        vertical-align: middle;\n",
              "    }\n",
              "\n",
              "    .dataframe tbody tr th {\n",
              "        vertical-align: top;\n",
              "    }\n",
              "\n",
              "    .dataframe thead th {\n",
              "        text-align: right;\n",
              "    }\n",
              "</style>\n",
              "<table border=\"1\" class=\"dataframe\">\n",
              "  <thead>\n",
              "    <tr style=\"text-align: right;\">\n",
              "      <th></th>\n",
              "      <th>text</th>\n",
              "      <th>sentiment</th>\n",
              "      <th>Unnamed: 2</th>\n",
              "    </tr>\n",
              "  </thead>\n",
              "  <tbody>\n",
              "    <tr>\n",
              "      <th>0</th>\n",
              "      <td>#Job #Cambridge Secret shopper position: Bosto...</td>\n",
              "      <td>0</td>\n",
              "      <td>NaN</td>\n",
              "    </tr>\n",
              "    <tr>\n",
              "      <th>1</th>\n",
              "      <td>RT @TheBostonPops President @billclinton Comin...</td>\n",
              "      <td>0</td>\n",
              "      <td>NaN</td>\n",
              "    </tr>\n",
              "    <tr>\n",
              "      <th>2</th>\n",
              "      <td>There's some weirdos down in Boston for real</td>\n",
              "      <td>0</td>\n",
              "      <td>NaN</td>\n",
              "    </tr>\n",
              "    <tr>\n",
              "      <th>3</th>\n",
              "      <td>RT @kcgirl2003 Colin's new boat!! #pendant #bo...</td>\n",
              "      <td>0</td>\n",
              "      <td>NaN</td>\n",
              "    </tr>\n",
              "    <tr>\n",
              "      <th>4</th>\n",
              "      <td>RT @caulkthewagon Now all of mainstream Boston...</td>\n",
              "      <td>0</td>\n",
              "      <td>NaN</td>\n",
              "    </tr>\n",
              "  </tbody>\n",
              "</table>\n",
              "</div>"
            ],
            "text/plain": [
              "                                                text sentiment Unnamed: 2\n",
              "0  #Job #Cambridge Secret shopper position: Bosto...         0        NaN\n",
              "1  RT @TheBostonPops President @billclinton Comin...         0        NaN\n",
              "2       There's some weirdos down in Boston for real         0        NaN\n",
              "3  RT @kcgirl2003 Colin's new boat!! #pendant #bo...         0        NaN\n",
              "4  RT @caulkthewagon Now all of mainstream Boston...         0        NaN"
            ]
          },
          "metadata": {
            "tags": []
          },
          "execution_count": 12
        }
      ]
    },
    {
      "cell_type": "code",
      "metadata": {
        "id": "2i15Q9fKOCL7",
        "colab_type": "code",
        "colab": {}
      },
      "source": [
        "#Dropping the column 2 : Nan values\n",
        "df.drop(df.columns[2], axis = 1, inplace = True) "
      ],
      "execution_count": 0,
      "outputs": []
    },
    {
      "cell_type": "code",
      "metadata": {
        "id": "7mlf3MbeOFF_",
        "colab_type": "code",
        "outputId": "aebaa7b2-7c79-4745-bb98-9e214a7839ce",
        "colab": {
          "base_uri": "https://localhost:8080/",
          "height": 419
        }
      },
      "source": [
        "df"
      ],
      "execution_count": 0,
      "outputs": [
        {
          "output_type": "execute_result",
          "data": {
            "text/html": [
              "<div>\n",
              "<style scoped>\n",
              "    .dataframe tbody tr th:only-of-type {\n",
              "        vertical-align: middle;\n",
              "    }\n",
              "\n",
              "    .dataframe tbody tr th {\n",
              "        vertical-align: top;\n",
              "    }\n",
              "\n",
              "    .dataframe thead th {\n",
              "        text-align: right;\n",
              "    }\n",
              "</style>\n",
              "<table border=\"1\" class=\"dataframe\">\n",
              "  <thead>\n",
              "    <tr style=\"text-align: right;\">\n",
              "      <th></th>\n",
              "      <th>text</th>\n",
              "      <th>sentiment</th>\n",
              "    </tr>\n",
              "  </thead>\n",
              "  <tbody>\n",
              "    <tr>\n",
              "      <th>0</th>\n",
              "      <td>#Job #Cambridge Secret shopper position: Bosto...</td>\n",
              "      <td>0</td>\n",
              "    </tr>\n",
              "    <tr>\n",
              "      <th>1</th>\n",
              "      <td>RT @TheBostonPops President @billclinton Comin...</td>\n",
              "      <td>0</td>\n",
              "    </tr>\n",
              "    <tr>\n",
              "      <th>2</th>\n",
              "      <td>There's some weirdos down in Boston for real</td>\n",
              "      <td>0</td>\n",
              "    </tr>\n",
              "    <tr>\n",
              "      <th>3</th>\n",
              "      <td>RT @kcgirl2003 Colin's new boat!! #pendant #bo...</td>\n",
              "      <td>0</td>\n",
              "    </tr>\n",
              "    <tr>\n",
              "      <th>4</th>\n",
              "      <td>RT @caulkthewagon Now all of mainstream Boston...</td>\n",
              "      <td>0</td>\n",
              "    </tr>\n",
              "    <tr>\n",
              "      <th>...</th>\n",
              "      <td>...</td>\n",
              "      <td>...</td>\n",
              "    </tr>\n",
              "    <tr>\n",
              "      <th>16213</th>\n",
              "      <td>@MzSexxyJas We could be looking at 3 feet of s...</td>\n",
              "      <td>NaN</td>\n",
              "    </tr>\n",
              "    <tr>\n",
              "      <th>16214</th>\n",
              "      <td>\"@MsStacyThatsMe: @4evergraceJONES Lol We're C...</td>\n",
              "      <td>NaN</td>\n",
              "    </tr>\n",
              "    <tr>\n",
              "      <th>16215</th>\n",
              "      <td>RT @BostonDotCom This is according to @AP : Su...</td>\n",
              "      <td>NaN</td>\n",
              "    </tr>\n",
              "    <tr>\n",
              "      <th>16216</th>\n",
              "      <td>Thanks RT @laVisualiza: Boston is truly a beau...</td>\n",
              "      <td>NaN</td>\n",
              "    </tr>\n",
              "    <tr>\n",
              "      <th>16217</th>\n",
              "      <td>@chelseahandler, you're a class act. #PrayForB...</td>\n",
              "      <td>NaN</td>\n",
              "    </tr>\n",
              "  </tbody>\n",
              "</table>\n",
              "<p>16218 rows × 2 columns</p>\n",
              "</div>"
            ],
            "text/plain": [
              "                                                    text sentiment\n",
              "0      #Job #Cambridge Secret shopper position: Bosto...         0\n",
              "1      RT @TheBostonPops President @billclinton Comin...         0\n",
              "2           There's some weirdos down in Boston for real         0\n",
              "3      RT @kcgirl2003 Colin's new boat!! #pendant #bo...         0\n",
              "4      RT @caulkthewagon Now all of mainstream Boston...         0\n",
              "...                                                  ...       ...\n",
              "16213  @MzSexxyJas We could be looking at 3 feet of s...       NaN\n",
              "16214  \"@MsStacyThatsMe: @4evergraceJONES Lol We're C...       NaN\n",
              "16215  RT @BostonDotCom This is according to @AP : Su...       NaN\n",
              "16216  Thanks RT @laVisualiza: Boston is truly a beau...       NaN\n",
              "16217  @chelseahandler, you're a class act. #PrayForB...       NaN\n",
              "\n",
              "[16218 rows x 2 columns]"
            ]
          },
          "metadata": {
            "tags": []
          },
          "execution_count": 14
        }
      ]
    },
    {
      "cell_type": "code",
      "metadata": {
        "id": "EqUXBnOwOHgu",
        "colab_type": "code",
        "outputId": "f1867fe0-ba50-4203-b8af-048819adda20",
        "colab": {
          "base_uri": "https://localhost:8080/",
          "height": 34
        }
      },
      "source": [
        "# Making a sub dataset for testing purpose ( Unlabelled tweets)\n",
        "test_df = df.loc[4000:,:]\n",
        "len(test_df)"
      ],
      "execution_count": 0,
      "outputs": [
        {
          "output_type": "execute_result",
          "data": {
            "text/plain": [
              "12218"
            ]
          },
          "metadata": {
            "tags": []
          },
          "execution_count": 15
        }
      ]
    },
    {
      "cell_type": "code",
      "metadata": {
        "id": "hSG9Z4lci7Sc",
        "colab_type": "code",
        "outputId": "7a615cc8-5d26-4268-890b-065d57b56dbe",
        "colab": {
          "base_uri": "https://localhost:8080/",
          "height": 419
        }
      },
      "source": [
        "test_df"
      ],
      "execution_count": 0,
      "outputs": [
        {
          "output_type": "execute_result",
          "data": {
            "text/html": [
              "<div>\n",
              "<style scoped>\n",
              "    .dataframe tbody tr th:only-of-type {\n",
              "        vertical-align: middle;\n",
              "    }\n",
              "\n",
              "    .dataframe tbody tr th {\n",
              "        vertical-align: top;\n",
              "    }\n",
              "\n",
              "    .dataframe thead th {\n",
              "        text-align: right;\n",
              "    }\n",
              "</style>\n",
              "<table border=\"1\" class=\"dataframe\">\n",
              "  <thead>\n",
              "    <tr style=\"text-align: right;\">\n",
              "      <th></th>\n",
              "      <th>text</th>\n",
              "      <th>sentiment</th>\n",
              "    </tr>\n",
              "  </thead>\n",
              "  <tbody>\n",
              "    <tr>\n",
              "      <th>4000</th>\n",
              "      <td>RT @washtimes LATEST UPDATES: Dzhokhar A. Tsar...</td>\n",
              "      <td>police tracked him by bloody trail  http://t....</td>\n",
              "    </tr>\n",
              "    <tr>\n",
              "      <th>4001</th>\n",
              "      <td>Boston Scientific Corporation (BSX) Profits Be...</td>\n",
              "      <td>Revenues Miss Expectations http://t.co/86r9Z6...</td>\n",
              "    </tr>\n",
              "    <tr>\n",
              "      <th>4002</th>\n",
              "      <td>RT @Yasmeen973 RT @arafrika: #Dagestan and #Ch...</td>\n",
              "      <td>say had nothing to do with the #BostonBombing...</td>\n",
              "    </tr>\n",
              "    <tr>\n",
              "      <th>4003</th>\n",
              "      <td>RT @GlobeMetro BREAKING NEWS: Shots fired in W...</td>\n",
              "      <td>source says Boston Marathon terror bomb suspe...</td>\n",
              "    </tr>\n",
              "    <tr>\n",
              "      <th>4004</th>\n",
              "      <td>BREAKING NEWS: Shots fired in Watertown</td>\n",
              "      <td>source says Boston Marathon terror bomb suspe...</td>\n",
              "    </tr>\n",
              "    <tr>\n",
              "      <th>...</th>\n",
              "      <td>...</td>\n",
              "      <td>...</td>\n",
              "    </tr>\n",
              "    <tr>\n",
              "      <th>16213</th>\n",
              "      <td>@MzSexxyJas We could be looking at 3 feet of s...</td>\n",
              "      <td>NaN</td>\n",
              "    </tr>\n",
              "    <tr>\n",
              "      <th>16214</th>\n",
              "      <td>\"@MsStacyThatsMe: @4evergraceJONES Lol We're C...</td>\n",
              "      <td>NaN</td>\n",
              "    </tr>\n",
              "    <tr>\n",
              "      <th>16215</th>\n",
              "      <td>RT @BostonDotCom This is according to @AP : Su...</td>\n",
              "      <td>NaN</td>\n",
              "    </tr>\n",
              "    <tr>\n",
              "      <th>16216</th>\n",
              "      <td>Thanks RT @laVisualiza: Boston is truly a beau...</td>\n",
              "      <td>NaN</td>\n",
              "    </tr>\n",
              "    <tr>\n",
              "      <th>16217</th>\n",
              "      <td>@chelseahandler, you're a class act. #PrayForB...</td>\n",
              "      <td>NaN</td>\n",
              "    </tr>\n",
              "  </tbody>\n",
              "</table>\n",
              "<p>12218 rows × 2 columns</p>\n",
              "</div>"
            ],
            "text/plain": [
              "                                                    text                                          sentiment\n",
              "4000   RT @washtimes LATEST UPDATES: Dzhokhar A. Tsar...   police tracked him by bloody trail  http://t....\n",
              "4001   Boston Scientific Corporation (BSX) Profits Be...   Revenues Miss Expectations http://t.co/86r9Z6...\n",
              "4002   RT @Yasmeen973 RT @arafrika: #Dagestan and #Ch...   say had nothing to do with the #BostonBombing...\n",
              "4003   RT @GlobeMetro BREAKING NEWS: Shots fired in W...   source says Boston Marathon terror bomb suspe...\n",
              "4004             BREAKING NEWS: Shots fired in Watertown   source says Boston Marathon terror bomb suspe...\n",
              "...                                                  ...                                                ...\n",
              "16213  @MzSexxyJas We could be looking at 3 feet of s...                                                NaN\n",
              "16214  \"@MsStacyThatsMe: @4evergraceJONES Lol We're C...                                                NaN\n",
              "16215  RT @BostonDotCom This is according to @AP : Su...                                                NaN\n",
              "16216  Thanks RT @laVisualiza: Boston is truly a beau...                                                NaN\n",
              "16217  @chelseahandler, you're a class act. #PrayForB...                                                NaN\n",
              "\n",
              "[12218 rows x 2 columns]"
            ]
          },
          "metadata": {
            "tags": []
          },
          "execution_count": 17
        }
      ]
    },
    {
      "cell_type": "code",
      "metadata": {
        "id": "9SiguYPzjCJu",
        "colab_type": "code",
        "outputId": "6699e2a8-53ab-4131-d778-261fc41bafb4",
        "colab": {
          "base_uri": "https://localhost:8080/",
          "height": 122
        }
      },
      "source": [
        "# Dropping the column 1 : label for test set, since it's Nan till now\n",
        "test_df.drop(test_df.columns[1], axis = 1, inplace = True) "
      ],
      "execution_count": 0,
      "outputs": [
        {
          "output_type": "stream",
          "text": [
            "/usr/local/lib/python3.6/dist-packages/pandas/core/frame.py:3997: SettingWithCopyWarning: \n",
            "A value is trying to be set on a copy of a slice from a DataFrame\n",
            "\n",
            "See the caveats in the documentation: https://pandas.pydata.org/pandas-docs/stable/user_guide/indexing.html#returning-a-view-versus-a-copy\n",
            "  errors=errors,\n"
          ],
          "name": "stderr"
        }
      ]
    },
    {
      "cell_type": "code",
      "metadata": {
        "id": "u6MDdcSmiw4c",
        "colab_type": "code",
        "outputId": "2fdebd62-7f07-4067-aac1-e63ca5ca1075",
        "colab": {
          "base_uri": "https://localhost:8080/",
          "height": 419
        }
      },
      "source": [
        "test_df"
      ],
      "execution_count": 0,
      "outputs": [
        {
          "output_type": "execute_result",
          "data": {
            "text/html": [
              "<div>\n",
              "<style scoped>\n",
              "    .dataframe tbody tr th:only-of-type {\n",
              "        vertical-align: middle;\n",
              "    }\n",
              "\n",
              "    .dataframe tbody tr th {\n",
              "        vertical-align: top;\n",
              "    }\n",
              "\n",
              "    .dataframe thead th {\n",
              "        text-align: right;\n",
              "    }\n",
              "</style>\n",
              "<table border=\"1\" class=\"dataframe\">\n",
              "  <thead>\n",
              "    <tr style=\"text-align: right;\">\n",
              "      <th></th>\n",
              "      <th>text</th>\n",
              "    </tr>\n",
              "  </thead>\n",
              "  <tbody>\n",
              "    <tr>\n",
              "      <th>4000</th>\n",
              "      <td>RT @washtimes LATEST UPDATES: Dzhokhar A. Tsar...</td>\n",
              "    </tr>\n",
              "    <tr>\n",
              "      <th>4001</th>\n",
              "      <td>Boston Scientific Corporation (BSX) Profits Be...</td>\n",
              "    </tr>\n",
              "    <tr>\n",
              "      <th>4002</th>\n",
              "      <td>RT @Yasmeen973 RT @arafrika: #Dagestan and #Ch...</td>\n",
              "    </tr>\n",
              "    <tr>\n",
              "      <th>4003</th>\n",
              "      <td>RT @GlobeMetro BREAKING NEWS: Shots fired in W...</td>\n",
              "    </tr>\n",
              "    <tr>\n",
              "      <th>4004</th>\n",
              "      <td>BREAKING NEWS: Shots fired in Watertown</td>\n",
              "    </tr>\n",
              "    <tr>\n",
              "      <th>...</th>\n",
              "      <td>...</td>\n",
              "    </tr>\n",
              "    <tr>\n",
              "      <th>16213</th>\n",
              "      <td>@MzSexxyJas We could be looking at 3 feet of s...</td>\n",
              "    </tr>\n",
              "    <tr>\n",
              "      <th>16214</th>\n",
              "      <td>\"@MsStacyThatsMe: @4evergraceJONES Lol We're C...</td>\n",
              "    </tr>\n",
              "    <tr>\n",
              "      <th>16215</th>\n",
              "      <td>RT @BostonDotCom This is according to @AP : Su...</td>\n",
              "    </tr>\n",
              "    <tr>\n",
              "      <th>16216</th>\n",
              "      <td>Thanks RT @laVisualiza: Boston is truly a beau...</td>\n",
              "    </tr>\n",
              "    <tr>\n",
              "      <th>16217</th>\n",
              "      <td>@chelseahandler, you're a class act. #PrayForB...</td>\n",
              "    </tr>\n",
              "  </tbody>\n",
              "</table>\n",
              "<p>12218 rows × 1 columns</p>\n",
              "</div>"
            ],
            "text/plain": [
              "                                                    text\n",
              "4000   RT @washtimes LATEST UPDATES: Dzhokhar A. Tsar...\n",
              "4001   Boston Scientific Corporation (BSX) Profits Be...\n",
              "4002   RT @Yasmeen973 RT @arafrika: #Dagestan and #Ch...\n",
              "4003   RT @GlobeMetro BREAKING NEWS: Shots fired in W...\n",
              "4004             BREAKING NEWS: Shots fired in Watertown\n",
              "...                                                  ...\n",
              "16213  @MzSexxyJas We could be looking at 3 feet of s...\n",
              "16214  \"@MsStacyThatsMe: @4evergraceJONES Lol We're C...\n",
              "16215  RT @BostonDotCom This is according to @AP : Su...\n",
              "16216  Thanks RT @laVisualiza: Boston is truly a beau...\n",
              "16217  @chelseahandler, you're a class act. #PrayForB...\n",
              "\n",
              "[12218 rows x 1 columns]"
            ]
          },
          "metadata": {
            "tags": []
          },
          "execution_count": 19
        }
      ]
    },
    {
      "cell_type": "code",
      "metadata": {
        "id": "Ajn2nzaXjMUx",
        "colab_type": "code",
        "colab": {}
      },
      "source": [
        "# Saving the file\n",
        "test_df.to_csv('test.csv')"
      ],
      "execution_count": 0,
      "outputs": []
    },
    {
      "cell_type": "code",
      "metadata": {
        "id": "8gKv8OOmjxkK",
        "colab_type": "code",
        "colab": {}
      },
      "source": [
        "#Resetting the index\n",
        "#test_df =test_df.reset_index(drop=True)"
      ],
      "execution_count": 0,
      "outputs": []
    },
    {
      "cell_type": "code",
      "metadata": {
        "id": "pkh-XCTGj2Ct",
        "colab_type": "code",
        "outputId": "de8d7036-4518-49b1-86e1-0af3ca5e3e3a",
        "colab": {
          "base_uri": "https://localhost:8080/",
          "height": 419
        }
      },
      "source": [
        "test_df"
      ],
      "execution_count": 0,
      "outputs": [
        {
          "output_type": "execute_result",
          "data": {
            "text/html": [
              "<div>\n",
              "<style scoped>\n",
              "    .dataframe tbody tr th:only-of-type {\n",
              "        vertical-align: middle;\n",
              "    }\n",
              "\n",
              "    .dataframe tbody tr th {\n",
              "        vertical-align: top;\n",
              "    }\n",
              "\n",
              "    .dataframe thead th {\n",
              "        text-align: right;\n",
              "    }\n",
              "</style>\n",
              "<table border=\"1\" class=\"dataframe\">\n",
              "  <thead>\n",
              "    <tr style=\"text-align: right;\">\n",
              "      <th></th>\n",
              "      <th>text</th>\n",
              "    </tr>\n",
              "  </thead>\n",
              "  <tbody>\n",
              "    <tr>\n",
              "      <th>0</th>\n",
              "      <td>RT @washtimes LATEST UPDATES: Dzhokhar A. Tsar...</td>\n",
              "    </tr>\n",
              "    <tr>\n",
              "      <th>1</th>\n",
              "      <td>Boston Scientific Corporation (BSX) Profits Be...</td>\n",
              "    </tr>\n",
              "    <tr>\n",
              "      <th>2</th>\n",
              "      <td>RT @Yasmeen973 RT @arafrika: #Dagestan and #Ch...</td>\n",
              "    </tr>\n",
              "    <tr>\n",
              "      <th>3</th>\n",
              "      <td>RT @GlobeMetro BREAKING NEWS: Shots fired in W...</td>\n",
              "    </tr>\n",
              "    <tr>\n",
              "      <th>4</th>\n",
              "      <td>BREAKING NEWS: Shots fired in Watertown</td>\n",
              "    </tr>\n",
              "    <tr>\n",
              "      <th>...</th>\n",
              "      <td>...</td>\n",
              "    </tr>\n",
              "    <tr>\n",
              "      <th>12213</th>\n",
              "      <td>@MzSexxyJas We could be looking at 3 feet of s...</td>\n",
              "    </tr>\n",
              "    <tr>\n",
              "      <th>12214</th>\n",
              "      <td>\"@MsStacyThatsMe: @4evergraceJONES Lol We're C...</td>\n",
              "    </tr>\n",
              "    <tr>\n",
              "      <th>12215</th>\n",
              "      <td>RT @BostonDotCom This is according to @AP : Su...</td>\n",
              "    </tr>\n",
              "    <tr>\n",
              "      <th>12216</th>\n",
              "      <td>Thanks RT @laVisualiza: Boston is truly a beau...</td>\n",
              "    </tr>\n",
              "    <tr>\n",
              "      <th>12217</th>\n",
              "      <td>@chelseahandler, you're a class act. #PrayForB...</td>\n",
              "    </tr>\n",
              "  </tbody>\n",
              "</table>\n",
              "<p>12218 rows × 1 columns</p>\n",
              "</div>"
            ],
            "text/plain": [
              "                                                    text\n",
              "0      RT @washtimes LATEST UPDATES: Dzhokhar A. Tsar...\n",
              "1      Boston Scientific Corporation (BSX) Profits Be...\n",
              "2      RT @Yasmeen973 RT @arafrika: #Dagestan and #Ch...\n",
              "3      RT @GlobeMetro BREAKING NEWS: Shots fired in W...\n",
              "4                BREAKING NEWS: Shots fired in Watertown\n",
              "...                                                  ...\n",
              "12213  @MzSexxyJas We could be looking at 3 feet of s...\n",
              "12214  \"@MsStacyThatsMe: @4evergraceJONES Lol We're C...\n",
              "12215  RT @BostonDotCom This is according to @AP : Su...\n",
              "12216  Thanks RT @laVisualiza: Boston is truly a beau...\n",
              "12217  @chelseahandler, you're a class act. #PrayForB...\n",
              "\n",
              "[12218 rows x 1 columns]"
            ]
          },
          "metadata": {
            "tags": []
          },
          "execution_count": 26
        }
      ]
    },
    {
      "cell_type": "code",
      "metadata": {
        "id": "98ZzqOLpj4SL",
        "colab_type": "code",
        "colab": {}
      },
      "source": [
        "#Saving the test data file\n",
        "test_df.to_csv('test.csv')"
      ],
      "execution_count": 0,
      "outputs": []
    },
    {
      "cell_type": "markdown",
      "metadata": {
        "id": "49tFxnlY5YRu",
        "colab_type": "text"
      },
      "source": [
        "## Classification Model Starts"
      ]
    },
    {
      "cell_type": "code",
      "metadata": {
        "id": "b3Cx7J0lDDKQ",
        "colab_type": "code",
        "colab": {}
      },
      "source": [
        "# Using the test set to work further ( Generated above )\n",
        "test_set = pd.read_csv(path/'test.csv')\n"
      ],
      "execution_count": 0,
      "outputs": []
    },
    {
      "cell_type": "code",
      "metadata": {
        "id": "YeqqneLxFgzD",
        "colab_type": "code",
        "colab": {
          "base_uri": "https://localhost:8080/",
          "height": 17
        },
        "outputId": "19c4234e-7615-4a3a-83d3-0c9deb4268c6"
      },
      "source": [
        "\n",
        "# Loading the model saved earlier : export.pkl\n",
        "# Just mention the folder path where the export.pkl is present\n",
        "# Example, Here is was : /content/drive/My Drive/tweeter/export.pkl\n",
        "\n",
        "learn = load_learner('/content/drive/My Drive/tweeter')\n"
      ],
      "execution_count": 6,
      "outputs": [
        {
          "output_type": "display_data",
          "data": {
            "text/html": [
              ""
            ],
            "text/plain": [
              "<IPython.core.display.HTML object>"
            ]
          },
          "metadata": {
            "tags": []
          }
        },
        {
          "output_type": "display_data",
          "data": {
            "text/html": [
              ""
            ],
            "text/plain": [
              "<IPython.core.display.HTML object>"
            ]
          },
          "metadata": {
            "tags": []
          }
        }
      ]
    },
    {
      "cell_type": "code",
      "metadata": {
        "id": "bf1MlMDBInIV",
        "colab_type": "code",
        "colab": {}
      },
      "source": [
        "# Copying data to new dataframe to continue\n",
        "df2 = test_set[\"text\"]\n",
        "\n"
      ],
      "execution_count": 0,
      "outputs": []
    },
    {
      "cell_type": "code",
      "metadata": {
        "id": "cBHeD3Y6JZkM",
        "colab_type": "code",
        "colab": {
          "base_uri": "https://localhost:8080/",
          "height": 221
        },
        "outputId": "06c611e5-8aeb-4f4f-baee-068e9c82f67b"
      },
      "source": [
        "df2"
      ],
      "execution_count": 10,
      "outputs": [
        {
          "output_type": "execute_result",
          "data": {
            "text/plain": [
              "0        RT @washtimes LATEST UPDATES: Dzhokhar A. Tsar...\n",
              "1        Boston Scientific Corporation (BSX) Profits Be...\n",
              "2        RT @Yasmeen973 RT @arafrika: #Dagestan and #Ch...\n",
              "3        RT @GlobeMetro BREAKING NEWS: Shots fired in W...\n",
              "4                  BREAKING NEWS: Shots fired in Watertown\n",
              "                               ...                        \n",
              "12213    @MzSexxyJas We could be looking at 3 feet of s...\n",
              "12214    \"@MsStacyThatsMe: @4evergraceJONES Lol We're C...\n",
              "12215    RT @BostonDotCom This is according to @AP : Su...\n",
              "12216    Thanks RT @laVisualiza: Boston is truly a beau...\n",
              "12217    @chelseahandler, you're a class act. #PrayForB...\n",
              "Name: text, Length: 12218, dtype: object"
            ]
          },
          "metadata": {
            "tags": []
          },
          "execution_count": 10
        }
      ]
    },
    {
      "cell_type": "code",
      "metadata": {
        "id": "nFxhLPFlSE3_",
        "colab_type": "code",
        "colab": {}
      },
      "source": [
        "# Making an empty dataframe where we can store the data\n",
        "test_final = pd.DataFrame()"
      ],
      "execution_count": 0,
      "outputs": []
    },
    {
      "cell_type": "code",
      "metadata": {
        "id": "RIlRJF1tJbAf",
        "colab_type": "code",
        "colab": {}
      },
      "source": [
        "# Doing classification of tweets\n",
        "# learn : Model Name, predict : Function for classifying, df2[] = dataframe, i : Index\n",
        "# Here No of Columns = 12218\n",
        "len = 12218\n",
        "for i in range(len):\n",
        "  test_final[i] = learn.predict(df2[i])    \n"
      ],
      "execution_count": 0,
      "outputs": []
    },
    {
      "cell_type": "code",
      "metadata": {
        "id": "yMQqdSEfJhxc",
        "colab_type": "code",
        "colab": {
          "base_uri": "https://localhost:8080/",
          "height": 196
        },
        "outputId": "6096ba71-f41f-4af4-e1d5-4bf0997381a3"
      },
      "source": [
        "# The dataframe created will be in the below format, so we need to transpose\n",
        "# test_final"
      ],
      "execution_count": 15,
      "outputs": [
        {
          "output_type": "execute_result",
          "data": {
            "text/html": [
              "<div>\n",
              "<style scoped>\n",
              "    .dataframe tbody tr th:only-of-type {\n",
              "        vertical-align: middle;\n",
              "    }\n",
              "\n",
              "    .dataframe tbody tr th {\n",
              "        vertical-align: top;\n",
              "    }\n",
              "\n",
              "    .dataframe thead th {\n",
              "        text-align: right;\n",
              "    }\n",
              "</style>\n",
              "<table border=\"1\" class=\"dataframe\">\n",
              "  <thead>\n",
              "    <tr style=\"text-align: right;\">\n",
              "      <th></th>\n",
              "      <th>0</th>\n",
              "      <th>1</th>\n",
              "      <th>2</th>\n",
              "      <th>3</th>\n",
              "      <th>4</th>\n",
              "      <th>5</th>\n",
              "      <th>6</th>\n",
              "      <th>7</th>\n",
              "      <th>8</th>\n",
              "      <th>9</th>\n",
              "    </tr>\n",
              "  </thead>\n",
              "  <tbody>\n",
              "    <tr>\n",
              "      <th>0</th>\n",
              "      <td>1</td>\n",
              "      <td>0</td>\n",
              "      <td>1</td>\n",
              "      <td>1</td>\n",
              "      <td>1</td>\n",
              "      <td>1</td>\n",
              "      <td>1</td>\n",
              "      <td>0</td>\n",
              "      <td>0</td>\n",
              "      <td>1</td>\n",
              "    </tr>\n",
              "    <tr>\n",
              "      <th>1</th>\n",
              "      <td>tensor(1)</td>\n",
              "      <td>tensor(0)</td>\n",
              "      <td>tensor(1)</td>\n",
              "      <td>tensor(1)</td>\n",
              "      <td>tensor(1)</td>\n",
              "      <td>tensor(1)</td>\n",
              "      <td>tensor(1)</td>\n",
              "      <td>tensor(0)</td>\n",
              "      <td>tensor(0)</td>\n",
              "      <td>tensor(1)</td>\n",
              "    </tr>\n",
              "    <tr>\n",
              "      <th>2</th>\n",
              "      <td>[tensor(5.7138e-07), tensor(1.0000)]</td>\n",
              "      <td>[tensor(0.9701), tensor(0.0299)]</td>\n",
              "      <td>[tensor(0.0010), tensor(0.9990)]</td>\n",
              "      <td>[tensor(6.1257e-05), tensor(0.9999)]</td>\n",
              "      <td>[tensor(6.6978e-05), tensor(0.9999)]</td>\n",
              "      <td>[tensor(3.4367e-05), tensor(1.0000)]</td>\n",
              "      <td>[tensor(4.7770e-05), tensor(1.0000)]</td>\n",
              "      <td>[tensor(0.6125), tensor(0.3875)]</td>\n",
              "      <td>[tensor(0.9763), tensor(0.0237)]</td>\n",
              "      <td>[tensor(0.2542), tensor(0.7458)]</td>\n",
              "    </tr>\n",
              "  </tbody>\n",
              "</table>\n",
              "</div>"
            ],
            "text/plain": [
              "                                      0  ...                                 9\n",
              "0                                     1  ...                                 1\n",
              "1                             tensor(1)  ...                         tensor(1)\n",
              "2  [tensor(5.7138e-07), tensor(1.0000)]  ...  [tensor(0.2542), tensor(0.7458)]\n",
              "\n",
              "[3 rows x 10 columns]"
            ]
          },
          "metadata": {
            "tags": []
          },
          "execution_count": 15
        }
      ]
    },
    {
      "cell_type": "code",
      "metadata": {
        "id": "Z5DzHBwmJjGh",
        "colab_type": "code",
        "colab": {}
      },
      "source": [
        "#Transposing the dataframe\n",
        "test_final = test_final.T"
      ],
      "execution_count": 0,
      "outputs": []
    },
    {
      "cell_type": "code",
      "metadata": {
        "id": "zRpEXiyjYPrU",
        "colab_type": "code",
        "colab": {
          "base_uri": "https://localhost:8080/",
          "height": 419
        },
        "outputId": "314a8415-364e-467c-9fec-aa24e71eea43"
      },
      "source": [
        "# Predicted values, tensor(i) : i represents the class\n",
        "# Columns 2 represents : Probability_of_0, Probability_of_1\n",
        "test_final"
      ],
      "execution_count": 27,
      "outputs": [
        {
          "output_type": "execute_result",
          "data": {
            "text/html": [
              "<div>\n",
              "<style scoped>\n",
              "    .dataframe tbody tr th:only-of-type {\n",
              "        vertical-align: middle;\n",
              "    }\n",
              "\n",
              "    .dataframe tbody tr th {\n",
              "        vertical-align: top;\n",
              "    }\n",
              "\n",
              "    .dataframe thead th {\n",
              "        text-align: right;\n",
              "    }\n",
              "</style>\n",
              "<table border=\"1\" class=\"dataframe\">\n",
              "  <thead>\n",
              "    <tr style=\"text-align: right;\">\n",
              "      <th></th>\n",
              "      <th>0</th>\n",
              "      <th>1</th>\n",
              "      <th>2</th>\n",
              "    </tr>\n",
              "  </thead>\n",
              "  <tbody>\n",
              "    <tr>\n",
              "      <th>0</th>\n",
              "      <td>1</td>\n",
              "      <td>tensor(1)</td>\n",
              "      <td>[tensor(5.7138e-07), tensor(1.0000)]</td>\n",
              "    </tr>\n",
              "    <tr>\n",
              "      <th>1</th>\n",
              "      <td>0</td>\n",
              "      <td>tensor(0)</td>\n",
              "      <td>[tensor(0.9701), tensor(0.0299)]</td>\n",
              "    </tr>\n",
              "    <tr>\n",
              "      <th>2</th>\n",
              "      <td>1</td>\n",
              "      <td>tensor(1)</td>\n",
              "      <td>[tensor(0.0010), tensor(0.9990)]</td>\n",
              "    </tr>\n",
              "    <tr>\n",
              "      <th>3</th>\n",
              "      <td>1</td>\n",
              "      <td>tensor(1)</td>\n",
              "      <td>[tensor(6.1257e-05), tensor(0.9999)]</td>\n",
              "    </tr>\n",
              "    <tr>\n",
              "      <th>4</th>\n",
              "      <td>1</td>\n",
              "      <td>tensor(1)</td>\n",
              "      <td>[tensor(6.6978e-05), tensor(0.9999)]</td>\n",
              "    </tr>\n",
              "    <tr>\n",
              "      <th>...</th>\n",
              "      <td>...</td>\n",
              "      <td>...</td>\n",
              "      <td>...</td>\n",
              "    </tr>\n",
              "    <tr>\n",
              "      <th>12212</th>\n",
              "      <td>1</td>\n",
              "      <td>tensor(1)</td>\n",
              "      <td>[tensor(0.1293), tensor(0.8707)]</td>\n",
              "    </tr>\n",
              "    <tr>\n",
              "      <th>12213</th>\n",
              "      <td>0</td>\n",
              "      <td>tensor(0)</td>\n",
              "      <td>[tensor(0.7429), tensor(0.2571)]</td>\n",
              "    </tr>\n",
              "    <tr>\n",
              "      <th>12214</th>\n",
              "      <td>1</td>\n",
              "      <td>tensor(1)</td>\n",
              "      <td>[tensor(0.0006), tensor(0.9994)]</td>\n",
              "    </tr>\n",
              "    <tr>\n",
              "      <th>12215</th>\n",
              "      <td>1</td>\n",
              "      <td>tensor(1)</td>\n",
              "      <td>[tensor(7.4355e-07), tensor(1.0000)]</td>\n",
              "    </tr>\n",
              "    <tr>\n",
              "      <th>12216</th>\n",
              "      <td>0</td>\n",
              "      <td>tensor(0)</td>\n",
              "      <td>[tensor(0.9992), tensor(0.0008)]</td>\n",
              "    </tr>\n",
              "  </tbody>\n",
              "</table>\n",
              "<p>12217 rows × 3 columns</p>\n",
              "</div>"
            ],
            "text/plain": [
              "       0          1                                     2\n",
              "0      1  tensor(1)  [tensor(5.7138e-07), tensor(1.0000)]\n",
              "1      0  tensor(0)      [tensor(0.9701), tensor(0.0299)]\n",
              "2      1  tensor(1)      [tensor(0.0010), tensor(0.9990)]\n",
              "3      1  tensor(1)  [tensor(6.1257e-05), tensor(0.9999)]\n",
              "4      1  tensor(1)  [tensor(6.6978e-05), tensor(0.9999)]\n",
              "...   ..        ...                                   ...\n",
              "12212  1  tensor(1)      [tensor(0.1293), tensor(0.8707)]\n",
              "12213  0  tensor(0)      [tensor(0.7429), tensor(0.2571)]\n",
              "12214  1  tensor(1)      [tensor(0.0006), tensor(0.9994)]\n",
              "12215  1  tensor(1)  [tensor(7.4355e-07), tensor(1.0000)]\n",
              "12216  0  tensor(0)      [tensor(0.9992), tensor(0.0008)]\n",
              "\n",
              "[12217 rows x 3 columns]"
            ]
          },
          "metadata": {
            "tags": []
          },
          "execution_count": 27
        }
      ]
    },
    {
      "cell_type": "code",
      "metadata": {
        "id": "bGLcq3ktSwyj",
        "colab_type": "code",
        "colab": {}
      },
      "source": [
        "# Naming the columns\n",
        "\n",
        "df2.columns = ['text']\n",
        "\n",
        "test_final.columns = ['sentiment', 'vector', 'probability']"
      ],
      "execution_count": 0,
      "outputs": []
    },
    {
      "cell_type": "code",
      "metadata": {
        "id": "C7RF0hUZUz5E",
        "colab_type": "code",
        "colab": {}
      },
      "source": [
        "# Concatenating the results with the tweets\n",
        "final = pd.concat([df2, test_final], axis=1)"
      ],
      "execution_count": 0,
      "outputs": []
    },
    {
      "cell_type": "code",
      "metadata": {
        "id": "myw3QjkoYX8b",
        "colab_type": "code",
        "colab": {
          "base_uri": "https://localhost:8080/",
          "height": 419
        },
        "outputId": "d20d907d-89ff-4509-888b-bdda447ab4c7"
      },
      "source": [
        "final"
      ],
      "execution_count": 30,
      "outputs": [
        {
          "output_type": "execute_result",
          "data": {
            "text/html": [
              "<div>\n",
              "<style scoped>\n",
              "    .dataframe tbody tr th:only-of-type {\n",
              "        vertical-align: middle;\n",
              "    }\n",
              "\n",
              "    .dataframe tbody tr th {\n",
              "        vertical-align: top;\n",
              "    }\n",
              "\n",
              "    .dataframe thead th {\n",
              "        text-align: right;\n",
              "    }\n",
              "</style>\n",
              "<table border=\"1\" class=\"dataframe\">\n",
              "  <thead>\n",
              "    <tr style=\"text-align: right;\">\n",
              "      <th></th>\n",
              "      <th>text</th>\n",
              "      <th>sentiment</th>\n",
              "      <th>vector</th>\n",
              "      <th>probability</th>\n",
              "    </tr>\n",
              "  </thead>\n",
              "  <tbody>\n",
              "    <tr>\n",
              "      <th>0</th>\n",
              "      <td>RT @washtimes LATEST UPDATES: Dzhokhar A. Tsar...</td>\n",
              "      <td>1</td>\n",
              "      <td>tensor(1)</td>\n",
              "      <td>[tensor(5.7138e-07), tensor(1.0000)]</td>\n",
              "    </tr>\n",
              "    <tr>\n",
              "      <th>1</th>\n",
              "      <td>Boston Scientific Corporation (BSX) Profits Be...</td>\n",
              "      <td>0</td>\n",
              "      <td>tensor(0)</td>\n",
              "      <td>[tensor(0.9701), tensor(0.0299)]</td>\n",
              "    </tr>\n",
              "    <tr>\n",
              "      <th>2</th>\n",
              "      <td>RT @Yasmeen973 RT @arafrika: #Dagestan and #Ch...</td>\n",
              "      <td>1</td>\n",
              "      <td>tensor(1)</td>\n",
              "      <td>[tensor(0.0010), tensor(0.9990)]</td>\n",
              "    </tr>\n",
              "    <tr>\n",
              "      <th>3</th>\n",
              "      <td>RT @GlobeMetro BREAKING NEWS: Shots fired in W...</td>\n",
              "      <td>1</td>\n",
              "      <td>tensor(1)</td>\n",
              "      <td>[tensor(6.1257e-05), tensor(0.9999)]</td>\n",
              "    </tr>\n",
              "    <tr>\n",
              "      <th>4</th>\n",
              "      <td>BREAKING NEWS: Shots fired in Watertown</td>\n",
              "      <td>1</td>\n",
              "      <td>tensor(1)</td>\n",
              "      <td>[tensor(6.6978e-05), tensor(0.9999)]</td>\n",
              "    </tr>\n",
              "    <tr>\n",
              "      <th>...</th>\n",
              "      <td>...</td>\n",
              "      <td>...</td>\n",
              "      <td>...</td>\n",
              "      <td>...</td>\n",
              "    </tr>\n",
              "    <tr>\n",
              "      <th>12213</th>\n",
              "      <td>@MzSexxyJas We could be looking at 3 feet of s...</td>\n",
              "      <td>0</td>\n",
              "      <td>tensor(0)</td>\n",
              "      <td>[tensor(0.7429), tensor(0.2571)]</td>\n",
              "    </tr>\n",
              "    <tr>\n",
              "      <th>12214</th>\n",
              "      <td>\"@MsStacyThatsMe: @4evergraceJONES Lol We're C...</td>\n",
              "      <td>1</td>\n",
              "      <td>tensor(1)</td>\n",
              "      <td>[tensor(0.0006), tensor(0.9994)]</td>\n",
              "    </tr>\n",
              "    <tr>\n",
              "      <th>12215</th>\n",
              "      <td>RT @BostonDotCom This is according to @AP : Su...</td>\n",
              "      <td>1</td>\n",
              "      <td>tensor(1)</td>\n",
              "      <td>[tensor(7.4355e-07), tensor(1.0000)]</td>\n",
              "    </tr>\n",
              "    <tr>\n",
              "      <th>12216</th>\n",
              "      <td>Thanks RT @laVisualiza: Boston is truly a beau...</td>\n",
              "      <td>0</td>\n",
              "      <td>tensor(0)</td>\n",
              "      <td>[tensor(0.9992), tensor(0.0008)]</td>\n",
              "    </tr>\n",
              "    <tr>\n",
              "      <th>12217</th>\n",
              "      <td>@chelseahandler, you're a class act. #PrayForB...</td>\n",
              "      <td>NaN</td>\n",
              "      <td>NaN</td>\n",
              "      <td>NaN</td>\n",
              "    </tr>\n",
              "  </tbody>\n",
              "</table>\n",
              "<p>12218 rows × 4 columns</p>\n",
              "</div>"
            ],
            "text/plain": [
              "                                                    text  ...                           probability\n",
              "0      RT @washtimes LATEST UPDATES: Dzhokhar A. Tsar...  ...  [tensor(5.7138e-07), tensor(1.0000)]\n",
              "1      Boston Scientific Corporation (BSX) Profits Be...  ...      [tensor(0.9701), tensor(0.0299)]\n",
              "2      RT @Yasmeen973 RT @arafrika: #Dagestan and #Ch...  ...      [tensor(0.0010), tensor(0.9990)]\n",
              "3      RT @GlobeMetro BREAKING NEWS: Shots fired in W...  ...  [tensor(6.1257e-05), tensor(0.9999)]\n",
              "4                BREAKING NEWS: Shots fired in Watertown  ...  [tensor(6.6978e-05), tensor(0.9999)]\n",
              "...                                                  ...  ...                                   ...\n",
              "12213  @MzSexxyJas We could be looking at 3 feet of s...  ...      [tensor(0.7429), tensor(0.2571)]\n",
              "12214  \"@MsStacyThatsMe: @4evergraceJONES Lol We're C...  ...      [tensor(0.0006), tensor(0.9994)]\n",
              "12215  RT @BostonDotCom This is according to @AP : Su...  ...  [tensor(7.4355e-07), tensor(1.0000)]\n",
              "12216  Thanks RT @laVisualiza: Boston is truly a beau...  ...      [tensor(0.9992), tensor(0.0008)]\n",
              "12217  @chelseahandler, you're a class act. #PrayForB...  ...                                   NaN\n",
              "\n",
              "[12218 rows x 4 columns]"
            ]
          },
          "metadata": {
            "tags": []
          },
          "execution_count": 30
        }
      ]
    },
    {
      "cell_type": "code",
      "metadata": {
        "id": "is2kBcEQYY9W",
        "colab_type": "code",
        "colab": {}
      },
      "source": [
        "# Saving the classfied_tweets to csv file\n",
        "final.to_csv('final.csv')"
      ],
      "execution_count": 0,
      "outputs": []
    },
    {
      "cell_type": "code",
      "metadata": {
        "id": "eu6qAYzzl9s6",
        "colab_type": "code",
        "colab": {}
      },
      "source": [
        "final.drop(final.columns[[2,3]], axis = 1, inplace = True) "
      ],
      "execution_count": 0,
      "outputs": []
    },
    {
      "cell_type": "code",
      "metadata": {
        "id": "w5OscLn7omfQ",
        "colab_type": "code",
        "colab": {
          "base_uri": "https://localhost:8080/",
          "height": 204
        },
        "outputId": "b2d6e1ef-8800-4f79-af7b-6186953166b1"
      },
      "source": [
        "final.head()"
      ],
      "execution_count": 38,
      "outputs": [
        {
          "output_type": "execute_result",
          "data": {
            "text/html": [
              "<div>\n",
              "<style scoped>\n",
              "    .dataframe tbody tr th:only-of-type {\n",
              "        vertical-align: middle;\n",
              "    }\n",
              "\n",
              "    .dataframe tbody tr th {\n",
              "        vertical-align: top;\n",
              "    }\n",
              "\n",
              "    .dataframe thead th {\n",
              "        text-align: right;\n",
              "    }\n",
              "</style>\n",
              "<table border=\"1\" class=\"dataframe\">\n",
              "  <thead>\n",
              "    <tr style=\"text-align: right;\">\n",
              "      <th></th>\n",
              "      <th>text</th>\n",
              "      <th>sentiment</th>\n",
              "    </tr>\n",
              "  </thead>\n",
              "  <tbody>\n",
              "    <tr>\n",
              "      <th>0</th>\n",
              "      <td>RT @washtimes LATEST UPDATES: Dzhokhar A. Tsar...</td>\n",
              "      <td>1</td>\n",
              "    </tr>\n",
              "    <tr>\n",
              "      <th>1</th>\n",
              "      <td>Boston Scientific Corporation (BSX) Profits Be...</td>\n",
              "      <td>0</td>\n",
              "    </tr>\n",
              "    <tr>\n",
              "      <th>2</th>\n",
              "      <td>RT @Yasmeen973 RT @arafrika: #Dagestan and #Ch...</td>\n",
              "      <td>1</td>\n",
              "    </tr>\n",
              "    <tr>\n",
              "      <th>3</th>\n",
              "      <td>RT @GlobeMetro BREAKING NEWS: Shots fired in W...</td>\n",
              "      <td>1</td>\n",
              "    </tr>\n",
              "    <tr>\n",
              "      <th>4</th>\n",
              "      <td>BREAKING NEWS: Shots fired in Watertown</td>\n",
              "      <td>1</td>\n",
              "    </tr>\n",
              "  </tbody>\n",
              "</table>\n",
              "</div>"
            ],
            "text/plain": [
              "                                                text sentiment\n",
              "0  RT @washtimes LATEST UPDATES: Dzhokhar A. Tsar...         1\n",
              "1  Boston Scientific Corporation (BSX) Profits Be...         0\n",
              "2  RT @Yasmeen973 RT @arafrika: #Dagestan and #Ch...         1\n",
              "3  RT @GlobeMetro BREAKING NEWS: Shots fired in W...         1\n",
              "4            BREAKING NEWS: Shots fired in Watertown         1"
            ]
          },
          "metadata": {
            "tags": []
          },
          "execution_count": 38
        }
      ]
    },
    {
      "cell_type": "code",
      "metadata": {
        "id": "tuPVFPvSo0Fo",
        "colab_type": "code",
        "colab": {}
      },
      "source": [
        "final.columns = ['Text', 'Sentiment']"
      ],
      "execution_count": 0,
      "outputs": []
    },
    {
      "cell_type": "code",
      "metadata": {
        "id": "V8e_GQA7ooT8",
        "colab_type": "code",
        "colab": {}
      },
      "source": [
        "# This is our final file, containing the Tweets with their classification\n",
        "final.to_csv('sentiment_final.csv')"
      ],
      "execution_count": 0,
      "outputs": []
    },
    {
      "cell_type": "code",
      "metadata": {
        "id": "9eeIRMPHpDrG",
        "colab_type": "code",
        "colab": {
          "base_uri": "https://localhost:8080/",
          "height": 419
        },
        "outputId": "c4032fa2-8146-4df7-9afd-db48ec7f9d43"
      },
      "source": [
        "final"
      ],
      "execution_count": 42,
      "outputs": [
        {
          "output_type": "execute_result",
          "data": {
            "text/html": [
              "<div>\n",
              "<style scoped>\n",
              "    .dataframe tbody tr th:only-of-type {\n",
              "        vertical-align: middle;\n",
              "    }\n",
              "\n",
              "    .dataframe tbody tr th {\n",
              "        vertical-align: top;\n",
              "    }\n",
              "\n",
              "    .dataframe thead th {\n",
              "        text-align: right;\n",
              "    }\n",
              "</style>\n",
              "<table border=\"1\" class=\"dataframe\">\n",
              "  <thead>\n",
              "    <tr style=\"text-align: right;\">\n",
              "      <th></th>\n",
              "      <th>Text</th>\n",
              "      <th>Sentiment</th>\n",
              "    </tr>\n",
              "  </thead>\n",
              "  <tbody>\n",
              "    <tr>\n",
              "      <th>0</th>\n",
              "      <td>RT @washtimes LATEST UPDATES: Dzhokhar A. Tsar...</td>\n",
              "      <td>1</td>\n",
              "    </tr>\n",
              "    <tr>\n",
              "      <th>1</th>\n",
              "      <td>Boston Scientific Corporation (BSX) Profits Be...</td>\n",
              "      <td>0</td>\n",
              "    </tr>\n",
              "    <tr>\n",
              "      <th>2</th>\n",
              "      <td>RT @Yasmeen973 RT @arafrika: #Dagestan and #Ch...</td>\n",
              "      <td>1</td>\n",
              "    </tr>\n",
              "    <tr>\n",
              "      <th>3</th>\n",
              "      <td>RT @GlobeMetro BREAKING NEWS: Shots fired in W...</td>\n",
              "      <td>1</td>\n",
              "    </tr>\n",
              "    <tr>\n",
              "      <th>4</th>\n",
              "      <td>BREAKING NEWS: Shots fired in Watertown</td>\n",
              "      <td>1</td>\n",
              "    </tr>\n",
              "    <tr>\n",
              "      <th>...</th>\n",
              "      <td>...</td>\n",
              "      <td>...</td>\n",
              "    </tr>\n",
              "    <tr>\n",
              "      <th>12213</th>\n",
              "      <td>@MzSexxyJas We could be looking at 3 feet of s...</td>\n",
              "      <td>0</td>\n",
              "    </tr>\n",
              "    <tr>\n",
              "      <th>12214</th>\n",
              "      <td>\"@MsStacyThatsMe: @4evergraceJONES Lol We're C...</td>\n",
              "      <td>1</td>\n",
              "    </tr>\n",
              "    <tr>\n",
              "      <th>12215</th>\n",
              "      <td>RT @BostonDotCom This is according to @AP : Su...</td>\n",
              "      <td>1</td>\n",
              "    </tr>\n",
              "    <tr>\n",
              "      <th>12216</th>\n",
              "      <td>Thanks RT @laVisualiza: Boston is truly a beau...</td>\n",
              "      <td>0</td>\n",
              "    </tr>\n",
              "    <tr>\n",
              "      <th>12217</th>\n",
              "      <td>@chelseahandler, you're a class act. #PrayForB...</td>\n",
              "      <td>NaN</td>\n",
              "    </tr>\n",
              "  </tbody>\n",
              "</table>\n",
              "<p>12218 rows × 2 columns</p>\n",
              "</div>"
            ],
            "text/plain": [
              "                                                    Text Sentiment\n",
              "0      RT @washtimes LATEST UPDATES: Dzhokhar A. Tsar...         1\n",
              "1      Boston Scientific Corporation (BSX) Profits Be...         0\n",
              "2      RT @Yasmeen973 RT @arafrika: #Dagestan and #Ch...         1\n",
              "3      RT @GlobeMetro BREAKING NEWS: Shots fired in W...         1\n",
              "4                BREAKING NEWS: Shots fired in Watertown         1\n",
              "...                                                  ...       ...\n",
              "12213  @MzSexxyJas We could be looking at 3 feet of s...         0\n",
              "12214  \"@MsStacyThatsMe: @4evergraceJONES Lol We're C...         1\n",
              "12215  RT @BostonDotCom This is according to @AP : Su...         1\n",
              "12216  Thanks RT @laVisualiza: Boston is truly a beau...         0\n",
              "12217  @chelseahandler, you're a class act. #PrayForB...       NaN\n",
              "\n",
              "[12218 rows x 2 columns]"
            ]
          },
          "metadata": {
            "tags": []
          },
          "execution_count": 42
        }
      ]
    },
    {
      "cell_type": "markdown",
      "metadata": {
        "id": "rHEVHZ3U18De",
        "colab_type": "text"
      },
      "source": [
        "## Data Analysis "
      ]
    },
    {
      "cell_type": "code",
      "metadata": {
        "id": "R5InsR0rtSbA",
        "colab_type": "code",
        "colab": {
          "base_uri": "https://localhost:8080/",
          "height": 51
        },
        "outputId": "f0c6eb97-b57b-44a5-b7e5-c28363e87cf5"
      },
      "source": [
        "# Since the datatype of sentiment is object, we need to convert it to integer or float to work further\n",
        "# We convert if to string\n",
        "dataTypeObj = final.dtypes['Sentiment']\n",
        "print('Data type of each column Sentiment in the Dataframe :')\n",
        "print(dataTypeObj)"
      ],
      "execution_count": 48,
      "outputs": [
        {
          "output_type": "stream",
          "text": [
            "Data type of each column Sentiment in the Dataframe :\n",
            "object\n"
          ],
          "name": "stdout"
        }
      ]
    },
    {
      "cell_type": "code",
      "metadata": {
        "id": "XJx3CrBFtyXb",
        "colab_type": "code",
        "colab": {
          "base_uri": "https://localhost:8080/",
          "height": 68
        },
        "outputId": "4a9e0a6d-834a-4bc5-a806-ddf91c2b365c"
      },
      "source": [
        "final[\"Sentiment\"] = final[\"Sentiment\"].astype(str)\n",
        "print(final.dtypes)\n"
      ],
      "execution_count": 54,
      "outputs": [
        {
          "output_type": "stream",
          "text": [
            "Text         object\n",
            "Sentiment    object\n",
            "dtype: object\n"
          ],
          "name": "stdout"
        }
      ]
    },
    {
      "cell_type": "code",
      "metadata": {
        "id": "3LyYFV6yru26",
        "colab_type": "code",
        "colab": {}
      },
      "source": [
        "#Analyzing text statistics\n",
        "# Number of characters present in each tweet\n",
        "#final_1 corresponds to Tweet classified as 1\n",
        "final_1 = final.loc[final['Sentiment'] == '0'] \n",
        "final_0 = final.loc[final['Sentiment'] == '1'] \n",
        "\n"
      ],
      "execution_count": 0,
      "outputs": []
    },
    {
      "cell_type": "markdown",
      "metadata": {
        "id": "PaDwOLNy2Y_c",
        "colab_type": "text"
      },
      "source": [
        "\n",
        "\n",
        "###final_1 corresponds to Tweet classified as 1\n",
        "###final_0 corresponds to Tweet classified as 0\n"
      ]
    },
    {
      "cell_type": "code",
      "metadata": {
        "id": "SDgEfrHQryD2",
        "colab_type": "code",
        "colab": {
          "base_uri": "https://localhost:8080/",
          "height": 282
        },
        "outputId": "8094fc5d-4bac-461c-eafb-06977189315f"
      },
      "source": [
        "# Analysing length of tweets\n",
        "final_1['Text'].str.len().hist()\n",
        "final_0['Text'].str.len().hist()\n",
        "# Orange : 0 , Blue : 1"
      ],
      "execution_count": 58,
      "outputs": [
        {
          "output_type": "execute_result",
          "data": {
            "text/plain": [
              "<matplotlib.axes._subplots.AxesSubplot at 0x7f1b3b31db00>"
            ]
          },
          "metadata": {
            "tags": []
          },
          "execution_count": 58
        },
        {
          "output_type": "display_data",
          "data": {
            "image/png": "[encoded data removed]",
            "text/plain": [
              "<Figure size 432x288 with 1 Axes>"
            ]
          },
          "metadata": {
            "tags": [],
            "needs_background": "light"
          }
        }
      ]
    },
    {
      "cell_type": "code",
      "metadata": {
        "id": "LnkIdN2GucNH",
        "colab_type": "code",
        "colab": {}
      },
      "source": [
        "import matplotlib.pyplot as plt\n",
        "import nltk\n",
        "from nltk.corpus import stopwords\n",
        "import matplotlib.pyplot as plt\n",
        "import numpy as np\n",
        "from nltk.corpus import stopwords\n",
        "nltk.download('stopwords')\n"
      ],
      "execution_count": 0,
      "outputs": []
    },
    {
      "cell_type": "code",
      "metadata": {
        "id": "G8IwM52YvZ4C",
        "colab_type": "code",
        "colab": {
          "base_uri": "https://localhost:8080/",
          "height": 282
        },
        "outputId": "0152ca93-4bbc-4b7d-989d-0f3caf8a2977"
      },
      "source": [
        "# For generating histogram for only one category : 0\n",
        "#final_0['Text'].str.len().hist()\n"
      ],
      "execution_count": 62,
      "outputs": [
        {
          "output_type": "execute_result",
          "data": {
            "text/plain": [
              "<matplotlib.axes._subplots.AxesSubplot at 0x7f1b3b05a978>"
            ]
          },
          "metadata": {
            "tags": []
          },
          "execution_count": 62
        },
        {
          "output_type": "display_data",
          "data": {
            "image/png": "[encoded data removed]",
            "text/plain": [
              "<Figure size 432x288 with 1 Axes>"
            ]
          },
          "metadata": {
            "tags": [],
            "needs_background": "light"
          }
        }
      ]
    },
    {
      "cell_type": "code",
      "metadata": {
        "id": "LPrhQ_kTwkEJ",
        "colab_type": "code",
        "colab": {}
      },
      "source": [
        "# Function for the stopword chart\n",
        "def plot_top_stopwords_barchart(text):\n",
        "    stop=set(stopwords.words('english'))\n",
        "    \n",
        "    new= text.str.split()\n",
        "    new=new.values.tolist()\n",
        "    corpus=[word for i in new for word in i]\n",
        "    from collections import defaultdict\n",
        "    dic=defaultdict(int)\n",
        "    for word in corpus:\n",
        "        if word in stop:\n",
        "            dic[word]+=1\n",
        "            \n",
        "    top=sorted(dic.items(), key=lambda x:x[1],reverse=True)[:10] \n",
        "    x,y=zip(*top)\n",
        "    plt.bar(x,y)\n"
      ],
      "execution_count": 0,
      "outputs": []
    },
    {
      "cell_type": "markdown",
      "metadata": {
        "id": "NXiq4VFb3Uy6",
        "colab_type": "text"
      },
      "source": [
        " ## Stopwords\n",
        "Stopwords are the words that are most commonly used in any language such as : a, in , the"
      ]
    },
    {
      "cell_type": "code",
      "metadata": {
        "id": "P0DiGLJNwwSZ",
        "colab_type": "code",
        "colab": {
          "base_uri": "https://localhost:8080/",
          "height": 265
        },
        "outputId": "bd06b6b4-a786-43cd-9569-22897228a37a"
      },
      "source": [
        "# Stopwords for category 1\n",
        "plot_top_stopwords_barchart(final_1['Text'])\n"
      ],
      "execution_count": 77,
      "outputs": [
        {
          "output_type": "display_data",
          "data": {
            "image/png": "[encoded data removed]",
            "text/plain": [
              "<Figure size 432x288 with 1 Axes>"
            ]
          },
          "metadata": {
            "tags": [],
            "needs_background": "light"
          }
        }
      ]
    },
    {
      "cell_type": "code",
      "metadata": {
        "id": "JdyeGRe5xkiH",
        "colab_type": "code",
        "colab": {
          "base_uri": "https://localhost:8080/",
          "height": 265
        },
        "outputId": "da54ac67-fa09-4f3e-eb94-9e4fb5f9ed2f"
      },
      "source": [
        "# Stopwords for category 1\n",
        "\n",
        "plot_top_stopwords_barchart(final_0['Text'])\n"
      ],
      "execution_count": 78,
      "outputs": [
        {
          "output_type": "display_data",
          "data": {
            "image/png": "[encoded data removed]",
            "text/plain": [
              "<Figure size 432x288 with 1 Axes>"
            ]
          },
          "metadata": {
            "tags": [],
            "needs_background": "light"
          }
        }
      ]
    },
    {
      "cell_type": "code",
      "metadata": {
        "id": "-urqOryQ3nF6",
        "colab_type": "code",
        "colab": {
          "base_uri": "https://localhost:8080/",
          "height": 265
        },
        "outputId": "a3d8acd4-174d-480a-b526-2936ee426746"
      },
      "source": [
        "plot_top_stopwords_barchart(final_1['Text'])\n",
        "plot_top_stopwords_barchart(final_0['Text'])\n",
        "# 0 : Orange, 1 : Blue"
      ],
      "execution_count": 90,
      "outputs": [
        {
          "output_type": "display_data",
          "data": {
            "image/png": "[encoded data removed]",
            "text/plain": [
              "<Figure size 432x288 with 1 Axes>"
            ]
          },
          "metadata": {
            "tags": [],
            "needs_background": "light"
          }
        }
      ]
    },
    {
      "cell_type": "code",
      "metadata": {
        "id": "W0KN77dYxoZA",
        "colab_type": "code",
        "colab": {
          "base_uri": "https://localhost:8080/",
          "height": 71
        },
        "outputId": "fe6fa8a0-e9c2-4754-e579-f62b9bcbbee6"
      },
      "source": [
        "# Code Snippet for Top Non-Stopwords Barchart\n",
        "\n",
        "import seaborn as sns\n",
        "from nltk.corpus import stopwords\n",
        "from collections import  Counter\n",
        "\n",
        "def plot_top_non_stopwords_barchart(text):\n",
        "    stop=set(stopwords.words('english'))\n",
        "    \n",
        "    new= text.str.split()\n",
        "    new=new.values.tolist()\n",
        "    corpus=[word for i in new for word in i]\n",
        "\n",
        "    counter=Counter(corpus)\n",
        "    most=counter.most_common()\n",
        "    x, y=[], []\n",
        "    for word,count in most[:40]:\n",
        "        if (word not in stop):\n",
        "            x.append(word)\n",
        "            y.append(count)\n",
        "            \n",
        "    sns.barplot(x=y,y=x)\n"
      ],
      "execution_count": 80,
      "outputs": [
        {
          "output_type": "stream",
          "text": [
            "/usr/local/lib/python3.6/dist-packages/statsmodels/tools/_testing.py:19: FutureWarning: pandas.util.testing is deprecated. Use the functions in the public API at pandas.testing instead.\n",
            "  import pandas.util.testing as tm\n"
          ],
          "name": "stderr"
        }
      ]
    },
    {
      "cell_type": "code",
      "metadata": {
        "id": "Dt0HfbJVxxT4",
        "colab_type": "code",
        "colab": {
          "base_uri": "https://localhost:8080/",
          "height": 265
        },
        "outputId": "74a885c1-17bf-41b1-f007-c7ed8cab0d15"
      },
      "source": [
        "# Plot for non stopwords : Category : 1\n",
        "plot_top_non_stopwords_barchart(final_1['Text'])\n"
      ],
      "execution_count": 81,
      "outputs": [
        {
          "output_type": "display_data",
          "data": {
            "image/png": "[encoded data removed]",
            "text/plain": [
              "<Figure size 432x288 with 1 Axes>"
            ]
          },
          "metadata": {
            "tags": [],
            "needs_background": "light"
          }
        }
      ]
    },
    {
      "cell_type": "code",
      "metadata": {
        "id": "sxsV3xtcyBZ0",
        "colab_type": "code",
        "colab": {
          "base_uri": "https://localhost:8080/",
          "height": 265
        },
        "outputId": "12f2cd41-0760-4cac-ded3-9013a3873815"
      },
      "source": [
        "# Plot for non stopwords : Category : 2\n",
        "\n",
        "plot_top_non_stopwords_barchart(final_0['Text'])\n"
      ],
      "execution_count": 82,
      "outputs": [
        {
          "output_type": "display_data",
          "data": {
            "image/png": "[encoded data removed]",
            "text/plain": [
              "<Figure size 432x288 with 1 Axes>"
            ]
          },
          "metadata": {
            "tags": [],
            "needs_background": "light"
          }
        }
      ]
    },
    {
      "cell_type": "markdown",
      "metadata": {
        "id": "B2vXuq_94GPW",
        "colab_type": "text"
      },
      "source": [
        "#Ngram exploration\n",
        "\n",
        "Ngrams are simply contiguous sequences of n words. For example “riverbank”, ” The three roads” etc.\n",
        "\n",
        "Looking at most frequent n-grams can give you a better understanding of the context in which the word was used.\n"
      ]
    },
    {
      "cell_type": "code",
      "metadata": {
        "id": "tsKo2NfWyEF7",
        "colab_type": "code",
        "colab": {}
      },
      "source": [
        "# Code Snippet for Top N-grams Barchart\n",
        "\n",
        "import seaborn as sns\n",
        "import numpy as np\n",
        "from nltk.corpus import stopwords\n",
        "from sklearn.feature_extraction.text import CountVectorizer\n",
        "from collections import  Counter\n",
        "\n",
        "def plot_top_ngrams_barchart(text, n=2):\n",
        "    stop=set(stopwords.words('english'))\n",
        "\n",
        "    new= text.str.split()\n",
        "    new=new.values.tolist()\n",
        "    corpus=[word for i in new for word in i]\n",
        "\n",
        "    def _get_top_ngram(corpus, n=None):\n",
        "        vec = CountVectorizer(ngram_range=(n, n)).fit(corpus)\n",
        "        bag_of_words = vec.transform(corpus)\n",
        "        sum_words = bag_of_words.sum(axis=0) \n",
        "        words_freq = [(word, sum_words[0, idx]) \n",
        "                      for word, idx in vec.vocabulary_.items()]\n",
        "        words_freq =sorted(words_freq, key = lambda x: x[1], reverse=True)\n",
        "        return words_freq[:10]\n",
        "\n",
        "    top_n_bigrams=_get_top_ngram(text,n)[:10]\n",
        "    x,y=map(list,zip(*top_n_bigrams))\n",
        "    sns.barplot(x=y,y=x)\n"
      ],
      "execution_count": 0,
      "outputs": []
    },
    {
      "cell_type": "code",
      "metadata": {
        "id": "OLRI4ia9yZSU",
        "colab_type": "code",
        "colab": {
          "base_uri": "https://localhost:8080/",
          "height": 265
        },
        "outputId": "d32e7a67-2091-4915-b3a6-e8735ded2d01"
      },
      "source": [
        "# n-gram : plot_top_ngrams_barchart(dataframe, n)\n",
        "# n =2 bigrams\n",
        "# Here n = 3 : trigrams\n",
        "# n-gram for Class : 1 \n",
        "plot_top_ngrams_barchart(final_1['Text'],3)\n"
      ],
      "execution_count": 89,
      "outputs": [
        {
          "output_type": "display_data",
          "data": {
            "image/png": "[encoded data removed]",
            "text/plain": [
              "<Figure size 432x288 with 1 Axes>"
            ]
          },
          "metadata": {
            "tags": [],
            "needs_background": "light"
          }
        }
      ]
    },
    {
      "cell_type": "code",
      "metadata": {
        "id": "g_zXflIZydhf",
        "colab_type": "code",
        "colab": {
          "base_uri": "https://localhost:8080/",
          "height": 265
        },
        "outputId": "03a5b936-1d38-43f4-c7a7-2e20d5068f1a"
      },
      "source": [
        "# n-gram for Class : 0\n",
        "\n",
        "plot_top_ngrams_barchart(final_0['Text'],3)\n"
      ],
      "execution_count": 88,
      "outputs": [
        {
          "output_type": "display_data",
          "data": {
            "image/png": "[encoded data removed]",
            "text/plain": [
              "<Figure size 432x288 with 1 Axes>"
            ]
          },
          "metadata": {
            "tags": [],
            "needs_background": "light"
          }
        }
      ]
    }
  ]
}