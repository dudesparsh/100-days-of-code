{
  "nbformat": 4,
  "nbformat_minor": 0,
  "metadata": {
    "colab": {
      "name": "TextBlob Sentiment Analysis.ipynb",
      "provenance": [],
      "authorship_tag": "ABX9TyPQxLvgXs6Nq7uoT/dRDBqt",
      "include_colab_link": true
    },
    "kernelspec": {
      "name": "python3",
      "display_name": "Python 3"
    }
  },
  "cells": [
    {
      "cell_type": "markdown",
      "metadata": {
        "id": "view-in-github",
        "colab_type": "text"
      },
      "source": [
        "<a href=\"https://colab.research.google.com/github/dudesparsh/100-days-of-code/blob/master/TextBlob_Sentiment_Analysis.ipynb\" target=\"_parent\"><img src=\"https://colab.research.google.com/assets/colab-badge.svg\" alt=\"Open In Colab\"/></a>"
      ]
    },
    {
      "cell_type": "code",
      "metadata": {
        "colab": {
          "base_uri": "https://localhost:8080/"
        },
        "id": "IfQyIiAurTOO",
        "outputId": "5adb012f-a35a-46fc-f721-c4178177fbe6"
      },
      "source": [
        "# !pip install textblob"
      ],
      "execution_count": null,
      "outputs": [
        {
          "output_type": "stream",
          "text": [
            "Requirement already satisfied: textblob in /usr/local/lib/python3.6/dist-packages (0.15.3)\n",
            "Requirement already satisfied: nltk>=3.1 in /usr/local/lib/python3.6/dist-packages (from textblob) (3.2.5)\n",
            "Requirement already satisfied: six in /usr/local/lib/python3.6/dist-packages (from nltk>=3.1->textblob) (1.15.0)\n"
          ],
          "name": "stdout"
        }
      ]
    },
    {
      "cell_type": "code",
      "metadata": {
        "colab": {
          "base_uri": "https://localhost:8080/"
        },
        "id": "8AveuJmVrK2V",
        "outputId": "ccdba647-f207-4006-cd92-66bca40bb8d6"
      },
      "source": [
        "from textblob import TextBlob\n",
        "\n",
        "sentence_pos = 'This is a positive sentence. The world is a good place.'\n",
        "sentence_neu = 'This is a neutral sentence. The solour of the sky is blue.'\n",
        "sentence_neg = 'This is a negative sentence. The world is a bad place after lockdown.'\n",
        "\n",
        "analysis_pos = TextBlob(sentence_pos).sentiment.polarity\n",
        "print(analysis_pos)\n",
        "analysis_neu = TextBlob(sentence_neu).sentiment.polarity\n",
        "print(analysis_neu)\n",
        "analysis_neg = TextBlob(sentence_neg).sentiment.polarity\n",
        "print(analysis_neg)"
      ],
      "execution_count": null,
      "outputs": [
        {
          "output_type": "stream",
          "text": [
            "0.4636363636363636\n",
            "0.0\n",
            "-0.4999999999999999\n"
          ],
          "name": "stdout"
        }
      ]
    },
    {
      "cell_type": "code",
      "metadata": {
        "id": "ISm0BvO2rav5"
      },
      "source": [
        ""
      ],
      "execution_count": null,
      "outputs": []
    }
  ]
}